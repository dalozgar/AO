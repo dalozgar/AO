{
  "nbformat": 4,
  "nbformat_minor": 0,
  "metadata": {
    "colab": {
      "name": "DAVID ANGEL LOZANO GARCIA Seminario - Algoritmos.ipynb",
      "provenance": [],
      "collapsed_sections": [],
      "include_colab_link": true
    },
    "kernelspec": {
      "name": "python3",
      "display_name": "Python 3"
    }
  },
  "cells": [
    {
      "cell_type": "markdown",
      "metadata": {
        "id": "view-in-github",
        "colab_type": "text"
      },
      "source": [
        "<a href=\"https://colab.research.google.com/github/dalozgar/AO/blob/main/DAVID_ANGEL_LOZANO_GARCIA_Seminario_Algoritmos.ipynb\" target=\"_parent\"><img src=\"https://colab.research.google.com/assets/colab-badge.svg\" alt=\"Open In Colab\"/></a>"
      ]
    },
    {
      "cell_type": "markdown",
      "metadata": {
        "id": "hVbXYX-RfPWh"
      },
      "source": [
        "# Algoritmos de optimización - Seminario<br>\n",
        "Nombre y Apellidos: DAVID ÁNGEL LOZANO GARCÍA <br>\n",
        "Url: https://github.com/.../03MAIR---Algoritmos-de-Optimizacion---2019/tree/master/SEMINARIO<br>\n",
        "Problema:\n",
        "> 1. Sesiones de doblaje <br>\n",
        "\n",
        "Descripción del problema:\n",
        "\n",
        "Se precisa coordinar el doblaje de una película. Los actores del doblaje deben coincidir en las tomas en las que sus personajes aparecen juntos en las diferentes tomas. Los actores de doblaje cobran todos la misma cantidad por cada día que deben desplazarse hasta el estudio de grabación independientemente del número de tomas que se graben. No es posible grabar más de 6 tomas por día. El objetivo es planificar las sesiones por día de manera que el gasto por los\n",
        "servicios de los actores de doblaje sea el menor posible. \n",
        "\n",
        "Los datos son:\n",
        "Número de actores: 10\n",
        "Número de tomas : 30\n",
        "Actores/Tomas: https://bit.ly/36D8IuK\n",
        "- 1 indica que el actor participa en la toma\n",
        "- 0 en caso contrario\n",
        "\n",
        "                                        "
      ]
    },
    {
      "cell_type": "code",
      "source": [
        ""
      ],
      "metadata": {
        "id": "kMEFBBzaFAOU"
      },
      "execution_count": 45,
      "outputs": []
    },
    {
      "cell_type": "markdown",
      "source": [
        "# Adquisición y limpieza de los datos de entrada\n",
        "\n",
        " Antes que nada, procederemos a adquirir de la url facilitada el conjunto de datos de entrada, que habrá que limpiar y formatear adecuadamente para su posterior procesamiento."
      ],
      "metadata": {
        "id": "yCWzeh-6FAm4"
      }
    },
    {
      "cell_type": "code",
      "source": [
        "\n",
        "import os\n",
        "import pandas as pd\n",
        "\n",
        "\n",
        "#public URL\n",
        "#https://docs.google.com/spreadsheets/d/1Ipn6IrbQP4ax8zOnivdBIw2lN0JISkJG4fXndYd27U0/edit#gid=0\n",
        "\n",
        "#get spreadsheets key from url\n",
        "gsheetkey = \"1Ipn6IrbQP4ax8zOnivdBIw2lN0JISkJG4fXndYd27U0\"\n",
        "\n",
        "#sheet name\n",
        "sheet_name = 'Hoja 1'\n",
        "\n",
        "url=f'https://docs.google.com/spreadsheet/ccc?key={gsheetkey}&output=xlsx'\n",
        "df = pd.read_excel(url,sheet_name=sheet_name, index_col=0)\n",
        "display(df.head(5))"
      ],
      "metadata": {
        "id": "nZxRrv-QFquK",
        "colab": {
          "base_uri": "https://localhost:8080/",
          "height": 267
        },
        "outputId": "ea19c94e-3b66-43bd-f94e-a17dfa1d8d0e"
      },
      "execution_count": 46,
      "outputs": [
        {
          "output_type": "display_data",
          "data": {
            "text/html": [
              "\n",
              "  <div id=\"df-3a46e895-a3cd-49aa-ad23-9163e096b9b7\">\n",
              "    <div class=\"colab-df-container\">\n",
              "      <div>\n",
              "<style scoped>\n",
              "    .dataframe tbody tr th:only-of-type {\n",
              "        vertical-align: middle;\n",
              "    }\n",
              "\n",
              "    .dataframe tbody tr th {\n",
              "        vertical-align: top;\n",
              "    }\n",
              "\n",
              "    .dataframe thead th {\n",
              "        text-align: right;\n",
              "    }\n",
              "</style>\n",
              "<table border=\"1\" class=\"dataframe\">\n",
              "  <thead>\n",
              "    <tr style=\"text-align: right;\">\n",
              "      <th></th>\n",
              "      <th>Actor</th>\n",
              "      <th>Unnamed: 2</th>\n",
              "      <th>Unnamed: 3</th>\n",
              "      <th>Unnamed: 4</th>\n",
              "      <th>Unnamed: 5</th>\n",
              "      <th>Unnamed: 6</th>\n",
              "      <th>Unnamed: 7</th>\n",
              "      <th>Unnamed: 8</th>\n",
              "      <th>Unnamed: 9</th>\n",
              "      <th>Unnamed: 10</th>\n",
              "      <th>Unnamed: 11</th>\n",
              "      <th>Unnamed: 12</th>\n",
              "    </tr>\n",
              "  </thead>\n",
              "  <tbody>\n",
              "    <tr>\n",
              "      <th>Toma</th>\n",
              "      <td>1.0</td>\n",
              "      <td>2.0</td>\n",
              "      <td>3.0</td>\n",
              "      <td>4.0</td>\n",
              "      <td>5.0</td>\n",
              "      <td>6.0</td>\n",
              "      <td>7.0</td>\n",
              "      <td>8.0</td>\n",
              "      <td>9.0</td>\n",
              "      <td>10.0</td>\n",
              "      <td>NaN</td>\n",
              "      <td>Total</td>\n",
              "    </tr>\n",
              "    <tr>\n",
              "      <th>1.0</th>\n",
              "      <td>1.0</td>\n",
              "      <td>1.0</td>\n",
              "      <td>1.0</td>\n",
              "      <td>1.0</td>\n",
              "      <td>1.0</td>\n",
              "      <td>0.0</td>\n",
              "      <td>0.0</td>\n",
              "      <td>0.0</td>\n",
              "      <td>0.0</td>\n",
              "      <td>0.0</td>\n",
              "      <td>NaN</td>\n",
              "      <td>5.0</td>\n",
              "    </tr>\n",
              "    <tr>\n",
              "      <th>2.0</th>\n",
              "      <td>0.0</td>\n",
              "      <td>0.0</td>\n",
              "      <td>1.0</td>\n",
              "      <td>1.0</td>\n",
              "      <td>1.0</td>\n",
              "      <td>0.0</td>\n",
              "      <td>0.0</td>\n",
              "      <td>0.0</td>\n",
              "      <td>0.0</td>\n",
              "      <td>0.0</td>\n",
              "      <td>NaN</td>\n",
              "      <td>3.0</td>\n",
              "    </tr>\n",
              "    <tr>\n",
              "      <th>3.0</th>\n",
              "      <td>0.0</td>\n",
              "      <td>1.0</td>\n",
              "      <td>0.0</td>\n",
              "      <td>0.0</td>\n",
              "      <td>1.0</td>\n",
              "      <td>0.0</td>\n",
              "      <td>1.0</td>\n",
              "      <td>0.0</td>\n",
              "      <td>0.0</td>\n",
              "      <td>0.0</td>\n",
              "      <td>NaN</td>\n",
              "      <td>3.0</td>\n",
              "    </tr>\n",
              "    <tr>\n",
              "      <th>4.0</th>\n",
              "      <td>1.0</td>\n",
              "      <td>1.0</td>\n",
              "      <td>0.0</td>\n",
              "      <td>0.0</td>\n",
              "      <td>0.0</td>\n",
              "      <td>0.0</td>\n",
              "      <td>1.0</td>\n",
              "      <td>1.0</td>\n",
              "      <td>0.0</td>\n",
              "      <td>0.0</td>\n",
              "      <td>NaN</td>\n",
              "      <td>4.0</td>\n",
              "    </tr>\n",
              "  </tbody>\n",
              "</table>\n",
              "</div>\n",
              "      <button class=\"colab-df-convert\" onclick=\"convertToInteractive('df-3a46e895-a3cd-49aa-ad23-9163e096b9b7')\"\n",
              "              title=\"Convert this dataframe to an interactive table.\"\n",
              "              style=\"display:none;\">\n",
              "        \n",
              "  <svg xmlns=\"http://www.w3.org/2000/svg\" height=\"24px\"viewBox=\"0 0 24 24\"\n",
              "       width=\"24px\">\n",
              "    <path d=\"M0 0h24v24H0V0z\" fill=\"none\"/>\n",
              "    <path d=\"M18.56 5.44l.94 2.06.94-2.06 2.06-.94-2.06-.94-.94-2.06-.94 2.06-2.06.94zm-11 1L8.5 8.5l.94-2.06 2.06-.94-2.06-.94L8.5 2.5l-.94 2.06-2.06.94zm10 10l.94 2.06.94-2.06 2.06-.94-2.06-.94-.94-2.06-.94 2.06-2.06.94z\"/><path d=\"M17.41 7.96l-1.37-1.37c-.4-.4-.92-.59-1.43-.59-.52 0-1.04.2-1.43.59L10.3 9.45l-7.72 7.72c-.78.78-.78 2.05 0 2.83L4 21.41c.39.39.9.59 1.41.59.51 0 1.02-.2 1.41-.59l7.78-7.78 2.81-2.81c.8-.78.8-2.07 0-2.86zM5.41 20L4 18.59l7.72-7.72 1.47 1.35L5.41 20z\"/>\n",
              "  </svg>\n",
              "      </button>\n",
              "      \n",
              "  <style>\n",
              "    .colab-df-container {\n",
              "      display:flex;\n",
              "      flex-wrap:wrap;\n",
              "      gap: 12px;\n",
              "    }\n",
              "\n",
              "    .colab-df-convert {\n",
              "      background-color: #E8F0FE;\n",
              "      border: none;\n",
              "      border-radius: 50%;\n",
              "      cursor: pointer;\n",
              "      display: none;\n",
              "      fill: #1967D2;\n",
              "      height: 32px;\n",
              "      padding: 0 0 0 0;\n",
              "      width: 32px;\n",
              "    }\n",
              "\n",
              "    .colab-df-convert:hover {\n",
              "      background-color: #E2EBFA;\n",
              "      box-shadow: 0px 1px 2px rgba(60, 64, 67, 0.3), 0px 1px 3px 1px rgba(60, 64, 67, 0.15);\n",
              "      fill: #174EA6;\n",
              "    }\n",
              "\n",
              "    [theme=dark] .colab-df-convert {\n",
              "      background-color: #3B4455;\n",
              "      fill: #D2E3FC;\n",
              "    }\n",
              "\n",
              "    [theme=dark] .colab-df-convert:hover {\n",
              "      background-color: #434B5C;\n",
              "      box-shadow: 0px 1px 3px 1px rgba(0, 0, 0, 0.15);\n",
              "      filter: drop-shadow(0px 1px 2px rgba(0, 0, 0, 0.3));\n",
              "      fill: #FFFFFF;\n",
              "    }\n",
              "  </style>\n",
              "\n",
              "      <script>\n",
              "        const buttonEl =\n",
              "          document.querySelector('#df-3a46e895-a3cd-49aa-ad23-9163e096b9b7 button.colab-df-convert');\n",
              "        buttonEl.style.display =\n",
              "          google.colab.kernel.accessAllowed ? 'block' : 'none';\n",
              "\n",
              "        async function convertToInteractive(key) {\n",
              "          const element = document.querySelector('#df-3a46e895-a3cd-49aa-ad23-9163e096b9b7');\n",
              "          const dataTable =\n",
              "            await google.colab.kernel.invokeFunction('convertToInteractive',\n",
              "                                                     [key], {});\n",
              "          if (!dataTable) return;\n",
              "\n",
              "          const docLinkHtml = 'Like what you see? Visit the ' +\n",
              "            '<a target=\"_blank\" href=https://colab.research.google.com/notebooks/data_table.ipynb>data table notebook</a>'\n",
              "            + ' to learn more about interactive tables.';\n",
              "          element.innerHTML = '';\n",
              "          dataTable['output_type'] = 'display_data';\n",
              "          await google.colab.output.renderOutput(dataTable, element);\n",
              "          const docLink = document.createElement('div');\n",
              "          docLink.innerHTML = docLinkHtml;\n",
              "          element.appendChild(docLink);\n",
              "        }\n",
              "      </script>\n",
              "    </div>\n",
              "  </div>\n",
              "  "
            ],
            "text/plain": [
              "      Actor  Unnamed: 2  Unnamed: 3  ...  Unnamed: 10  Unnamed: 11  Unnamed: 12\n",
              "Toma    1.0         2.0         3.0  ...         10.0          NaN        Total\n",
              "1.0     1.0         1.0         1.0  ...          0.0          NaN          5.0\n",
              "2.0     0.0         0.0         1.0  ...          0.0          NaN          3.0\n",
              "3.0     0.0         1.0         0.0  ...          0.0          NaN          3.0\n",
              "4.0     1.0         1.0         0.0  ...          0.0          NaN          4.0\n",
              "\n",
              "[5 rows x 12 columns]"
            ]
          },
          "metadata": {}
        }
      ]
    },
    {
      "cell_type": "code",
      "source": [
        "# Eliminamos filas superfluas\n",
        "df.drop(['Toma','TOTAL'], inplace = True)"
      ],
      "metadata": {
        "id": "uoECg6uBGTrr"
      },
      "execution_count": 47,
      "outputs": []
    },
    {
      "cell_type": "code",
      "source": [
        "# Eliminamos columnas superfluas\n",
        "# 'Unnamed: 11' : NaN\n",
        "\n",
        "df.drop(['Unnamed: 11'], axis = 1, inplace = True)\n",
        "df.drop(['Unnamed: 12'], axis = 1, inplace = True) # 'Unnamed: 12' : coste de la toma individualmente"
      ],
      "metadata": {
        "id": "_d4-otUJGTzH"
      },
      "execution_count": 48,
      "outputs": []
    },
    {
      "cell_type": "code",
      "source": [
        "# Eliminamos la última fila, que tiene índice y valores nulos\n",
        "df = df[df.index.notnull()]\n",
        "# display (df)"
      ],
      "metadata": {
        "id": "2naJB1U8GUNi"
      },
      "execution_count": 49,
      "outputs": []
    },
    {
      "cell_type": "code",
      "source": [
        "# Renombramos las columnas adecuadamente\n",
        "df.columns = ['Actor_'+str(i) for i in range (1,len(df.columns)+1)]\n",
        "# display (df)"
      ],
      "metadata": {
        "id": "_z8cmOx2GUY7"
      },
      "execution_count": 50,
      "outputs": []
    },
    {
      "cell_type": "code",
      "source": [
        "import numpy as np\n",
        "# Resetear el índice para que empiece en 1\n",
        "df.index = np.arange(1, len(df) + 1)"
      ],
      "metadata": {
        "id": "TVVyHw4DHQtK"
      },
      "execution_count": 51,
      "outputs": []
    },
    {
      "cell_type": "code",
      "source": [
        "# Comprobar el funcionamiento del slice a través de una máscara de índices\n",
        "mask = [1,12,5,3]\n",
        "df.loc[mask]"
      ],
      "metadata": {
        "colab": {
          "base_uri": "https://localhost:8080/",
          "height": 175
        },
        "id": "EMlLNukAHQwT",
        "outputId": "57dc5086-4137-4998-a0d5-1dcd83f3705e"
      },
      "execution_count": 52,
      "outputs": [
        {
          "output_type": "execute_result",
          "data": {
            "text/html": [
              "\n",
              "  <div id=\"df-57321a39-20fd-4f06-83a9-0c277717e8d1\">\n",
              "    <div class=\"colab-df-container\">\n",
              "      <div>\n",
              "<style scoped>\n",
              "    .dataframe tbody tr th:only-of-type {\n",
              "        vertical-align: middle;\n",
              "    }\n",
              "\n",
              "    .dataframe tbody tr th {\n",
              "        vertical-align: top;\n",
              "    }\n",
              "\n",
              "    .dataframe thead th {\n",
              "        text-align: right;\n",
              "    }\n",
              "</style>\n",
              "<table border=\"1\" class=\"dataframe\">\n",
              "  <thead>\n",
              "    <tr style=\"text-align: right;\">\n",
              "      <th></th>\n",
              "      <th>Actor_1</th>\n",
              "      <th>Actor_2</th>\n",
              "      <th>Actor_3</th>\n",
              "      <th>Actor_4</th>\n",
              "      <th>Actor_5</th>\n",
              "      <th>Actor_6</th>\n",
              "      <th>Actor_7</th>\n",
              "      <th>Actor_8</th>\n",
              "      <th>Actor_9</th>\n",
              "      <th>Actor_10</th>\n",
              "    </tr>\n",
              "  </thead>\n",
              "  <tbody>\n",
              "    <tr>\n",
              "      <th>1</th>\n",
              "      <td>1.0</td>\n",
              "      <td>1.0</td>\n",
              "      <td>1.0</td>\n",
              "      <td>1.0</td>\n",
              "      <td>1.0</td>\n",
              "      <td>0.0</td>\n",
              "      <td>0.0</td>\n",
              "      <td>0.0</td>\n",
              "      <td>0.0</td>\n",
              "      <td>0.0</td>\n",
              "    </tr>\n",
              "    <tr>\n",
              "      <th>12</th>\n",
              "      <td>1.0</td>\n",
              "      <td>1.0</td>\n",
              "      <td>1.0</td>\n",
              "      <td>1.0</td>\n",
              "      <td>0.0</td>\n",
              "      <td>1.0</td>\n",
              "      <td>0.0</td>\n",
              "      <td>0.0</td>\n",
              "      <td>0.0</td>\n",
              "      <td>0.0</td>\n",
              "    </tr>\n",
              "    <tr>\n",
              "      <th>5</th>\n",
              "      <td>0.0</td>\n",
              "      <td>1.0</td>\n",
              "      <td>0.0</td>\n",
              "      <td>1.0</td>\n",
              "      <td>0.0</td>\n",
              "      <td>0.0</td>\n",
              "      <td>0.0</td>\n",
              "      <td>1.0</td>\n",
              "      <td>0.0</td>\n",
              "      <td>0.0</td>\n",
              "    </tr>\n",
              "    <tr>\n",
              "      <th>3</th>\n",
              "      <td>0.0</td>\n",
              "      <td>1.0</td>\n",
              "      <td>0.0</td>\n",
              "      <td>0.0</td>\n",
              "      <td>1.0</td>\n",
              "      <td>0.0</td>\n",
              "      <td>1.0</td>\n",
              "      <td>0.0</td>\n",
              "      <td>0.0</td>\n",
              "      <td>0.0</td>\n",
              "    </tr>\n",
              "  </tbody>\n",
              "</table>\n",
              "</div>\n",
              "      <button class=\"colab-df-convert\" onclick=\"convertToInteractive('df-57321a39-20fd-4f06-83a9-0c277717e8d1')\"\n",
              "              title=\"Convert this dataframe to an interactive table.\"\n",
              "              style=\"display:none;\">\n",
              "        \n",
              "  <svg xmlns=\"http://www.w3.org/2000/svg\" height=\"24px\"viewBox=\"0 0 24 24\"\n",
              "       width=\"24px\">\n",
              "    <path d=\"M0 0h24v24H0V0z\" fill=\"none\"/>\n",
              "    <path d=\"M18.56 5.44l.94 2.06.94-2.06 2.06-.94-2.06-.94-.94-2.06-.94 2.06-2.06.94zm-11 1L8.5 8.5l.94-2.06 2.06-.94-2.06-.94L8.5 2.5l-.94 2.06-2.06.94zm10 10l.94 2.06.94-2.06 2.06-.94-2.06-.94-.94-2.06-.94 2.06-2.06.94z\"/><path d=\"M17.41 7.96l-1.37-1.37c-.4-.4-.92-.59-1.43-.59-.52 0-1.04.2-1.43.59L10.3 9.45l-7.72 7.72c-.78.78-.78 2.05 0 2.83L4 21.41c.39.39.9.59 1.41.59.51 0 1.02-.2 1.41-.59l7.78-7.78 2.81-2.81c.8-.78.8-2.07 0-2.86zM5.41 20L4 18.59l7.72-7.72 1.47 1.35L5.41 20z\"/>\n",
              "  </svg>\n",
              "      </button>\n",
              "      \n",
              "  <style>\n",
              "    .colab-df-container {\n",
              "      display:flex;\n",
              "      flex-wrap:wrap;\n",
              "      gap: 12px;\n",
              "    }\n",
              "\n",
              "    .colab-df-convert {\n",
              "      background-color: #E8F0FE;\n",
              "      border: none;\n",
              "      border-radius: 50%;\n",
              "      cursor: pointer;\n",
              "      display: none;\n",
              "      fill: #1967D2;\n",
              "      height: 32px;\n",
              "      padding: 0 0 0 0;\n",
              "      width: 32px;\n",
              "    }\n",
              "\n",
              "    .colab-df-convert:hover {\n",
              "      background-color: #E2EBFA;\n",
              "      box-shadow: 0px 1px 2px rgba(60, 64, 67, 0.3), 0px 1px 3px 1px rgba(60, 64, 67, 0.15);\n",
              "      fill: #174EA6;\n",
              "    }\n",
              "\n",
              "    [theme=dark] .colab-df-convert {\n",
              "      background-color: #3B4455;\n",
              "      fill: #D2E3FC;\n",
              "    }\n",
              "\n",
              "    [theme=dark] .colab-df-convert:hover {\n",
              "      background-color: #434B5C;\n",
              "      box-shadow: 0px 1px 3px 1px rgba(0, 0, 0, 0.15);\n",
              "      filter: drop-shadow(0px 1px 2px rgba(0, 0, 0, 0.3));\n",
              "      fill: #FFFFFF;\n",
              "    }\n",
              "  </style>\n",
              "\n",
              "      <script>\n",
              "        const buttonEl =\n",
              "          document.querySelector('#df-57321a39-20fd-4f06-83a9-0c277717e8d1 button.colab-df-convert');\n",
              "        buttonEl.style.display =\n",
              "          google.colab.kernel.accessAllowed ? 'block' : 'none';\n",
              "\n",
              "        async function convertToInteractive(key) {\n",
              "          const element = document.querySelector('#df-57321a39-20fd-4f06-83a9-0c277717e8d1');\n",
              "          const dataTable =\n",
              "            await google.colab.kernel.invokeFunction('convertToInteractive',\n",
              "                                                     [key], {});\n",
              "          if (!dataTable) return;\n",
              "\n",
              "          const docLinkHtml = 'Like what you see? Visit the ' +\n",
              "            '<a target=\"_blank\" href=https://colab.research.google.com/notebooks/data_table.ipynb>data table notebook</a>'\n",
              "            + ' to learn more about interactive tables.';\n",
              "          element.innerHTML = '';\n",
              "          dataTable['output_type'] = 'display_data';\n",
              "          await google.colab.output.renderOutput(dataTable, element);\n",
              "          const docLink = document.createElement('div');\n",
              "          docLink.innerHTML = docLinkHtml;\n",
              "          element.appendChild(docLink);\n",
              "        }\n",
              "      </script>\n",
              "    </div>\n",
              "  </div>\n",
              "  "
            ],
            "text/plain": [
              "    Actor_1  Actor_2  Actor_3  Actor_4  ...  Actor_7  Actor_8  Actor_9  Actor_10\n",
              "1       1.0      1.0      1.0      1.0  ...      0.0      0.0      0.0       0.0\n",
              "12      1.0      1.0      1.0      1.0  ...      0.0      0.0      0.0       0.0\n",
              "5       0.0      1.0      0.0      1.0  ...      0.0      1.0      0.0       0.0\n",
              "3       0.0      1.0      0.0      0.0  ...      1.0      0.0      0.0       0.0\n",
              "\n",
              "[4 rows x 10 columns]"
            ]
          },
          "metadata": {},
          "execution_count": 52
        }
      ]
    },
    {
      "cell_type": "markdown",
      "metadata": {
        "id": "3_-exlrTgLd-"
      },
      "source": [
        "(*)¿Cuantas posibilidades hay sin tener en cuenta las restricciones?<br>\n",
        "\n",
        "\n",
        "\n",
        "¿Cuantas posibilidades hay teniendo en cuenta todas las restricciones.\n",
        "\n",
        "\n"
      ]
    },
    {
      "cell_type": "markdown",
      "metadata": {
        "id": "WfCUqJyKhPcw"
      },
      "source": [
        "Respuesta"
      ]
    },
    {
      "cell_type": "markdown",
      "source": [
        "  La única restricción del problema es que solamente puede haber 6 tomas por día. Eliminar esta restricción equivale a decir que pueden grabarse todas las tomas que se quiera por día, o sea que podrían grabarse todas en un día. Es decir, el problema sin restricciones admite una única solución, cuyo coste sería 10 ya que hay 10 actores y todos tendrían que venir ese día."
      ],
      "metadata": {
        "id": "QTtcBv0d7gHT"
      }
    },
    {
      "cell_type": "markdown",
      "source": [
        "Teniendo en cuenta todas las restricciones, la cosa se complica. La restricción de rodar un máximo de seis tomas al día equivale a que habrá un mínimo de 5 días para grabar las 30 tomas. \n",
        "En tal caso, para recorrer todo el espacio de soluciones por un método de fuerza bruta, deberíamos considerar lo siguiente: el primer día podremos escoger 6 tomas de un total de 30 (equivale a combinaciones de 30 elementos tomados de 6 en 6, el segundo día 6 tomas de un total de 24, y así sucesivamente. Este planteamiento se resume en la siguiente tabla.\n",
        "\n",
        "| DIA | TOMAS DISPONIBLES | POSIBILIDADES |\n",
        "|-----|-------------------|---------------|\n",
        "|  1  |       30          | $$ {30 \\choose 6} $$  |\n",
        "|  2  |       24          | $$ {24 \\choose 6} $$  |\n",
        "|  3  |       18          | $$ {18 \\choose 6} $$  |\n",
        "|  4  |       12          | $$ {12 \\choose 6} $$  |\n",
        "|  5  |       6          | $$ {6 \\choose 6} =1 $$  |\n",
        "\n",
        "Lo cual nos da un total de:\n",
        "$$ n = {30 \\choose 6} {24 \\choose 6}{18 \\choose 6}{12 \\choose 6} = \\frac{30!}{6! 24!} \\frac{24!}{6! 18!} \\frac{18!}{6! 12!} \\frac{12!}{6! 6!} = \\frac{30!}{(6!) ^5} = 1.3708741675893e18 $$\n",
        "\n",
        "Es decir una cantidad inmanejable de posibilidades. \n",
        "\n",
        "Y sólo sería una cota inferior...\n",
        "\n",
        "En efecto, cabe la posibilidad de que, dependiendo de los datos de la tabla de entreda, el número de posibles soluciones a considerar fuera aún mayor. Supongamos una situación como la siguiente (voy a considerar para este ejemplo una versión simplificada de nuestro problema con un total de 5 actores, 4 tomas por día y 8 tomas en total:\n",
        "\n",
        "* SOLUCIÓN A: COSTE 7 (3+4) EN DOS SESIONES\n",
        "\n",
        "| DIA | TOMAS | COSTE |\n",
        "|-----|-------------------|---------------|\n",
        "|  1  |       01010          |   |\n",
        "|  1  |       01010          |   |\n",
        "|  1  |       01010          |   |\n",
        "|  1  |       00001          | 3  |\n",
        "|  2  |       10101          |   |\n",
        "|  2  |       10101          |   |\n",
        "|  2  |       10101          |   |\n",
        "|  2  |       00001          | 4  |\n",
        "\n",
        "SOLUCIÓN B: COSTE 6 (2+3+1) EN TRES SESIONES\n",
        "\n",
        "| DIA | TOMAS | COSTE |\n",
        "|-----|-------------------|---------------|\n",
        "|  1  |       01010          |   |\n",
        "|  1  |       01010          |   |\n",
        "|  1  |       01010          | 2 |\n",
        "|  2  |       10101          |   |\n",
        "|  2  |       10101          |   |\n",
        "|  2  |       10101          |  3 |\n",
        "|  3  |       00001          |   |\n",
        "|  3  |       00001          |  1 |\n",
        "\n",
        "Como vemos, la segunda distribución de tomas por días es de menor coste, ilustrando esta idea de que la solución óptima no tiene por qué corresponderse con una distribución de un máximo número de tomas en un mínimo número de días."
      ],
      "metadata": {
        "id": "eE8ODv0W8VYx"
      }
    },
    {
      "cell_type": "markdown",
      "metadata": {
        "id": "dzynfVJahHoY"
      },
      "source": [
        "Modelo para el espacio de soluciones<br>\n",
        "(*) ¿Cual es la estructura de datos que mejor se adapta al problema? Arguméntalo.(Es posible que hayas elegido una al principio y veas la necesidad de cambiar, arguméntalo).\n"
      ]
    },
    {
      "cell_type": "markdown",
      "metadata": {
        "id": "xFIJrOwKi2Ti"
      },
      "source": [
        "Respuesta"
      ]
    },
    {
      "cell_type": "markdown",
      "source": [
        "En este problema, resultará útil identificar a las tomas por su índice en la tabla. De este modo, una sesión podrá describirse por un conjunto de números correspondientes a los índices de las tomas que forman parte de la sesión. Por ejemplo, si lo codificamos como una lista:"
      ],
      "metadata": {
        "id": "4sW1nSLjH5xl"
      }
    },
    {
      "cell_type": "code",
      "source": [
        "sesion_ejemplo = [4, 8, 15, 16, 23, 24]\n",
        "\n",
        "# Podemos usar esa lista a modo de máscara y obtener un slice del dataframe\n",
        "df.loc[sesion_ejemplo]"
      ],
      "metadata": {
        "colab": {
          "base_uri": "https://localhost:8080/",
          "height": 237
        },
        "id": "i9RCKsGyMLUr",
        "outputId": "63f586d5-05c1-439c-b868-637d8f202eee"
      },
      "execution_count": 53,
      "outputs": [
        {
          "output_type": "execute_result",
          "data": {
            "text/html": [
              "\n",
              "  <div id=\"df-b51eb8a3-c3c6-4b24-ad1a-d2ecfb0aab0c\">\n",
              "    <div class=\"colab-df-container\">\n",
              "      <div>\n",
              "<style scoped>\n",
              "    .dataframe tbody tr th:only-of-type {\n",
              "        vertical-align: middle;\n",
              "    }\n",
              "\n",
              "    .dataframe tbody tr th {\n",
              "        vertical-align: top;\n",
              "    }\n",
              "\n",
              "    .dataframe thead th {\n",
              "        text-align: right;\n",
              "    }\n",
              "</style>\n",
              "<table border=\"1\" class=\"dataframe\">\n",
              "  <thead>\n",
              "    <tr style=\"text-align: right;\">\n",
              "      <th></th>\n",
              "      <th>Actor_1</th>\n",
              "      <th>Actor_2</th>\n",
              "      <th>Actor_3</th>\n",
              "      <th>Actor_4</th>\n",
              "      <th>Actor_5</th>\n",
              "      <th>Actor_6</th>\n",
              "      <th>Actor_7</th>\n",
              "      <th>Actor_8</th>\n",
              "      <th>Actor_9</th>\n",
              "      <th>Actor_10</th>\n",
              "    </tr>\n",
              "  </thead>\n",
              "  <tbody>\n",
              "    <tr>\n",
              "      <th>4</th>\n",
              "      <td>1.0</td>\n",
              "      <td>1.0</td>\n",
              "      <td>0.0</td>\n",
              "      <td>0.0</td>\n",
              "      <td>0.0</td>\n",
              "      <td>0.0</td>\n",
              "      <td>1.0</td>\n",
              "      <td>1.0</td>\n",
              "      <td>0.0</td>\n",
              "      <td>0.0</td>\n",
              "    </tr>\n",
              "    <tr>\n",
              "      <th>8</th>\n",
              "      <td>1.0</td>\n",
              "      <td>1.0</td>\n",
              "      <td>0.0</td>\n",
              "      <td>0.0</td>\n",
              "      <td>0.0</td>\n",
              "      <td>1.0</td>\n",
              "      <td>0.0</td>\n",
              "      <td>0.0</td>\n",
              "      <td>0.0</td>\n",
              "      <td>0.0</td>\n",
              "    </tr>\n",
              "    <tr>\n",
              "      <th>15</th>\n",
              "      <td>1.0</td>\n",
              "      <td>1.0</td>\n",
              "      <td>0.0</td>\n",
              "      <td>0.0</td>\n",
              "      <td>0.0</td>\n",
              "      <td>0.0</td>\n",
              "      <td>1.0</td>\n",
              "      <td>0.0</td>\n",
              "      <td>0.0</td>\n",
              "      <td>0.0</td>\n",
              "    </tr>\n",
              "    <tr>\n",
              "      <th>16</th>\n",
              "      <td>0.0</td>\n",
              "      <td>0.0</td>\n",
              "      <td>0.0</td>\n",
              "      <td>1.0</td>\n",
              "      <td>0.0</td>\n",
              "      <td>0.0</td>\n",
              "      <td>0.0</td>\n",
              "      <td>0.0</td>\n",
              "      <td>0.0</td>\n",
              "      <td>1.0</td>\n",
              "    </tr>\n",
              "    <tr>\n",
              "      <th>23</th>\n",
              "      <td>1.0</td>\n",
              "      <td>0.0</td>\n",
              "      <td>1.0</td>\n",
              "      <td>0.0</td>\n",
              "      <td>0.0</td>\n",
              "      <td>0.0</td>\n",
              "      <td>0.0</td>\n",
              "      <td>0.0</td>\n",
              "      <td>0.0</td>\n",
              "      <td>0.0</td>\n",
              "    </tr>\n",
              "    <tr>\n",
              "      <th>24</th>\n",
              "      <td>0.0</td>\n",
              "      <td>0.0</td>\n",
              "      <td>1.0</td>\n",
              "      <td>0.0</td>\n",
              "      <td>0.0</td>\n",
              "      <td>1.0</td>\n",
              "      <td>0.0</td>\n",
              "      <td>0.0</td>\n",
              "      <td>0.0</td>\n",
              "      <td>0.0</td>\n",
              "    </tr>\n",
              "  </tbody>\n",
              "</table>\n",
              "</div>\n",
              "      <button class=\"colab-df-convert\" onclick=\"convertToInteractive('df-b51eb8a3-c3c6-4b24-ad1a-d2ecfb0aab0c')\"\n",
              "              title=\"Convert this dataframe to an interactive table.\"\n",
              "              style=\"display:none;\">\n",
              "        \n",
              "  <svg xmlns=\"http://www.w3.org/2000/svg\" height=\"24px\"viewBox=\"0 0 24 24\"\n",
              "       width=\"24px\">\n",
              "    <path d=\"M0 0h24v24H0V0z\" fill=\"none\"/>\n",
              "    <path d=\"M18.56 5.44l.94 2.06.94-2.06 2.06-.94-2.06-.94-.94-2.06-.94 2.06-2.06.94zm-11 1L8.5 8.5l.94-2.06 2.06-.94-2.06-.94L8.5 2.5l-.94 2.06-2.06.94zm10 10l.94 2.06.94-2.06 2.06-.94-2.06-.94-.94-2.06-.94 2.06-2.06.94z\"/><path d=\"M17.41 7.96l-1.37-1.37c-.4-.4-.92-.59-1.43-.59-.52 0-1.04.2-1.43.59L10.3 9.45l-7.72 7.72c-.78.78-.78 2.05 0 2.83L4 21.41c.39.39.9.59 1.41.59.51 0 1.02-.2 1.41-.59l7.78-7.78 2.81-2.81c.8-.78.8-2.07 0-2.86zM5.41 20L4 18.59l7.72-7.72 1.47 1.35L5.41 20z\"/>\n",
              "  </svg>\n",
              "      </button>\n",
              "      \n",
              "  <style>\n",
              "    .colab-df-container {\n",
              "      display:flex;\n",
              "      flex-wrap:wrap;\n",
              "      gap: 12px;\n",
              "    }\n",
              "\n",
              "    .colab-df-convert {\n",
              "      background-color: #E8F0FE;\n",
              "      border: none;\n",
              "      border-radius: 50%;\n",
              "      cursor: pointer;\n",
              "      display: none;\n",
              "      fill: #1967D2;\n",
              "      height: 32px;\n",
              "      padding: 0 0 0 0;\n",
              "      width: 32px;\n",
              "    }\n",
              "\n",
              "    .colab-df-convert:hover {\n",
              "      background-color: #E2EBFA;\n",
              "      box-shadow: 0px 1px 2px rgba(60, 64, 67, 0.3), 0px 1px 3px 1px rgba(60, 64, 67, 0.15);\n",
              "      fill: #174EA6;\n",
              "    }\n",
              "\n",
              "    [theme=dark] .colab-df-convert {\n",
              "      background-color: #3B4455;\n",
              "      fill: #D2E3FC;\n",
              "    }\n",
              "\n",
              "    [theme=dark] .colab-df-convert:hover {\n",
              "      background-color: #434B5C;\n",
              "      box-shadow: 0px 1px 3px 1px rgba(0, 0, 0, 0.15);\n",
              "      filter: drop-shadow(0px 1px 2px rgba(0, 0, 0, 0.3));\n",
              "      fill: #FFFFFF;\n",
              "    }\n",
              "  </style>\n",
              "\n",
              "      <script>\n",
              "        const buttonEl =\n",
              "          document.querySelector('#df-b51eb8a3-c3c6-4b24-ad1a-d2ecfb0aab0c button.colab-df-convert');\n",
              "        buttonEl.style.display =\n",
              "          google.colab.kernel.accessAllowed ? 'block' : 'none';\n",
              "\n",
              "        async function convertToInteractive(key) {\n",
              "          const element = document.querySelector('#df-b51eb8a3-c3c6-4b24-ad1a-d2ecfb0aab0c');\n",
              "          const dataTable =\n",
              "            await google.colab.kernel.invokeFunction('convertToInteractive',\n",
              "                                                     [key], {});\n",
              "          if (!dataTable) return;\n",
              "\n",
              "          const docLinkHtml = 'Like what you see? Visit the ' +\n",
              "            '<a target=\"_blank\" href=https://colab.research.google.com/notebooks/data_table.ipynb>data table notebook</a>'\n",
              "            + ' to learn more about interactive tables.';\n",
              "          element.innerHTML = '';\n",
              "          dataTable['output_type'] = 'display_data';\n",
              "          await google.colab.output.renderOutput(dataTable, element);\n",
              "          const docLink = document.createElement('div');\n",
              "          docLink.innerHTML = docLinkHtml;\n",
              "          element.appendChild(docLink);\n",
              "        }\n",
              "      </script>\n",
              "    </div>\n",
              "  </div>\n",
              "  "
            ],
            "text/plain": [
              "    Actor_1  Actor_2  Actor_3  Actor_4  ...  Actor_7  Actor_8  Actor_9  Actor_10\n",
              "4       1.0      1.0      0.0      0.0  ...      1.0      1.0      0.0       0.0\n",
              "8       1.0      1.0      0.0      0.0  ...      0.0      0.0      0.0       0.0\n",
              "15      1.0      1.0      0.0      0.0  ...      1.0      0.0      0.0       0.0\n",
              "16      0.0      0.0      0.0      1.0  ...      0.0      0.0      0.0       1.0\n",
              "23      1.0      0.0      1.0      0.0  ...      0.0      0.0      0.0       0.0\n",
              "24      0.0      0.0      1.0      0.0  ...      0.0      0.0      0.0       0.0\n",
              "\n",
              "[6 rows x 10 columns]"
            ]
          },
          "metadata": {},
          "execution_count": 53
        }
      ]
    },
    {
      "cell_type": "markdown",
      "source": [
        "Una solución se modelaría así como un conjunto de sesiones. Por ejemplo como una lista de listas."
      ],
      "metadata": {
        "id": "rXspDJQxH6B_"
      }
    },
    {
      "cell_type": "code",
      "source": [
        "solucion_ejemplo_1 = [[1,2,3,4,5,6],[7,8,9,10,11,12],[13,14,15,16,17,18],[19,20,21,22,23,24],[25,26,27,28,29,30]]\n",
        "solucion_ejemplo_2 = [[1,2,3,4,5,6],[7,8,9,10,11,12],[13,14,15,16,17,18],[19,20,21,22,23],[24],[25,26,27,28,29,30]]"
      ],
      "metadata": {
        "id": "OWO59gt_NP9Z"
      },
      "execution_count": 54,
      "outputs": []
    },
    {
      "cell_type": "markdown",
      "source": [
        "El modelado mediante listas me ha dado buen resultado, pero tras revisar mi código y considerar posibles mejoras, pienso que es posible encontrar una forma mejor de codificar las soluciones mediante sets. Los sets tienen unas propiedades muy interesantes: no admiten valores repetidos (lo cual se adecúa a nuestro problema), y no son conjuntos ordenados. Esto podría aprovecharse para distinguir soluciones que en realidad son iguales pero que con el modelado mediante listas son procesadas como soluciones distintas, y con ello podría mejorarse el funcionamiento de mecanismos como la búsqueda tabú, por ejemplo.\n",
        "\n",
        "Existe la dificultad de que Python no admite la construcción de sets de sets, pero esto podría solventarse mediante un set de frozensets. En tal caso, el tratamiento debería ser muy cuidadoso, ya que los frozensets son inmutables y el manejo se complica.\n",
        "\n",
        "En definitiva, pienso que hay margen para la mejora.\n",
        "\n"
      ],
      "metadata": {
        "id": "-Opl-SaL-gOm"
      }
    },
    {
      "cell_type": "markdown",
      "metadata": {
        "id": "7Z9U2W7bi-XS"
      },
      "source": [
        "Según el modelo para el espacio de soluciones<br>\n",
        "(*)¿Cual es la función objetivo?\n",
        "\n",
        "(*)¿Es un problema de maximización o minimización?"
      ]
    },
    {
      "cell_type": "markdown",
      "metadata": {
        "id": "hBalWLM7j1_d"
      },
      "source": [
        "Respuesta"
      ]
    },
    {
      "cell_type": "markdown",
      "source": [
        "La **función objetivo será el coste de la solución**, siendo la solución una asignación de las tomas a un conjunto de días. Se calculará, de acuerdo con las especificaciones del enunciado, de la siguiente forma: el coste de la solución será la suma de los costes de las sesiones que la conforman, y a su vez el coste de una sesión será la suma de los salarios de los actores que deben acudir ese día, independientemente del número de tomas en los que participen en esa sesión concreta.\n",
        "El problema será, pues, de **minimización** de esa función objetivo."
      ],
      "metadata": {
        "id": "Us4bIa-62LNL"
      }
    },
    {
      "cell_type": "markdown",
      "source": [
        "Usaremos la siguiente función calcula_coste(solucion, df), que proporciona el coste conforme a lo anteriormente especificado. Para ilustrar fácilmente cómo funciona, se empleará una tercera solución de ejemplo (incompleta en este caso).\n",
        "\n"
      ],
      "metadata": {
        "id": "k5BcL8VxRxdO"
      }
    },
    {
      "cell_type": "code",
      "source": [
        "def calcula_coste(solucion, df):\n",
        "        coste = 0\n",
        "        for toma in solucion:\n",
        "            df_i = df.loc[toma]        \n",
        "            coste += df_i.any().sum()\n",
        "        return(coste)\n",
        "\n",
        "\n",
        "solucion_ejemplo_3 =[[1,2,3]]\n",
        "ver_solucion (solucion_ejemplo_3, df)\n",
        "\n",
        "print (\"Para esta solución se ha obtenido un coste de:\", \n",
        "       str(calcula_coste(solucion_ejemplo_3,df)))\n",
        "\n",
        "\n"
      ],
      "metadata": {
        "colab": {
          "base_uri": "https://localhost:8080/",
          "height": 180
        },
        "id": "F4QBv84cPM2X",
        "outputId": "13ffc0aa-bc90-4711-9436-651a3237c16c"
      },
      "execution_count": 56,
      "outputs": [
        {
          "output_type": "stream",
          "name": "stdout",
          "text": [
            "* SESION 1:\n"
          ]
        },
        {
          "output_type": "display_data",
          "data": {
            "text/html": [
              "\n",
              "  <div id=\"df-2ea3e15a-369a-453d-825c-e768ec606e19\">\n",
              "    <div class=\"colab-df-container\">\n",
              "      <div>\n",
              "<style scoped>\n",
              "    .dataframe tbody tr th:only-of-type {\n",
              "        vertical-align: middle;\n",
              "    }\n",
              "\n",
              "    .dataframe tbody tr th {\n",
              "        vertical-align: top;\n",
              "    }\n",
              "\n",
              "    .dataframe thead th {\n",
              "        text-align: right;\n",
              "    }\n",
              "</style>\n",
              "<table border=\"1\" class=\"dataframe\">\n",
              "  <thead>\n",
              "    <tr style=\"text-align: right;\">\n",
              "      <th></th>\n",
              "      <th>Actor_1</th>\n",
              "      <th>Actor_2</th>\n",
              "      <th>Actor_3</th>\n",
              "      <th>Actor_4</th>\n",
              "      <th>Actor_5</th>\n",
              "      <th>Actor_6</th>\n",
              "      <th>Actor_7</th>\n",
              "      <th>Actor_8</th>\n",
              "      <th>Actor_9</th>\n",
              "      <th>Actor_10</th>\n",
              "    </tr>\n",
              "  </thead>\n",
              "  <tbody>\n",
              "    <tr>\n",
              "      <th>1</th>\n",
              "      <td>1.0</td>\n",
              "      <td>1.0</td>\n",
              "      <td>1.0</td>\n",
              "      <td>1.0</td>\n",
              "      <td>1.0</td>\n",
              "      <td>0.0</td>\n",
              "      <td>0.0</td>\n",
              "      <td>0.0</td>\n",
              "      <td>0.0</td>\n",
              "      <td>0.0</td>\n",
              "    </tr>\n",
              "    <tr>\n",
              "      <th>2</th>\n",
              "      <td>0.0</td>\n",
              "      <td>0.0</td>\n",
              "      <td>1.0</td>\n",
              "      <td>1.0</td>\n",
              "      <td>1.0</td>\n",
              "      <td>0.0</td>\n",
              "      <td>0.0</td>\n",
              "      <td>0.0</td>\n",
              "      <td>0.0</td>\n",
              "      <td>0.0</td>\n",
              "    </tr>\n",
              "    <tr>\n",
              "      <th>3</th>\n",
              "      <td>0.0</td>\n",
              "      <td>1.0</td>\n",
              "      <td>0.0</td>\n",
              "      <td>0.0</td>\n",
              "      <td>1.0</td>\n",
              "      <td>0.0</td>\n",
              "      <td>1.0</td>\n",
              "      <td>0.0</td>\n",
              "      <td>0.0</td>\n",
              "      <td>0.0</td>\n",
              "    </tr>\n",
              "  </tbody>\n",
              "</table>\n",
              "</div>\n",
              "      <button class=\"colab-df-convert\" onclick=\"convertToInteractive('df-2ea3e15a-369a-453d-825c-e768ec606e19')\"\n",
              "              title=\"Convert this dataframe to an interactive table.\"\n",
              "              style=\"display:none;\">\n",
              "        \n",
              "  <svg xmlns=\"http://www.w3.org/2000/svg\" height=\"24px\"viewBox=\"0 0 24 24\"\n",
              "       width=\"24px\">\n",
              "    <path d=\"M0 0h24v24H0V0z\" fill=\"none\"/>\n",
              "    <path d=\"M18.56 5.44l.94 2.06.94-2.06 2.06-.94-2.06-.94-.94-2.06-.94 2.06-2.06.94zm-11 1L8.5 8.5l.94-2.06 2.06-.94-2.06-.94L8.5 2.5l-.94 2.06-2.06.94zm10 10l.94 2.06.94-2.06 2.06-.94-2.06-.94-.94-2.06-.94 2.06-2.06.94z\"/><path d=\"M17.41 7.96l-1.37-1.37c-.4-.4-.92-.59-1.43-.59-.52 0-1.04.2-1.43.59L10.3 9.45l-7.72 7.72c-.78.78-.78 2.05 0 2.83L4 21.41c.39.39.9.59 1.41.59.51 0 1.02-.2 1.41-.59l7.78-7.78 2.81-2.81c.8-.78.8-2.07 0-2.86zM5.41 20L4 18.59l7.72-7.72 1.47 1.35L5.41 20z\"/>\n",
              "  </svg>\n",
              "      </button>\n",
              "      \n",
              "  <style>\n",
              "    .colab-df-container {\n",
              "      display:flex;\n",
              "      flex-wrap:wrap;\n",
              "      gap: 12px;\n",
              "    }\n",
              "\n",
              "    .colab-df-convert {\n",
              "      background-color: #E8F0FE;\n",
              "      border: none;\n",
              "      border-radius: 50%;\n",
              "      cursor: pointer;\n",
              "      display: none;\n",
              "      fill: #1967D2;\n",
              "      height: 32px;\n",
              "      padding: 0 0 0 0;\n",
              "      width: 32px;\n",
              "    }\n",
              "\n",
              "    .colab-df-convert:hover {\n",
              "      background-color: #E2EBFA;\n",
              "      box-shadow: 0px 1px 2px rgba(60, 64, 67, 0.3), 0px 1px 3px 1px rgba(60, 64, 67, 0.15);\n",
              "      fill: #174EA6;\n",
              "    }\n",
              "\n",
              "    [theme=dark] .colab-df-convert {\n",
              "      background-color: #3B4455;\n",
              "      fill: #D2E3FC;\n",
              "    }\n",
              "\n",
              "    [theme=dark] .colab-df-convert:hover {\n",
              "      background-color: #434B5C;\n",
              "      box-shadow: 0px 1px 3px 1px rgba(0, 0, 0, 0.15);\n",
              "      filter: drop-shadow(0px 1px 2px rgba(0, 0, 0, 0.3));\n",
              "      fill: #FFFFFF;\n",
              "    }\n",
              "  </style>\n",
              "\n",
              "      <script>\n",
              "        const buttonEl =\n",
              "          document.querySelector('#df-2ea3e15a-369a-453d-825c-e768ec606e19 button.colab-df-convert');\n",
              "        buttonEl.style.display =\n",
              "          google.colab.kernel.accessAllowed ? 'block' : 'none';\n",
              "\n",
              "        async function convertToInteractive(key) {\n",
              "          const element = document.querySelector('#df-2ea3e15a-369a-453d-825c-e768ec606e19');\n",
              "          const dataTable =\n",
              "            await google.colab.kernel.invokeFunction('convertToInteractive',\n",
              "                                                     [key], {});\n",
              "          if (!dataTable) return;\n",
              "\n",
              "          const docLinkHtml = 'Like what you see? Visit the ' +\n",
              "            '<a target=\"_blank\" href=https://colab.research.google.com/notebooks/data_table.ipynb>data table notebook</a>'\n",
              "            + ' to learn more about interactive tables.';\n",
              "          element.innerHTML = '';\n",
              "          dataTable['output_type'] = 'display_data';\n",
              "          await google.colab.output.renderOutput(dataTable, element);\n",
              "          const docLink = document.createElement('div');\n",
              "          docLink.innerHTML = docLinkHtml;\n",
              "          element.appendChild(docLink);\n",
              "        }\n",
              "      </script>\n",
              "    </div>\n",
              "  </div>\n",
              "  "
            ],
            "text/plain": [
              "   Actor_1  Actor_2  Actor_3  Actor_4  ...  Actor_7  Actor_8  Actor_9  Actor_10\n",
              "1      1.0      1.0      1.0      1.0  ...      0.0      0.0      0.0       0.0\n",
              "2      0.0      0.0      1.0      1.0  ...      0.0      0.0      0.0       0.0\n",
              "3      0.0      1.0      0.0      0.0  ...      1.0      0.0      0.0       0.0\n",
              "\n",
              "[3 rows x 10 columns]"
            ]
          },
          "metadata": {}
        },
        {
          "output_type": "stream",
          "name": "stdout",
          "text": [
            "Para esta solución se ha obtenido un coste de: 6\n"
          ]
        }
      ]
    },
    {
      "cell_type": "markdown",
      "metadata": {
        "id": "rlnTYgY1j6I2"
      },
      "source": [
        "Diseña un algoritmo para resolver el problema por fuerza bruta"
      ]
    },
    {
      "cell_type": "markdown",
      "source": [
        "# SOLUCIÓN POR FUERZA BRUTA\n",
        "Como hemos avanzado se trata de un planteamiento inviable dada la ingente cantidad de posibilidades a considerar. No obstante, a efectos de ofrecer el algoritmo solicitado, se planteará dicha solución pero incorporando una limitación en el número de iteraciones para evitar tener que esperar un tiempo excesivo.\n",
        "\n",
        "Por ponernos en situación: mi modesto ASUS F555L tiene un procesador de 2'11GHz. Supongamos que consiguiéramos un código tan sumamente optimizado que en un único ciclo del procesador procesara una solución. De este modo, el tiempo de ejecución sería:\n",
        "$$ t_{exe} = \\frac {1.37 \\times 10^{18}}{2.11 \\times 10^9} s \\approx 20.5 años $$\n",
        "\n"
      ],
      "metadata": {
        "id": "qF5gYBR3-mt-"
      }
    },
    {
      "cell_type": "markdown",
      "source": [
        "La obtención sistemática y ordenada de las soluciones se llevará a cabo por medio del generador de soluciones que expongo a continuación."
      ],
      "metadata": {
        "id": "R5ex8xPSUlOb"
      }
    },
    {
      "cell_type": "code",
      "source": [
        "import itertools \n",
        "\n",
        "\n",
        "def genera_solucion_fb (tomas, n):\n",
        "    \n",
        "    \n",
        "    tomas_no_seleccionadas = tomas.copy()\n",
        "    \n",
        "    sesiones_1 = list(itertools.combinations(tomas_no_seleccionadas, n))\n",
        "    \n",
        "    for sesion_1 in sesiones_1:\n",
        "        \n",
        "        tomas_no_seleccionadas = [i for i in tomas if i not in sesion_1]\n",
        "        sesiones_2 = list(itertools.combinations(tomas_no_seleccionadas, n))\n",
        "        \n",
        "        for sesion_2 in sesiones_2:\n",
        "            tomas_no_seleccionadas = [i for i in tomas if i not in (sesion_1+sesion_2)]\n",
        "            sesiones_3 = list(itertools.combinations(tomas_no_seleccionadas, n))\n",
        "            \n",
        "            for sesion_3 in sesiones_3:\n",
        "                tomas_no_seleccionadas = [i for i in tomas if i not in (sesion_1+sesion_2+sesion_3)]\n",
        "                sesiones_4 = list(itertools.combinations(tomas_no_seleccionadas, n))\n",
        "                \n",
        "                for sesion_4 in sesiones_4:\n",
        "                    tomas_no_seleccionadas = [i for i in tomas if i not in (sesion_1+sesion_2+sesion_3+sesion_4)]\n",
        "                    sesion_5 = tomas_no_seleccionadas\n",
        "                    solucion = []\n",
        "                    solucion.append(list(sesion_1))\n",
        "                    solucion.append(list(sesion_2))\n",
        "                    solucion.append(list(sesion_3))\n",
        "                    solucion.append(list(sesion_4))\n",
        "                    solucion.append(sesion_5)\n",
        "                    yield (solucion) \n",
        "        \n",
        "        "
      ],
      "metadata": {
        "id": "ICdnw_KEU1Hv"
      },
      "execution_count": 57,
      "outputs": []
    },
    {
      "cell_type": "markdown",
      "source": [
        "A continuación probamos nuestro iterador."
      ],
      "metadata": {
        "id": "0kgW5IGvvG-X"
      }
    },
    {
      "cell_type": "code",
      "source": [
        "tomas = [i for i in range (1,len(df)+1)]\n",
        "print (f\"tomas ={tomas}\")\n",
        "i=0\n",
        "for solucion in genera_solucion_fb(tomas, 6):\n",
        "  \n",
        "  print (f\"{i} _: {solucion}\")\n",
        "  if (i>10):\n",
        "    break\n",
        "  i +=1"
      ],
      "metadata": {
        "colab": {
          "base_uri": "https://localhost:8080/"
        },
        "id": "oloF9Vg6UWp-",
        "outputId": "e75097fd-cea3-4e83-bcaa-35f68b2e5e03"
      },
      "execution_count": 58,
      "outputs": [
        {
          "output_type": "stream",
          "name": "stdout",
          "text": [
            "tomas =[1, 2, 3, 4, 5, 6, 7, 8, 9, 10, 11, 12, 13, 14, 15, 16, 17, 18, 19, 20, 21, 22, 23, 24, 25, 26, 27, 28, 29, 30]\n",
            "0 _: [[1, 2, 3, 4, 5, 6], [7, 8, 9, 10, 11, 12], [13, 14, 15, 16, 17, 18], [19, 20, 21, 22, 23, 24], [25, 26, 27, 28, 29, 30]]\n",
            "1 _: [[1, 2, 3, 4, 5, 6], [7, 8, 9, 10, 11, 12], [13, 14, 15, 16, 17, 18], [19, 20, 21, 22, 23, 25], [24, 26, 27, 28, 29, 30]]\n",
            "2 _: [[1, 2, 3, 4, 5, 6], [7, 8, 9, 10, 11, 12], [13, 14, 15, 16, 17, 18], [19, 20, 21, 22, 23, 26], [24, 25, 27, 28, 29, 30]]\n",
            "3 _: [[1, 2, 3, 4, 5, 6], [7, 8, 9, 10, 11, 12], [13, 14, 15, 16, 17, 18], [19, 20, 21, 22, 23, 27], [24, 25, 26, 28, 29, 30]]\n",
            "4 _: [[1, 2, 3, 4, 5, 6], [7, 8, 9, 10, 11, 12], [13, 14, 15, 16, 17, 18], [19, 20, 21, 22, 23, 28], [24, 25, 26, 27, 29, 30]]\n",
            "5 _: [[1, 2, 3, 4, 5, 6], [7, 8, 9, 10, 11, 12], [13, 14, 15, 16, 17, 18], [19, 20, 21, 22, 23, 29], [24, 25, 26, 27, 28, 30]]\n",
            "6 _: [[1, 2, 3, 4, 5, 6], [7, 8, 9, 10, 11, 12], [13, 14, 15, 16, 17, 18], [19, 20, 21, 22, 23, 30], [24, 25, 26, 27, 28, 29]]\n",
            "7 _: [[1, 2, 3, 4, 5, 6], [7, 8, 9, 10, 11, 12], [13, 14, 15, 16, 17, 18], [19, 20, 21, 22, 24, 25], [23, 26, 27, 28, 29, 30]]\n",
            "8 _: [[1, 2, 3, 4, 5, 6], [7, 8, 9, 10, 11, 12], [13, 14, 15, 16, 17, 18], [19, 20, 21, 22, 24, 26], [23, 25, 27, 28, 29, 30]]\n",
            "9 _: [[1, 2, 3, 4, 5, 6], [7, 8, 9, 10, 11, 12], [13, 14, 15, 16, 17, 18], [19, 20, 21, 22, 24, 27], [23, 25, 26, 28, 29, 30]]\n",
            "10 _: [[1, 2, 3, 4, 5, 6], [7, 8, 9, 10, 11, 12], [13, 14, 15, 16, 17, 18], [19, 20, 21, 22, 24, 28], [23, 25, 26, 27, 29, 30]]\n",
            "11 _: [[1, 2, 3, 4, 5, 6], [7, 8, 9, 10, 11, 12], [13, 14, 15, 16, 17, 18], [19, 20, 21, 22, 24, 29], [23, 25, 26, 27, 28, 30]]\n"
          ]
        }
      ]
    },
    {
      "cell_type": "markdown",
      "source": [
        "El algoritmo por fuerza bruta se implementa en la siguiente función:"
      ],
      "metadata": {
        "id": "xozOuMxevXLU"
      }
    },
    {
      "cell_type": "code",
      "source": [
        "# Función que implementa el algoritmo por fuerza bruta\n",
        "        \n",
        "def fuerza_bruta_(df, max_tomas_dia, max_n = np.inf):\n",
        "    tomas = [i for i in df.index]\n",
        "    \n",
        "    k=0\n",
        "    mejor_coste = np.inf \n",
        "    mejor_solucion = None\n",
        "    \n",
        "    for solucion in genera_solucion_fb (tomas, max_tomas_dia):\n",
        "        k+=1\n",
        "        if (k==max_n): # Esto evita que se analicen todos los casos.\n",
        "            break\n",
        "        \n",
        "        \n",
        "        coste = calcula_coste (solucion,df)\n",
        "        \n",
        "        if (coste < mejor_coste):\n",
        "            \n",
        "            mejor_coste = coste\n",
        "            mejor_solucion = solucion\n",
        "            print (f\"iter = {k} coste = {mejor_coste}\")\n",
        "            \n",
        "    \n",
        "    print (f\"mejor_coste = {mejor_coste}\\nmejor_solucion = {mejor_solucion}\")\n",
        "          \n",
        "fuerza_bruta_(df,6,2000)"
      ],
      "metadata": {
        "colab": {
          "base_uri": "https://localhost:8080/"
        },
        "id": "kqS3mimTvg67",
        "outputId": "4535acfc-bd62-47a9-ce35-3d3811d6212d"
      },
      "execution_count": 59,
      "outputs": [
        {
          "output_type": "stream",
          "name": "stdout",
          "text": [
            "iter = 1 coste = 38\n",
            "iter = 2 coste = 37\n",
            "iter = 33 coste = 36\n",
            "iter = 274 coste = 35\n",
            "mejor_coste = 35\n",
            "mejor_solucion = [[1, 2, 3, 4, 5, 6], [7, 8, 9, 10, 11, 12], [13, 14, 15, 16, 17, 18], [19, 21, 23, 24, 26, 29], [20, 22, 25, 27, 28, 30]]\n"
          ]
        }
      ]
    },
    {
      "cell_type": "markdown",
      "metadata": {
        "id": "tgrnsC2nkFa8"
      },
      "source": [
        "Calcula la complejidad del algoritmo por fuerza bruta"
      ]
    },
    {
      "cell_type": "markdown",
      "metadata": {
        "id": "9eUd3xwckP68"
      },
      "source": [
        "**Respuesta**"
      ]
    },
    {
      "cell_type": "markdown",
      "source": [
        " El número de operaciones para recorrer todo el espacio de soluciones mediante fuerza bruta es:\n",
        "\n",
        "$$ T(n) = 3+ 16 \\times \\frac{n_{tomas}!}{(maxTomasPorDia!)^\\frac{n_{tomas}}{maxTomasPorDia}}  $$\n",
        "\n",
        "Es decir el problema es de complejidad $ O(n!) $"
      ],
      "metadata": {
        "id": "MrcLY_d47z62"
      }
    },
    {
      "cell_type": "markdown",
      "metadata": {
        "id": "txbrmLmskReM"
      },
      "source": [
        "(*)Diseña un algoritmo que mejore la complejidad del algortimo por fuerza bruta. Argumenta porque crees que mejora el algoritmo por fuerza bruta"
      ]
    },
    {
      "cell_type": "markdown",
      "metadata": {
        "id": "hLrVwt5QkZPD"
      },
      "source": [
        "**Respuesta**"
      ]
    },
    {
      "cell_type": "markdown",
      "source": [
        "He implementado un algoritmo por recocido simulado. \n",
        "Adicionalmente he incorporado dentro de su bucle principal una búsqueda tabú que puede activarse por parametrización, aunque a decir verdad por las pruebas realizadas y el modelado y tipo de problema, no ha mejorado sustancialmente la calidad de las soluciones para el conjunto de datos del enunciado.\n",
        "\n",
        "He recurrido a la OOP para construir la solución. Haré uso del siguiente objeto *organizador* que contiene las variables más importantes del problema y algunos métodos adicionales."
      ],
      "metadata": {
        "id": "VAwvbaW9wsj6"
      }
    },
    {
      "cell_type": "code",
      "metadata": {
        "id": "m1eyM21Vkabg"
      },
      "source": [
        "\n",
        "import random\n",
        "import math  \n",
        "# Objeto organizador que almacena los datos del problema\n",
        "\n",
        "class organizador():\n",
        "    \n",
        "    def __init__(self, df):\n",
        "        self.df = df\n",
        "        self.temperatura = 0\n",
        "        self.temp_0 = 0\n",
        "        self.umbral_min_t = 0\n",
        "        \n",
        "        self.cooling_schedule = 0\n",
        "        self.k = 0\n",
        "        self.alpha = 2\n",
        "        \n",
        "        self.cooling_rate = 0.99\n",
        "        \n",
        "        self.mejor_solucion = []\n",
        "        self.mejor_coste = np.inf\n",
        "        \n",
        "        self.inc_t = 0\n",
        "        self.max_tomas_dia = np.inf\n",
        "\n",
        "        self.tabu_search = False\n",
        "        self.tabu_list = []\n",
        "        self.tabu_size = np.inf\n",
        "    \n",
        "    def set_tabu_size (self,n):\n",
        "        self.tabu_size = n\n",
        "    \n",
        "    def set_tabu_search (self,mode):\n",
        "        self.tabu_search = mode\n",
        "        \n",
        "    def es_tabu (self,sol):\n",
        "        repetido = False\n",
        "        # print (f\"___LISTA TABU___\\n:{self.tabu_list}\")\n",
        "        for sol_tabu in self.tabu_list:\n",
        "            if (np.array_equal(sol,sol_tabu)):\n",
        "                \n",
        "                print (f\"-- INFO -- Iteración {self.k} \\ttemperatura = {self.temperatura} \\tDetectado por búsqueda tabú : SOLUCION REPETIDA\")\n",
        "                repetido = True\n",
        "                \n",
        "        return repetido\n",
        "\n",
        "    def guarda_solucion (self,sol):\n",
        "        \n",
        "        self.tabu_list.append(sol)\n",
        "        \n",
        "        if (len(self.tabu_list) > self.tabu_size):\n",
        "            self.tabu_list.pop(0) #elimina primer elemento (más antiguo)\n",
        "    \n",
        "    def set_temperatura (self, t):\n",
        "        self.temperatura = t   \n",
        "    \n",
        "    def set_temperatura_0 (self, t):\n",
        "        self.temp_0 = t\n",
        "    \n",
        "    def set_umbral_min_t (self, t):\n",
        "        self.umbral_min_t = t\n",
        "    \n",
        "    def set_cooling_schedule (self, n):\n",
        "        self.cooling_schedule = n\n",
        "        \n",
        "    def set_alpha (self, a):\n",
        "        self.alpha = a\n",
        "    \n",
        "    def set_max_tomas_dia (self,n):\n",
        "        self.max_tomas_dia = n\n",
        "        \n",
        "    def set_cooling_rate (self, rate):\n",
        "        self.cooling_rate = rate\n",
        "    \n",
        "\n",
        "    #Funcion de probabilidad para aceptar peores soluciones\n",
        "    def probabilidad(self, d):\n",
        "        if random.random() <  math.exp( -1*d / self.temperatura)  :\n",
        "            return True\n",
        "        else:\n",
        "            return False\n",
        "\n",
        "    # Método para implementar el descenso de temperatura según el esquema de enfriamiento seleccionado\n",
        "    def bajar_temperatura(self):\n",
        "        \n",
        "        modo = self.cooling_schedule\n",
        "        \n",
        "        if (modo ==0):\n",
        "            # Criterio exponencial\n",
        "            self.temperatura = self.cooling_rate * self.temperatura\n",
        "        elif (modo ==1):\n",
        "            # Criterio logaritmico multiplicativo\n",
        "            self.temperatura = self.temp_0 / (1 + (self.alpha * math.log (1 + self.k)) )\n",
        "           \n",
        "        return self.temperatura\n",
        "\n"
      ],
      "execution_count": 69,
      "outputs": []
    },
    {
      "cell_type": "markdown",
      "source": [
        "También usaré esta función, necesaria para la obtención de grupos (sesiones) aleatorios y que se usa dentro de la función de generación de soluciones vecinas."
      ],
      "metadata": {
        "id": "WujfzZsC_gqG"
      }
    },
    {
      "cell_type": "code",
      "source": [
        "# Función auxiliar que devuelve aleatoriamente un grupo alternativo \n",
        "# cuando se le pasa una solución y un grupo dentro de esa solución\n",
        "def get_alternative_group (group, solucion): \n",
        "    random_group = group\n",
        "\n",
        "    while (random_group == group):\n",
        "        random_group = random.choice(solucion)\n",
        "\n",
        "    return (random_group)"
      ],
      "metadata": {
        "id": "aE81BgoQqVht"
      },
      "execution_count": 70,
      "outputs": []
    },
    {
      "cell_type": "markdown",
      "source": [
        "A continuación se aporta la función *genera_vecina* que genera una solución vecina a partir de otra aportada. El funcionamiento básico es el siguiente: de la solución de entrada se elegirá un grupo aleatorio, llamado grupo origen, del que se extraerá aleatoriamente uno de sus elementos (una toma). Se tomará un segundo grupo aleatoriamente, llamado grupo destino, y se le añadirá la toma extraída anteriormente.\n",
        "\n",
        "Peculiaridades:\n",
        "\n",
        "\n",
        "1.   Si el grupo origen es de 0 elementos, se eliminará de la solución, pasando ésta a tener una sesión menos. Esto se hace así porque el recocido simulado partirá de una solución trivial de tantas sesiones como tomas, y evidentemente conforme se vaya avanzando en la búsqueda de mejores soluciones, el número de sesiones irá disminuyendo.\n",
        "\n",
        "2.   Si el grupo destino, tras la inserción del nuevo elemento que trasegó de un grupo a otro, contiene más elementos de los permitidos, se repetirá la operación tantas veces como sea necesario hasta que se cumpla la condición de tamaño de las sesiones.\n",
        "\n",
        "\n",
        "\n"
      ],
      "metadata": {
        "id": "RzPmyhhV_zPr"
      }
    },
    {
      "cell_type": "code",
      "source": [
        "\n",
        "import copy\n",
        "# Funcion de generar vecinas\n",
        "def genera_vecina(solucion, org): \n",
        "    n_sesiones = len (solucion)\n",
        "    \n",
        "    vecina = copy.deepcopy(solucion)\n",
        "\n",
        "    random_group_origen = get_alternative_group (None, vecina) \n",
        "\n",
        "    random_group_destino = get_alternative_group (random_group_origen, vecina)\n",
        "\n",
        "    # Grupo desaparece al quedarse sin elementos\n",
        "    if (len(random_group_origen) ==0):\n",
        "        vecina.remove(random_group_origen)\n",
        "    else:\n",
        "\n",
        "        elem = random.choice(random_group_origen)\n",
        "        random_group_origen.remove(elem)\n",
        "        random_group_destino.append(elem)\n",
        "        \n",
        "        \n",
        "    while (len (random_group_destino) > org.max_tomas_dia):\n",
        "        \n",
        "        elem = random.choice(random_group_destino)\n",
        "        random_group_destino.remove(elem)\n",
        "        random_group_destino = get_alternative_group (random_group_destino, vecina)\n",
        "        random_group_destino.append(elem)\n",
        "\n",
        "    return (vecina)\n"
      ],
      "metadata": {
        "id": "SrUT2s_gzIeu"
      },
      "execution_count": 74,
      "outputs": []
    },
    {
      "cell_type": "markdown",
      "source": [
        "A continuación, la función principal del recocido simulado, de una forma muy similar a la estudiada en clase."
      ],
      "metadata": {
        "id": "QOCw-7jgB89L"
      }
    },
    {
      "cell_type": "code",
      "source": [
        "\n",
        "#Función principal de recocido\n",
        "def recocido_simulado(org):\n",
        "    \n",
        "    org.set_temperatura (org.temp_0)\n",
        "\n",
        "    df = org.df\n",
        "\n",
        "    # Solución trivial inicial\n",
        "    sol_0 = [[i] for i in range (1, len(df)+1)] #cada toma se graba un dia distinto (máximo coste)\n",
        "    print (sol_0)\n",
        "    \n",
        "    solucion_referencia = sol_0\n",
        "    coste_referencia = calcula_coste(solucion_referencia,df)\n",
        "  \n",
        "    mejor_solucion = sol_0\n",
        "    mejor_coste = coste_referencia\n",
        "    \n",
        "    # BUCLE PRINCIPAL\n",
        "    while org.temperatura > org.umbral_min_t:   \n",
        "        \n",
        "        org.k +=1\n",
        "        \n",
        "        vecina = genera_vecina (solucion_referencia, org)\n",
        "        \n",
        "        # La búsqueda tabú es configurable en la inicialización\n",
        "        if (org.tabu_search):\n",
        "          buscar_vecina = True\n",
        "          while (buscar_vecina):\n",
        "              vecina = genera_vecina (solucion_referencia,org)\n",
        "              buscar_vecina = org.es_tabu (vecina)\n",
        "          org.guarda_solucion(vecina)\n",
        "\n",
        "        coste_vecina = calcula_coste(vecina,df)\n",
        "\n",
        "        # Si es la mejor solución de todas, se guarda\n",
        "        if coste_vecina < mejor_coste:\n",
        "            mejor_solucion = vecina\n",
        "            mejor_coste = coste_vecina\n",
        "            print (f\"-- INFO -- Iteración {org.k} \\ttemperatura = {org.temperatura}\\t COSTE = {mejor_coste}\")\n",
        "\n",
        "        # Aquí se añade cierta aleatoriedad al algoritmo\n",
        "        if coste_vecina < coste_referencia or org.probabilidad(abs(coste_referencia - coste_vecina) ) :\n",
        "            solucion_referencia = vecina\n",
        "            coste_referencia = coste_vecina\n",
        "            \n",
        "        #Bajamos la temperatura\n",
        "        org.bajar_temperatura()\n",
        "        \n",
        "        \n",
        "    org.mejor_solucion = mejor_solucion\n",
        "    org.mejor_coste = mejor_coste\n",
        "\n",
        "    return (mejor_solucion, mejor_coste, org.k)    \n",
        "\n",
        "\n"
      ],
      "metadata": {
        "id": "AFiGyZJy0rtP"
      },
      "execution_count": 72,
      "outputs": []
    },
    {
      "cell_type": "markdown",
      "source": [
        "Y finalmente ya tenemos todas las herramientas necesarias para probar el algoritmo. Dado que he dejado gran parte de las variables como parámetros configurables, hay que ser cuidadoso antes de lanzar la rutina principal y configurar adecuadamente el objeto organizador."
      ],
      "metadata": {
        "id": "Mgy330FzCpr1"
      }
    },
    {
      "cell_type": "code",
      "source": [
        "# Creación del objeto\n",
        "org = organizador(df)\n",
        "\n",
        "##### PRUEBA DEL ALGORITMO #########\n",
        "\n",
        "# Configuración del objeto organizador\n",
        "temp = 100000 # Temperatura inicial\n",
        "org.set_max_tomas_dia(6)\n",
        "org.k = 0 # k es un contador de iteraciones\n",
        "\n",
        "org.set_temperatura_0 (temp) \n",
        "\n",
        "# Configuración del esquema de enfriamiento\n",
        "org.set_cooling_schedule(0) #0: exponencial\n",
        "org.set_umbral_min_t (0.01)\n",
        "org.set_cooling_rate (0.99)\n",
        "\n",
        "# Prueba de otro esquema de enfriamiento\n",
        "# org.set_cooling_schedule(1) #1: logaritmico multiplicativo\n",
        "# org.set_alpha (1.25) # alpha > 1\n",
        "# org.set_umbral_min_t (1)\n",
        "\n",
        "\n",
        "# Configuración de la búsqueda tabú\n",
        "org.set_tabu_search(True)\n",
        "org.set_tabu_size(20)\n",
        "\n",
        "# Simulated Annealing\n",
        "res = recocido_simulado (org)\n",
        "\n",
        "print (f\"** MEJOR COSTE = {res[1]}\\nMEJOR SOLUCION = {res[0]} en {res[2]} iteraciones\")"
      ],
      "metadata": {
        "colab": {
          "base_uri": "https://localhost:8080/"
        },
        "id": "rFUx44iL167W",
        "outputId": "bfb7ef9d-b44f-486f-ec14-3ff2a30df72a"
      },
      "execution_count": 76,
      "outputs": [
        {
          "output_type": "stream",
          "name": "stdout",
          "text": [
            "[[1], [2], [3], [4], [5], [6], [7], [8], [9], [10], [11], [12], [13], [14], [15], [16], [17], [18], [19], [20], [21], [22], [23], [24], [25], [26], [27], [28], [29], [30]]\n",
            "-- INFO -- Iteración 1 \ttemperatura = 100000\t COSTE = 93\n",
            "-- INFO -- Iteración 2 \ttemperatura = 99000.0\t COSTE = 91\n",
            "-- INFO -- Iteración 4 \ttemperatura = 97029.9\t COSTE = 89\n"
          ]
        },
        {
          "output_type": "stream",
          "name": "stderr",
          "text": [
            "/usr/local/lib/python3.7/dist-packages/numpy/core/_asarray.py:83: VisibleDeprecationWarning: Creating an ndarray from ragged nested sequences (which is a list-or-tuple of lists-or-tuples-or ndarrays with different lengths or shapes) is deprecated. If you meant to do this, you must specify 'dtype=object' when creating the ndarray\n",
            "  return array(a, dtype, copy=False, order=order)\n"
          ]
        },
        {
          "output_type": "stream",
          "name": "stdout",
          "text": [
            "-- INFO -- Iteración 8 \ttemperatura = 93206.53479069899\t COSTE = 88\n",
            "-- INFO -- Iteración 10 \ttemperatura = 91351.72474836408\t COSTE = 86\n",
            "-- INFO -- Iteración 14 \ttemperatura = 87752.10229989678\t COSTE = 84\n",
            "-- INFO -- Iteración 17 \ttemperatura = 85145.77710948754\t COSTE = 83\n",
            "-- INFO -- Iteración 19 \ttemperatura = 83451.37614500873\t COSTE = 82\n",
            "-- INFO -- Iteración 25 \ttemperatura = 78567.81408072186\t COSTE = 80\n",
            "-- INFO -- Iteración 26 \ttemperatura = 77782.13593991465\t COSTE = 79\n",
            "-- INFO -- Iteración 28 \ttemperatura = 76234.27143471033\t COSTE = 77\n",
            "-- INFO -- Iteración 32 \ttemperatura = 73230.33696543971\t COSTE = 76\n",
            "-- INFO -- Iteración 36 \ttemperatura = 70344.76949995689\t COSTE = 75\n",
            "-- INFO -- Iteración 38 \ttemperatura = 68944.90858690774\t COSTE = 74\n",
            "-- INFO -- Iteración 44 \ttemperatura = 64910.26283684018\t COSTE = 72\n",
            "-- INFO -- Iteración 47 \ttemperatura = 62982.363120323185\t COSTE = 71\n",
            "-- INFO -- Iteración 48 \ttemperatura = 62352.539489119954\t COSTE = 68\n",
            "-- INFO -- Iteración 49 \ttemperatura = 61729.014094228754\t COSTE = 66\n",
            "-- INFO -- Iteración 53 \ttemperatura = 59296.6446401499\t COSTE = 65\n",
            "-- INFO -- Iteración 56 \ttemperatura = 57535.4749976928\t COSTE = 64\n",
            "-- INFO -- Iteración 61 \ttemperatura = 54715.664239076075\t COSTE = 62\n",
            "-- INFO -- Iteración 63 \ttemperatura = 53626.82252071846\t COSTE = 60\n",
            "-- INFO -- Iteración 64 \ttemperatura = 53090.554295511276\t COSTE = 59\n",
            "-- INFO -- Iteración 71 \ttemperatura = 49483.86596002066\t COSTE = 58\n",
            "-- INFO -- Iteración 74 \ttemperatura = 48014.145657142086\t COSTE = 57\n",
            "-- INFO -- Iteración 78 \ttemperatura = 46122.19674180951\t COSTE = 55\n",
            "-- INFO -- Iteración 100 \ttemperatura = 36972.96376497261\t COSTE = 54\n",
            "-- INFO -- Iteración 101 \ttemperatura = 36603.23412732288\t COSTE = 52\n",
            "-- INFO -- Iteración 103 \ttemperatura = 35874.82976818915\t COSTE = 50\n",
            "-- INFO -- Iteración 111 \ttemperatura = 33103.30883210135\t COSTE = 49\n",
            "-- INFO -- Iteración 123 \ttemperatura = 29342.272152521567\t COSTE = 47\n",
            "-- INFO -- Iteración 124 \ttemperatura = 29048.84943099635\t COSTE = 46\n",
            "-- INFO -- Iteración 126 \ttemperatura = 28470.77732731952\t COSTE = 43\n",
            "-- INFO -- Iteración 175 \ttemperatura = 17398.98284762638\t COSTE = 42\n",
            "-- INFO -- Iteración 192 \ttemperatura = 14666.35416321035\t COSTE = 41\n",
            "-- INFO -- Iteración 248 \ttemperatura = 8353.972967320502 \tDetectado por búsqueda tabú : SOLUCION REPETIDA\n",
            "-- INFO -- Iteración 315 \ttemperatura = 4260.4071378876415 \tDetectado por búsqueda tabú : SOLUCION REPETIDA\n",
            "-- INFO -- Iteración 336 \ttemperatura = 3449.7703895163927 \tDetectado por búsqueda tabú : SOLUCION REPETIDA\n",
            "-- INFO -- Iteración 341 \ttemperatura = 3280.697314869737\t COSTE = 39\n",
            "-- INFO -- Iteración 704 \ttemperatura = 85.41650592753074 \tDetectado por búsqueda tabú : SOLUCION REPETIDA\n",
            "-- INFO -- Iteración 782 \ttemperatura = 39.00200922473638\t COSTE = 38\n",
            "-- INFO -- Iteración 790 \ttemperatura = 35.98889708415431 \tDetectado por búsqueda tabú : SOLUCION REPETIDA\n",
            "-- INFO -- Iteración 996 \ttemperatura = 4.539610841900751\t COSTE = 37\n",
            "-- INFO -- Iteración 1015 \ttemperatura = 3.750484042002253\t COSTE = 36\n",
            "-- INFO -- Iteración 1129 \ttemperatura = 1.1926129093849331 \tDetectado por búsqueda tabú : SOLUCION REPETIDA\n",
            "-- INFO -- Iteración 1219 \ttemperatura = 0.4826885754569993\t COSTE = 35\n",
            "-- INFO -- Iteración 1221 \ttemperatura = 0.47308307280540496\t COSTE = 33\n",
            "-- INFO -- Iteración 1283 \ttemperatura = 0.25369941982891603 \tDetectado por búsqueda tabú : SOLUCION REPETIDA\n",
            "-- INFO -- Iteración 1313 \ttemperatura = 0.18766155557583922 \tDetectado por búsqueda tabú : SOLUCION REPETIDA\n",
            "-- INFO -- Iteración 1313 \ttemperatura = 0.18766155557583922\t COSTE = 32\n",
            "-- INFO -- Iteración 1333 \ttemperatura = 0.1534896882257672\t COSTE = 31\n",
            "-- INFO -- Iteración 1364 \ttemperatura = 0.1124010158949322 \tDetectado por búsqueda tabú : SOLUCION REPETIDA\n",
            "-- INFO -- Iteración 1479 \ttemperatura = 0.03538487087858266 \tDetectado por búsqueda tabú : SOLUCION REPETIDA\n",
            "-- INFO -- Iteración 1518 \ttemperatura = 0.02391058514990555 \tDetectado por búsqueda tabú : SOLUCION REPETIDA\n",
            "-- INFO -- Iteración 1556 \ttemperatura = 0.016320279763455167\t COSTE = 30\n",
            "** MEJOR COSTE = 30\n",
            "MEJOR SOLUCION = [[18, 11, 10, 26, 21, 14], [1, 12, 2, 28, 8, 17], [4, 3, 27, 30, 15, 5], [25, 9, 13, 7, 16, 6], [24, 23, 20, 29, 19, 22]] en 1604 iteraciones\n"
          ]
        }
      ]
    },
    {
      "cell_type": "markdown",
      "metadata": {
        "id": "eGDB4K6uk1iN"
      },
      "source": [
        "(*)Calcula la complejidad del algoritmo "
      ]
    },
    {
      "cell_type": "markdown",
      "metadata": {
        "id": "NhpTh_BPk1ms"
      },
      "source": [
        "Para calcular el número de iteraciones en el bucle principal del recocido simulado, y suponiendo un criterio de enfriamiento exponencial, hay que tener en cuenta las temperaturas final e inicial y la tasa de enfriamiento. De modo que:\n",
        "REVISAR ESTO\n",
        "$$ \\alpha^n \\times T_0 \\lt T_f $$\n",
        "$$ \\alpha^n \\lt \\frac{T_f}{T_0} $$\n",
        "$$ n \\times \\log \\alpha \\gt \\log \\frac{T_f}{T_0} $$\n",
        "$$ n   \\gt \\frac{\\log \\frac{T_f}{T_0}}{\\log \\alpha} $$\n",
        "\n",
        "Para los datos de nuestro ejemplo, \n",
        "\n",
        "$$ n   \\gt \\frac{\\log \\frac{0.01}{100000}}{\\log 0.99} = 1603.73  $$\n",
        "\n",
        "Sabiendo que hay $ \\frac{\\log \\frac{T_f}{T_0}}{\\log \\alpha}  $ iteraciones, el número de operaciones del algoritmo será:\n",
        "\n",
        "$$ T(n) = 10 +  \\frac{\\log \\frac{T_f}{T_0}}{\\log \\alpha} \\times (21 + \\frac {n_{tomas}}{maxTomasPorDia}) $$\n",
        "\n",
        "\n",
        "Es decir, el problema tiene una complejidad aproximadamente lineal $ O(n) $ con respecto al número de tomas, pero condicionada por los valores de $ T_0 $, $ T_f $ y $ \\alpha $. En cierto modo podemos decir que la complejidad aumenta, lógicamente, cuanto más intensa sea la búsqueda.\n",
        "\n",
        "A la vista de la complejidad del algoritmo, vemos que es mejor que el método de fuerza bruta, pues mediante una búsqueda inteligente podemos obtener unos resultados bastante buenos en cuestión de segundos, sin que merezca la pena analizar todas las posibles combinaciones, lo cual requiere un tiempo de ejecución muy elevado. Por contra, no tenemos garantía de que estemos alcanzando el óptimo global.\n"
      ]
    },
    {
      "cell_type": "code",
      "metadata": {
        "id": "nREzhkStlCq8"
      },
      "source": [
        ""
      ],
      "execution_count": null,
      "outputs": []
    },
    {
      "cell_type": "markdown",
      "metadata": {
        "id": "3M6QjTsSkmYe"
      },
      "source": [
        "Según el problema (y tenga sentido), diseña un juego de datos de entrada aleatorios"
      ]
    },
    {
      "cell_type": "markdown",
      "metadata": {
        "id": "Jc3_OlyNkvjZ"
      },
      "source": [
        "Obtengo un juego de datos de entrada aleatorios a partir de las funciones random de numpy."
      ]
    },
    {
      "cell_type": "code",
      "metadata": {
        "id": "sJ-N2etjkyWc"
      },
      "source": [
        "n_tomas =100\n",
        "n_actores =50\n",
        "data = np.random.randint(2, size=n_tomas*n_actores).reshape(n_tomas,n_actores)\n",
        "df_random = pd.DataFrame(data=data)\n",
        "df_random.index = np.arange(1, len(df_random) + 1)\n",
        "# display  (df)"
      ],
      "execution_count": null,
      "outputs": []
    },
    {
      "cell_type": "markdown",
      "metadata": {
        "id": "zy5ZROmjlGo1"
      },
      "source": [
        "Aplica el algoritmo al juego de datos generado"
      ]
    },
    {
      "cell_type": "markdown",
      "metadata": {
        "id": "_Cmj-PVylMsa"
      },
      "source": [
        "Respuesta"
      ]
    },
    {
      "cell_type": "code",
      "metadata": {
        "id": "Jkx8GeiYlUz1"
      },
      "source": [
        "org_2 = organizador(df_random)\n",
        "\n",
        "\n",
        "##### PRUEBA DEL ALGORITMO #########\n",
        "temp = 1000000\n",
        "org_2.k = 0\n",
        "\n",
        "org_2.set_temperatura_0 (temp)\n",
        "\n",
        "org_2.set_cooling_schedule(0) #0: exponencial\n",
        "org_2.set_umbral_min_t (0.01)\n",
        "org_2.set_cooling_rate (0.99)\n",
        "\n",
        "\n",
        "# org.set_cooling_schedule(1) #1: logaritmico multiplicativo\n",
        "# org.set_alpha (1.25) # alpha > 1\n",
        "# org.set_umbral_min_t (1)\n",
        "\n",
        "\n",
        "org_2.set_max_tomas_dia(5)\n",
        "\n",
        "org_2.set_tabu_search(False)\n",
        "org_2.set_tabu_size(20)\n",
        "\n",
        "res = recocido_simulado (org_2)\n",
        "\n",
        "print (f\"** MEJOR COSTE = {res[1]}\\nMEJOR SOLUCION = {res[0]} en {res[2]} iteraciones\")"
      ],
      "execution_count": null,
      "outputs": []
    },
    {
      "cell_type": "markdown",
      "metadata": {
        "id": "eTFWUJQrtGcv"
      },
      "source": [
        "Enumera las referencias que has utilizado(si ha sido necesario) para llevar a cabo el trabajo"
      ]
    },
    {
      "cell_type": "markdown",
      "metadata": {
        "id": "YKQ_mRBttWsP"
      },
      "source": [
        "# REFERENCIAS\n",
        "1. [Artículo: \"A Comparison of Cooling Schedules for Simulated Annealing (Artificial Intelligence)\" ](http://what-when-how.com/artificial-intelligence/a-comparison-of-cooling-schedules-for-simulated-annealing-artificial-intelligence/))\n",
        "\n",
        "        \n",
        "2. Proyecto Fin de Máster: [Aplicación de algoritmos heurísticos para optimizar el coste de doblaje de películas](http://eio.usc.es/pub/mte/descargas/ProyectosFinMaster/Proyecto_759.pdf)\n",
        "\n"
      ]
    },
    {
      "cell_type": "markdown",
      "metadata": {
        "id": "kAkDPUyRtYyH"
      },
      "source": [
        "Describe brevemente las lineas de como crees que es posible avanzar en el estudio del problema. Ten en cuenta incluso posibles variaciones del problema y/o variaciones al alza del tamaño\n"
      ]
    },
    {
      "cell_type": "markdown",
      "metadata": {
        "id": "IE0uZmo-tZu-"
      },
      "source": [
        "Como comenté antes, el modelo de datos podría depurarse haciendo uso de sets de Python en lugar de listas, permitiendo así una verificación de soluciones duplicadas más exhaustiva con la búsqueda tabú.\n",
        "\n",
        "Por las pruebas realizadas, se deduce que el esquema de enfriamiento utilizado inflye en la calidad de las soluciones encontradas. En mi código, sólo he implementado los criterios exponencial y logarítmico multiplicativo, pero el método bajar_temperatura puede adaptarse para otros esquema (ver apartado de referencias). La forma más o menos pronunciada de la curva, especialmente durante los primeros momentos del enfriamiento, determina que se diversifique más o menos la búsqueda por rutas de búsqueda subóptimas al aceptar peores soluciones de referencia con mayor probabilidad. Para los dos casos implementados, se observa que el criterio logarítmico-multiplicativo desciende muy rápidamente al principio, aunque luego tarda mucho más que la exponencial en converger asintóticamente al valor mínimo de temperatura establecido como condición de parada. Intuyo que probablemente algunos esquemas serán mejores o peores que otros en función del problema particular a que nos enfrentemos. En el caso que nos ocupa, el criterio exponencial resulta más sencillo, de convergencia más rápida y con mejores resultados, pero sería interesante experimentar con otros esquemas.\n",
        "\n",
        "En cuanto a modificaciones del problema, resultaría interesante añadir el coste por sesiones, es decir, el coste de tener ocupado un día el estudio de grabación. También podría considerarse, en un caso más realista, que los dobladores no cobran todos igual, por ejemplo. Esto obligaría a realizar modificaciones en el modelado de los datos para incluir esta información, y en la función calcula_coste."
      ]
    }
  ]
}