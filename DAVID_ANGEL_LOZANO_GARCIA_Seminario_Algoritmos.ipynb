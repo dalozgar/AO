{
  "nbformat": 4,
  "nbformat_minor": 0,
  "metadata": {
    "colab": {
      "name": "DAVID ANGEL LOZANO GARCIA Seminario - Algoritmos.ipynb",
      "provenance": [],
      "collapsed_sections": [],
      "include_colab_link": true
    },
    "kernelspec": {
      "name": "python3",
      "display_name": "Python 3"
    }
  },
  "cells": [
    {
      "cell_type": "markdown",
      "metadata": {
        "id": "view-in-github",
        "colab_type": "text"
      },
      "source": [
        "<a href=\"https://colab.research.google.com/github/dalozgar/AO/blob/main/DAVID_ANGEL_LOZANO_GARCIA_Seminario_Algoritmos.ipynb\" target=\"_parent\"><img src=\"https://colab.research.google.com/assets/colab-badge.svg\" alt=\"Open In Colab\"/></a>"
      ]
    },
    {
      "cell_type": "markdown",
      "metadata": {
        "id": "hVbXYX-RfPWh"
      },
      "source": [
        "# Algoritmos de optimización - Seminario<br>\n",
        "Nombre y Apellidos: DAVID ÁNGEL LOZANO GARCÍA <br>\n",
        "Github: https://github.com/dalozgar/AO<br>\n",
        "Google colab: https://colab.research.google.com/drive/1CXp_VlJxLOQeA4sbQPIK0jmDypmABf_Z?usp=sharing\n",
        "\n",
        "Problema:\n",
        "> 1. Sesiones de doblaje <br>\n",
        "\n",
        "Descripción del problema:\n",
        "\n",
        "Se precisa coordinar el doblaje de una película. Los actores del doblaje deben coincidir en las tomas en las que sus personajes aparecen juntos en las diferentes tomas. Los actores de doblaje cobran todos la misma cantidad por cada día que deben desplazarse hasta el estudio de grabación independientemente del número de tomas que se graben. No es posible grabar más de 6 tomas por día. El objetivo es planificar las sesiones por día de manera que el gasto por los\n",
        "servicios de los actores de doblaje sea el menor posible. \n",
        "\n",
        "Los datos son:\n",
        "Número de actores: 10\n",
        "Número de tomas : 30\n",
        "Actores/Tomas: https://bit.ly/36D8IuK\n",
        "- 1 indica que el actor participa en la toma\n",
        "- 0 en caso contrario\n",
        "\n",
        "                                        "
      ]
    },
    {
      "cell_type": "code",
      "source": [
        ""
      ],
      "metadata": {
        "id": "kMEFBBzaFAOU"
      },
      "execution_count": 102,
      "outputs": []
    },
    {
      "cell_type": "markdown",
      "source": [
        "# Adquisición y limpieza de los datos de entrada\n",
        "\n",
        " Antes que nada, procederemos a adquirir de la url facilitada el conjunto de datos de entrada, que habrá que limpiar y formatear adecuadamente para su posterior procesamiento."
      ],
      "metadata": {
        "id": "yCWzeh-6FAm4"
      }
    },
    {
      "cell_type": "code",
      "source": [
        "\n",
        "import os\n",
        "import pandas as pd\n",
        "\n",
        "\n",
        "#public URL\n",
        "#https://docs.google.com/spreadsheets/d/1Ipn6IrbQP4ax8zOnivdBIw2lN0JISkJG4fXndYd27U0/edit#gid=0\n",
        "\n",
        "#get spreadsheets key from url\n",
        "gsheetkey = \"1Ipn6IrbQP4ax8zOnivdBIw2lN0JISkJG4fXndYd27U0\"\n",
        "\n",
        "#sheet name\n",
        "sheet_name = 'Hoja 1'\n",
        "\n",
        "url=f'https://docs.google.com/spreadsheet/ccc?key={gsheetkey}&output=xlsx'\n",
        "df = pd.read_excel(url,sheet_name=sheet_name, index_col=0)\n",
        "display(df.head(5))"
      ],
      "metadata": {
        "id": "nZxRrv-QFquK",
        "colab": {
          "base_uri": "https://localhost:8080/",
          "height": 267
        },
        "outputId": "24c55ff4-aa1c-460e-cfd6-4e0cb32ce20a"
      },
      "execution_count": 103,
      "outputs": [
        {
          "output_type": "display_data",
          "data": {
            "text/html": [
              "\n",
              "  <div id=\"df-63c4aa87-5025-4ae0-b803-25e28817662c\">\n",
              "    <div class=\"colab-df-container\">\n",
              "      <div>\n",
              "<style scoped>\n",
              "    .dataframe tbody tr th:only-of-type {\n",
              "        vertical-align: middle;\n",
              "    }\n",
              "\n",
              "    .dataframe tbody tr th {\n",
              "        vertical-align: top;\n",
              "    }\n",
              "\n",
              "    .dataframe thead th {\n",
              "        text-align: right;\n",
              "    }\n",
              "</style>\n",
              "<table border=\"1\" class=\"dataframe\">\n",
              "  <thead>\n",
              "    <tr style=\"text-align: right;\">\n",
              "      <th></th>\n",
              "      <th>Actor</th>\n",
              "      <th>Unnamed: 2</th>\n",
              "      <th>Unnamed: 3</th>\n",
              "      <th>Unnamed: 4</th>\n",
              "      <th>Unnamed: 5</th>\n",
              "      <th>Unnamed: 6</th>\n",
              "      <th>Unnamed: 7</th>\n",
              "      <th>Unnamed: 8</th>\n",
              "      <th>Unnamed: 9</th>\n",
              "      <th>Unnamed: 10</th>\n",
              "      <th>Unnamed: 11</th>\n",
              "      <th>Unnamed: 12</th>\n",
              "    </tr>\n",
              "  </thead>\n",
              "  <tbody>\n",
              "    <tr>\n",
              "      <th>Toma</th>\n",
              "      <td>1.0</td>\n",
              "      <td>2.0</td>\n",
              "      <td>3.0</td>\n",
              "      <td>4.0</td>\n",
              "      <td>5.0</td>\n",
              "      <td>6.0</td>\n",
              "      <td>7.0</td>\n",
              "      <td>8.0</td>\n",
              "      <td>9.0</td>\n",
              "      <td>10.0</td>\n",
              "      <td>NaN</td>\n",
              "      <td>Total</td>\n",
              "    </tr>\n",
              "    <tr>\n",
              "      <th>1.0</th>\n",
              "      <td>1.0</td>\n",
              "      <td>1.0</td>\n",
              "      <td>1.0</td>\n",
              "      <td>1.0</td>\n",
              "      <td>1.0</td>\n",
              "      <td>0.0</td>\n",
              "      <td>0.0</td>\n",
              "      <td>0.0</td>\n",
              "      <td>0.0</td>\n",
              "      <td>0.0</td>\n",
              "      <td>NaN</td>\n",
              "      <td>5.0</td>\n",
              "    </tr>\n",
              "    <tr>\n",
              "      <th>2.0</th>\n",
              "      <td>0.0</td>\n",
              "      <td>0.0</td>\n",
              "      <td>1.0</td>\n",
              "      <td>1.0</td>\n",
              "      <td>1.0</td>\n",
              "      <td>0.0</td>\n",
              "      <td>0.0</td>\n",
              "      <td>0.0</td>\n",
              "      <td>0.0</td>\n",
              "      <td>0.0</td>\n",
              "      <td>NaN</td>\n",
              "      <td>3.0</td>\n",
              "    </tr>\n",
              "    <tr>\n",
              "      <th>3.0</th>\n",
              "      <td>0.0</td>\n",
              "      <td>1.0</td>\n",
              "      <td>0.0</td>\n",
              "      <td>0.0</td>\n",
              "      <td>1.0</td>\n",
              "      <td>0.0</td>\n",
              "      <td>1.0</td>\n",
              "      <td>0.0</td>\n",
              "      <td>0.0</td>\n",
              "      <td>0.0</td>\n",
              "      <td>NaN</td>\n",
              "      <td>3.0</td>\n",
              "    </tr>\n",
              "    <tr>\n",
              "      <th>4.0</th>\n",
              "      <td>1.0</td>\n",
              "      <td>1.0</td>\n",
              "      <td>0.0</td>\n",
              "      <td>0.0</td>\n",
              "      <td>0.0</td>\n",
              "      <td>0.0</td>\n",
              "      <td>1.0</td>\n",
              "      <td>1.0</td>\n",
              "      <td>0.0</td>\n",
              "      <td>0.0</td>\n",
              "      <td>NaN</td>\n",
              "      <td>4.0</td>\n",
              "    </tr>\n",
              "  </tbody>\n",
              "</table>\n",
              "</div>\n",
              "      <button class=\"colab-df-convert\" onclick=\"convertToInteractive('df-63c4aa87-5025-4ae0-b803-25e28817662c')\"\n",
              "              title=\"Convert this dataframe to an interactive table.\"\n",
              "              style=\"display:none;\">\n",
              "        \n",
              "  <svg xmlns=\"http://www.w3.org/2000/svg\" height=\"24px\"viewBox=\"0 0 24 24\"\n",
              "       width=\"24px\">\n",
              "    <path d=\"M0 0h24v24H0V0z\" fill=\"none\"/>\n",
              "    <path d=\"M18.56 5.44l.94 2.06.94-2.06 2.06-.94-2.06-.94-.94-2.06-.94 2.06-2.06.94zm-11 1L8.5 8.5l.94-2.06 2.06-.94-2.06-.94L8.5 2.5l-.94 2.06-2.06.94zm10 10l.94 2.06.94-2.06 2.06-.94-2.06-.94-.94-2.06-.94 2.06-2.06.94z\"/><path d=\"M17.41 7.96l-1.37-1.37c-.4-.4-.92-.59-1.43-.59-.52 0-1.04.2-1.43.59L10.3 9.45l-7.72 7.72c-.78.78-.78 2.05 0 2.83L4 21.41c.39.39.9.59 1.41.59.51 0 1.02-.2 1.41-.59l7.78-7.78 2.81-2.81c.8-.78.8-2.07 0-2.86zM5.41 20L4 18.59l7.72-7.72 1.47 1.35L5.41 20z\"/>\n",
              "  </svg>\n",
              "      </button>\n",
              "      \n",
              "  <style>\n",
              "    .colab-df-container {\n",
              "      display:flex;\n",
              "      flex-wrap:wrap;\n",
              "      gap: 12px;\n",
              "    }\n",
              "\n",
              "    .colab-df-convert {\n",
              "      background-color: #E8F0FE;\n",
              "      border: none;\n",
              "      border-radius: 50%;\n",
              "      cursor: pointer;\n",
              "      display: none;\n",
              "      fill: #1967D2;\n",
              "      height: 32px;\n",
              "      padding: 0 0 0 0;\n",
              "      width: 32px;\n",
              "    }\n",
              "\n",
              "    .colab-df-convert:hover {\n",
              "      background-color: #E2EBFA;\n",
              "      box-shadow: 0px 1px 2px rgba(60, 64, 67, 0.3), 0px 1px 3px 1px rgba(60, 64, 67, 0.15);\n",
              "      fill: #174EA6;\n",
              "    }\n",
              "\n",
              "    [theme=dark] .colab-df-convert {\n",
              "      background-color: #3B4455;\n",
              "      fill: #D2E3FC;\n",
              "    }\n",
              "\n",
              "    [theme=dark] .colab-df-convert:hover {\n",
              "      background-color: #434B5C;\n",
              "      box-shadow: 0px 1px 3px 1px rgba(0, 0, 0, 0.15);\n",
              "      filter: drop-shadow(0px 1px 2px rgba(0, 0, 0, 0.3));\n",
              "      fill: #FFFFFF;\n",
              "    }\n",
              "  </style>\n",
              "\n",
              "      <script>\n",
              "        const buttonEl =\n",
              "          document.querySelector('#df-63c4aa87-5025-4ae0-b803-25e28817662c button.colab-df-convert');\n",
              "        buttonEl.style.display =\n",
              "          google.colab.kernel.accessAllowed ? 'block' : 'none';\n",
              "\n",
              "        async function convertToInteractive(key) {\n",
              "          const element = document.querySelector('#df-63c4aa87-5025-4ae0-b803-25e28817662c');\n",
              "          const dataTable =\n",
              "            await google.colab.kernel.invokeFunction('convertToInteractive',\n",
              "                                                     [key], {});\n",
              "          if (!dataTable) return;\n",
              "\n",
              "          const docLinkHtml = 'Like what you see? Visit the ' +\n",
              "            '<a target=\"_blank\" href=https://colab.research.google.com/notebooks/data_table.ipynb>data table notebook</a>'\n",
              "            + ' to learn more about interactive tables.';\n",
              "          element.innerHTML = '';\n",
              "          dataTable['output_type'] = 'display_data';\n",
              "          await google.colab.output.renderOutput(dataTable, element);\n",
              "          const docLink = document.createElement('div');\n",
              "          docLink.innerHTML = docLinkHtml;\n",
              "          element.appendChild(docLink);\n",
              "        }\n",
              "      </script>\n",
              "    </div>\n",
              "  </div>\n",
              "  "
            ],
            "text/plain": [
              "      Actor  Unnamed: 2  Unnamed: 3  ...  Unnamed: 10  Unnamed: 11  Unnamed: 12\n",
              "Toma    1.0         2.0         3.0  ...         10.0          NaN        Total\n",
              "1.0     1.0         1.0         1.0  ...          0.0          NaN          5.0\n",
              "2.0     0.0         0.0         1.0  ...          0.0          NaN          3.0\n",
              "3.0     0.0         1.0         0.0  ...          0.0          NaN          3.0\n",
              "4.0     1.0         1.0         0.0  ...          0.0          NaN          4.0\n",
              "\n",
              "[5 rows x 12 columns]"
            ]
          },
          "metadata": {}
        }
      ]
    },
    {
      "cell_type": "code",
      "source": [
        "# Eliminamos filas superfluas\n",
        "df.drop(['Toma','TOTAL'], inplace = True)"
      ],
      "metadata": {
        "id": "uoECg6uBGTrr"
      },
      "execution_count": 104,
      "outputs": []
    },
    {
      "cell_type": "code",
      "source": [
        "# Eliminamos columnas superfluas\n",
        "# 'Unnamed: 11' : NaN\n",
        "\n",
        "df.drop(['Unnamed: 11'], axis = 1, inplace = True)\n",
        "df.drop(['Unnamed: 12'], axis = 1, inplace = True) # 'Unnamed: 12' : coste de la toma individualmente"
      ],
      "metadata": {
        "id": "_d4-otUJGTzH"
      },
      "execution_count": 105,
      "outputs": []
    },
    {
      "cell_type": "code",
      "source": [
        "# Eliminamos la última fila, que tiene índice y valores nulos\n",
        "df = df[df.index.notnull()]\n",
        "# display (df)"
      ],
      "metadata": {
        "id": "2naJB1U8GUNi"
      },
      "execution_count": 106,
      "outputs": []
    },
    {
      "cell_type": "code",
      "source": [
        "# Renombramos las columnas adecuadamente\n",
        "df.columns = ['Actor_'+str(i) for i in range (1,len(df.columns)+1)]\n",
        "# display (df)"
      ],
      "metadata": {
        "id": "_z8cmOx2GUY7"
      },
      "execution_count": 107,
      "outputs": []
    },
    {
      "cell_type": "code",
      "source": [
        "import numpy as np\n",
        "# Resetear el índice para que empiece en 1\n",
        "df.index = np.arange(1, len(df) + 1)"
      ],
      "metadata": {
        "id": "TVVyHw4DHQtK"
      },
      "execution_count": 108,
      "outputs": []
    },
    {
      "cell_type": "code",
      "source": [
        "# Comprobar el funcionamiento del slice a través de una máscara de índices\n",
        "mask = [1,12,5,3]\n",
        "df.loc[mask]"
      ],
      "metadata": {
        "colab": {
          "base_uri": "https://localhost:8080/",
          "height": 175
        },
        "id": "EMlLNukAHQwT",
        "outputId": "0132e6ed-c11a-41e3-cabd-37a7dddc1793"
      },
      "execution_count": 109,
      "outputs": [
        {
          "output_type": "execute_result",
          "data": {
            "text/html": [
              "\n",
              "  <div id=\"df-82d7efdc-7883-4dc7-aa73-81a1d3b5ee3e\">\n",
              "    <div class=\"colab-df-container\">\n",
              "      <div>\n",
              "<style scoped>\n",
              "    .dataframe tbody tr th:only-of-type {\n",
              "        vertical-align: middle;\n",
              "    }\n",
              "\n",
              "    .dataframe tbody tr th {\n",
              "        vertical-align: top;\n",
              "    }\n",
              "\n",
              "    .dataframe thead th {\n",
              "        text-align: right;\n",
              "    }\n",
              "</style>\n",
              "<table border=\"1\" class=\"dataframe\">\n",
              "  <thead>\n",
              "    <tr style=\"text-align: right;\">\n",
              "      <th></th>\n",
              "      <th>Actor_1</th>\n",
              "      <th>Actor_2</th>\n",
              "      <th>Actor_3</th>\n",
              "      <th>Actor_4</th>\n",
              "      <th>Actor_5</th>\n",
              "      <th>Actor_6</th>\n",
              "      <th>Actor_7</th>\n",
              "      <th>Actor_8</th>\n",
              "      <th>Actor_9</th>\n",
              "      <th>Actor_10</th>\n",
              "    </tr>\n",
              "  </thead>\n",
              "  <tbody>\n",
              "    <tr>\n",
              "      <th>1</th>\n",
              "      <td>1.0</td>\n",
              "      <td>1.0</td>\n",
              "      <td>1.0</td>\n",
              "      <td>1.0</td>\n",
              "      <td>1.0</td>\n",
              "      <td>0.0</td>\n",
              "      <td>0.0</td>\n",
              "      <td>0.0</td>\n",
              "      <td>0.0</td>\n",
              "      <td>0.0</td>\n",
              "    </tr>\n",
              "    <tr>\n",
              "      <th>12</th>\n",
              "      <td>1.0</td>\n",
              "      <td>1.0</td>\n",
              "      <td>1.0</td>\n",
              "      <td>1.0</td>\n",
              "      <td>0.0</td>\n",
              "      <td>1.0</td>\n",
              "      <td>0.0</td>\n",
              "      <td>0.0</td>\n",
              "      <td>0.0</td>\n",
              "      <td>0.0</td>\n",
              "    </tr>\n",
              "    <tr>\n",
              "      <th>5</th>\n",
              "      <td>0.0</td>\n",
              "      <td>1.0</td>\n",
              "      <td>0.0</td>\n",
              "      <td>1.0</td>\n",
              "      <td>0.0</td>\n",
              "      <td>0.0</td>\n",
              "      <td>0.0</td>\n",
              "      <td>1.0</td>\n",
              "      <td>0.0</td>\n",
              "      <td>0.0</td>\n",
              "    </tr>\n",
              "    <tr>\n",
              "      <th>3</th>\n",
              "      <td>0.0</td>\n",
              "      <td>1.0</td>\n",
              "      <td>0.0</td>\n",
              "      <td>0.0</td>\n",
              "      <td>1.0</td>\n",
              "      <td>0.0</td>\n",
              "      <td>1.0</td>\n",
              "      <td>0.0</td>\n",
              "      <td>0.0</td>\n",
              "      <td>0.0</td>\n",
              "    </tr>\n",
              "  </tbody>\n",
              "</table>\n",
              "</div>\n",
              "      <button class=\"colab-df-convert\" onclick=\"convertToInteractive('df-82d7efdc-7883-4dc7-aa73-81a1d3b5ee3e')\"\n",
              "              title=\"Convert this dataframe to an interactive table.\"\n",
              "              style=\"display:none;\">\n",
              "        \n",
              "  <svg xmlns=\"http://www.w3.org/2000/svg\" height=\"24px\"viewBox=\"0 0 24 24\"\n",
              "       width=\"24px\">\n",
              "    <path d=\"M0 0h24v24H0V0z\" fill=\"none\"/>\n",
              "    <path d=\"M18.56 5.44l.94 2.06.94-2.06 2.06-.94-2.06-.94-.94-2.06-.94 2.06-2.06.94zm-11 1L8.5 8.5l.94-2.06 2.06-.94-2.06-.94L8.5 2.5l-.94 2.06-2.06.94zm10 10l.94 2.06.94-2.06 2.06-.94-2.06-.94-.94-2.06-.94 2.06-2.06.94z\"/><path d=\"M17.41 7.96l-1.37-1.37c-.4-.4-.92-.59-1.43-.59-.52 0-1.04.2-1.43.59L10.3 9.45l-7.72 7.72c-.78.78-.78 2.05 0 2.83L4 21.41c.39.39.9.59 1.41.59.51 0 1.02-.2 1.41-.59l7.78-7.78 2.81-2.81c.8-.78.8-2.07 0-2.86zM5.41 20L4 18.59l7.72-7.72 1.47 1.35L5.41 20z\"/>\n",
              "  </svg>\n",
              "      </button>\n",
              "      \n",
              "  <style>\n",
              "    .colab-df-container {\n",
              "      display:flex;\n",
              "      flex-wrap:wrap;\n",
              "      gap: 12px;\n",
              "    }\n",
              "\n",
              "    .colab-df-convert {\n",
              "      background-color: #E8F0FE;\n",
              "      border: none;\n",
              "      border-radius: 50%;\n",
              "      cursor: pointer;\n",
              "      display: none;\n",
              "      fill: #1967D2;\n",
              "      height: 32px;\n",
              "      padding: 0 0 0 0;\n",
              "      width: 32px;\n",
              "    }\n",
              "\n",
              "    .colab-df-convert:hover {\n",
              "      background-color: #E2EBFA;\n",
              "      box-shadow: 0px 1px 2px rgba(60, 64, 67, 0.3), 0px 1px 3px 1px rgba(60, 64, 67, 0.15);\n",
              "      fill: #174EA6;\n",
              "    }\n",
              "\n",
              "    [theme=dark] .colab-df-convert {\n",
              "      background-color: #3B4455;\n",
              "      fill: #D2E3FC;\n",
              "    }\n",
              "\n",
              "    [theme=dark] .colab-df-convert:hover {\n",
              "      background-color: #434B5C;\n",
              "      box-shadow: 0px 1px 3px 1px rgba(0, 0, 0, 0.15);\n",
              "      filter: drop-shadow(0px 1px 2px rgba(0, 0, 0, 0.3));\n",
              "      fill: #FFFFFF;\n",
              "    }\n",
              "  </style>\n",
              "\n",
              "      <script>\n",
              "        const buttonEl =\n",
              "          document.querySelector('#df-82d7efdc-7883-4dc7-aa73-81a1d3b5ee3e button.colab-df-convert');\n",
              "        buttonEl.style.display =\n",
              "          google.colab.kernel.accessAllowed ? 'block' : 'none';\n",
              "\n",
              "        async function convertToInteractive(key) {\n",
              "          const element = document.querySelector('#df-82d7efdc-7883-4dc7-aa73-81a1d3b5ee3e');\n",
              "          const dataTable =\n",
              "            await google.colab.kernel.invokeFunction('convertToInteractive',\n",
              "                                                     [key], {});\n",
              "          if (!dataTable) return;\n",
              "\n",
              "          const docLinkHtml = 'Like what you see? Visit the ' +\n",
              "            '<a target=\"_blank\" href=https://colab.research.google.com/notebooks/data_table.ipynb>data table notebook</a>'\n",
              "            + ' to learn more about interactive tables.';\n",
              "          element.innerHTML = '';\n",
              "          dataTable['output_type'] = 'display_data';\n",
              "          await google.colab.output.renderOutput(dataTable, element);\n",
              "          const docLink = document.createElement('div');\n",
              "          docLink.innerHTML = docLinkHtml;\n",
              "          element.appendChild(docLink);\n",
              "        }\n",
              "      </script>\n",
              "    </div>\n",
              "  </div>\n",
              "  "
            ],
            "text/plain": [
              "    Actor_1  Actor_2  Actor_3  Actor_4  ...  Actor_7  Actor_8  Actor_9  Actor_10\n",
              "1       1.0      1.0      1.0      1.0  ...      0.0      0.0      0.0       0.0\n",
              "12      1.0      1.0      1.0      1.0  ...      0.0      0.0      0.0       0.0\n",
              "5       0.0      1.0      0.0      1.0  ...      0.0      1.0      0.0       0.0\n",
              "3       0.0      1.0      0.0      0.0  ...      1.0      0.0      0.0       0.0\n",
              "\n",
              "[4 rows x 10 columns]"
            ]
          },
          "metadata": {},
          "execution_count": 109
        }
      ]
    },
    {
      "cell_type": "markdown",
      "metadata": {
        "id": "3_-exlrTgLd-"
      },
      "source": [
        "(*)¿Cuantas posibilidades hay sin tener en cuenta las restricciones?<br>\n",
        "\n",
        "\n",
        "\n",
        "¿Cuantas posibilidades hay teniendo en cuenta todas las restricciones.\n",
        "\n",
        "\n"
      ]
    },
    {
      "cell_type": "markdown",
      "metadata": {
        "id": "WfCUqJyKhPcw"
      },
      "source": [
        "Respuesta"
      ]
    },
    {
      "cell_type": "markdown",
      "source": [
        "  La única restricción del problema es que solamente puede haber 6 tomas por día. Eliminar esta restricción equivale a decir que pueden grabarse todas las tomas que se quiera por día, o sea que podrían grabarse todas en un día. Es decir, el problema sin restricciones admite una única solución, cuyo coste sería 10 ya que hay 10 actores y todos tendrían que venir ese día."
      ],
      "metadata": {
        "id": "QTtcBv0d7gHT"
      }
    },
    {
      "cell_type": "markdown",
      "source": [
        "Teniendo en cuenta todas las restricciones, la cosa se complica. La restricción de rodar un máximo de seis tomas al día equivale a que habrá un mínimo de 5 días para grabar las 30 tomas. \n",
        "En tal caso, para recorrer todo el espacio de soluciones por un método de fuerza bruta, deberíamos considerar lo siguiente: el primer día podremos escoger 6 tomas de un total de 30 (equivale a combinaciones de 30 elementos tomados de 6 en 6, el segundo día 6 tomas de un total de 24, y así sucesivamente. Este planteamiento se resume en la siguiente tabla.\n",
        "\n",
        "| DIA | TOMAS DISPONIBLES | POSIBILIDADES |\n",
        "|-----|-------------------|---------------|\n",
        "|  1  |       30          | $$ {30 \\choose 6} $$  |\n",
        "|  2  |       24          | $$ {24 \\choose 6} $$  |\n",
        "|  3  |       18          | $$ {18 \\choose 6} $$  |\n",
        "|  4  |       12          | $$ {12 \\choose 6} $$  |\n",
        "|  5  |       6          | $$ {6 \\choose 6} =1 $$  |\n",
        "\n",
        "Lo cual nos da un total de:\n",
        "$$ n = {30 \\choose 6} {24 \\choose 6}{18 \\choose 6}{12 \\choose 6} = \\frac{30!}{6! 24!} \\frac{24!}{6! 18!} \\frac{18!}{6! 12!} \\frac{12!}{6! 6!} = \\frac{30!}{(6!) ^5} = 1.3708741675893e18 $$\n",
        "\n",
        "Es decir una cantidad inmanejable de posibilidades. \n",
        "\n",
        "Y sólo sería una cota inferior...\n",
        "\n",
        "En efecto, cabe la posibilidad de que, dependiendo de los datos de la tabla de entreda, el número de posibles soluciones a considerar fuera aún mayor. Supongamos una situación como la siguiente (voy a considerar para este ejemplo una versión simplificada de nuestro problema con un total de 5 actores, 4 tomas por día y 8 tomas en total:\n",
        "\n",
        "* SOLUCIÓN A: COSTE 7 (3+4) EN DOS SESIONES\n",
        "\n",
        "| DIA | TOMAS | COSTE |\n",
        "|-----|-------------------|---------------|\n",
        "|  1  |       01010          |   |\n",
        "|  1  |       01010          |   |\n",
        "|  1  |       01010          |   |\n",
        "|  1  |       00001          | 3  |\n",
        "|  2  |       10101          |   |\n",
        "|  2  |       10101          |   |\n",
        "|  2  |       10101          |   |\n",
        "|  2  |       00001          | 4  |\n",
        "\n",
        "SOLUCIÓN B: COSTE 6 (2+3+1) EN TRES SESIONES\n",
        "\n",
        "| DIA | TOMAS | COSTE |\n",
        "|-----|-------------------|---------------|\n",
        "|  1  |       01010          |   |\n",
        "|  1  |       01010          |   |\n",
        "|  1  |       01010          | 2 |\n",
        "|  2  |       10101          |   |\n",
        "|  2  |       10101          |   |\n",
        "|  2  |       10101          |  3 |\n",
        "|  3  |       00001          |   |\n",
        "|  3  |       00001          |  1 |\n",
        "\n",
        "Como vemos, la segunda distribución de tomas por días es de menor coste, ilustrando esta idea de que la solución óptima no tiene por qué corresponderse con una distribución de un máximo número de tomas en un mínimo número de días."
      ],
      "metadata": {
        "id": "eE8ODv0W8VYx"
      }
    },
    {
      "cell_type": "markdown",
      "metadata": {
        "id": "dzynfVJahHoY"
      },
      "source": [
        "Modelo para el espacio de soluciones<br>\n",
        "(*) ¿Cual es la estructura de datos que mejor se adapta al problema? Arguméntalo.(Es posible que hayas elegido una al principio y veas la necesidad de cambiar, arguméntalo).\n"
      ]
    },
    {
      "cell_type": "markdown",
      "metadata": {
        "id": "xFIJrOwKi2Ti"
      },
      "source": [
        "Respuesta"
      ]
    },
    {
      "cell_type": "markdown",
      "source": [
        "En este problema, resultará útil identificar a las tomas por su índice en la tabla. De este modo, una sesión podrá describirse por un conjunto de números correspondientes a los índices de las tomas que forman parte de la sesión. Por ejemplo, si lo codificamos como una lista:"
      ],
      "metadata": {
        "id": "4sW1nSLjH5xl"
      }
    },
    {
      "cell_type": "code",
      "source": [
        "sesion_ejemplo = [4, 8, 15, 16, 23, 24]\n",
        "\n",
        "# Podemos usar esa lista a modo de máscara y obtener un slice del dataframe\n",
        "df.loc[sesion_ejemplo]"
      ],
      "metadata": {
        "colab": {
          "base_uri": "https://localhost:8080/",
          "height": 237
        },
        "id": "i9RCKsGyMLUr",
        "outputId": "83764986-0776-47ae-88a7-96a39ae6e2c2"
      },
      "execution_count": 110,
      "outputs": [
        {
          "output_type": "execute_result",
          "data": {
            "text/html": [
              "\n",
              "  <div id=\"df-ff77ca73-ea1e-45f8-a11f-5e0c8ee0d737\">\n",
              "    <div class=\"colab-df-container\">\n",
              "      <div>\n",
              "<style scoped>\n",
              "    .dataframe tbody tr th:only-of-type {\n",
              "        vertical-align: middle;\n",
              "    }\n",
              "\n",
              "    .dataframe tbody tr th {\n",
              "        vertical-align: top;\n",
              "    }\n",
              "\n",
              "    .dataframe thead th {\n",
              "        text-align: right;\n",
              "    }\n",
              "</style>\n",
              "<table border=\"1\" class=\"dataframe\">\n",
              "  <thead>\n",
              "    <tr style=\"text-align: right;\">\n",
              "      <th></th>\n",
              "      <th>Actor_1</th>\n",
              "      <th>Actor_2</th>\n",
              "      <th>Actor_3</th>\n",
              "      <th>Actor_4</th>\n",
              "      <th>Actor_5</th>\n",
              "      <th>Actor_6</th>\n",
              "      <th>Actor_7</th>\n",
              "      <th>Actor_8</th>\n",
              "      <th>Actor_9</th>\n",
              "      <th>Actor_10</th>\n",
              "    </tr>\n",
              "  </thead>\n",
              "  <tbody>\n",
              "    <tr>\n",
              "      <th>4</th>\n",
              "      <td>1.0</td>\n",
              "      <td>1.0</td>\n",
              "      <td>0.0</td>\n",
              "      <td>0.0</td>\n",
              "      <td>0.0</td>\n",
              "      <td>0.0</td>\n",
              "      <td>1.0</td>\n",
              "      <td>1.0</td>\n",
              "      <td>0.0</td>\n",
              "      <td>0.0</td>\n",
              "    </tr>\n",
              "    <tr>\n",
              "      <th>8</th>\n",
              "      <td>1.0</td>\n",
              "      <td>1.0</td>\n",
              "      <td>0.0</td>\n",
              "      <td>0.0</td>\n",
              "      <td>0.0</td>\n",
              "      <td>1.0</td>\n",
              "      <td>0.0</td>\n",
              "      <td>0.0</td>\n",
              "      <td>0.0</td>\n",
              "      <td>0.0</td>\n",
              "    </tr>\n",
              "    <tr>\n",
              "      <th>15</th>\n",
              "      <td>1.0</td>\n",
              "      <td>1.0</td>\n",
              "      <td>0.0</td>\n",
              "      <td>0.0</td>\n",
              "      <td>0.0</td>\n",
              "      <td>0.0</td>\n",
              "      <td>1.0</td>\n",
              "      <td>0.0</td>\n",
              "      <td>0.0</td>\n",
              "      <td>0.0</td>\n",
              "    </tr>\n",
              "    <tr>\n",
              "      <th>16</th>\n",
              "      <td>0.0</td>\n",
              "      <td>0.0</td>\n",
              "      <td>0.0</td>\n",
              "      <td>1.0</td>\n",
              "      <td>0.0</td>\n",
              "      <td>0.0</td>\n",
              "      <td>0.0</td>\n",
              "      <td>0.0</td>\n",
              "      <td>0.0</td>\n",
              "      <td>1.0</td>\n",
              "    </tr>\n",
              "    <tr>\n",
              "      <th>23</th>\n",
              "      <td>1.0</td>\n",
              "      <td>0.0</td>\n",
              "      <td>1.0</td>\n",
              "      <td>0.0</td>\n",
              "      <td>0.0</td>\n",
              "      <td>0.0</td>\n",
              "      <td>0.0</td>\n",
              "      <td>0.0</td>\n",
              "      <td>0.0</td>\n",
              "      <td>0.0</td>\n",
              "    </tr>\n",
              "    <tr>\n",
              "      <th>24</th>\n",
              "      <td>0.0</td>\n",
              "      <td>0.0</td>\n",
              "      <td>1.0</td>\n",
              "      <td>0.0</td>\n",
              "      <td>0.0</td>\n",
              "      <td>1.0</td>\n",
              "      <td>0.0</td>\n",
              "      <td>0.0</td>\n",
              "      <td>0.0</td>\n",
              "      <td>0.0</td>\n",
              "    </tr>\n",
              "  </tbody>\n",
              "</table>\n",
              "</div>\n",
              "      <button class=\"colab-df-convert\" onclick=\"convertToInteractive('df-ff77ca73-ea1e-45f8-a11f-5e0c8ee0d737')\"\n",
              "              title=\"Convert this dataframe to an interactive table.\"\n",
              "              style=\"display:none;\">\n",
              "        \n",
              "  <svg xmlns=\"http://www.w3.org/2000/svg\" height=\"24px\"viewBox=\"0 0 24 24\"\n",
              "       width=\"24px\">\n",
              "    <path d=\"M0 0h24v24H0V0z\" fill=\"none\"/>\n",
              "    <path d=\"M18.56 5.44l.94 2.06.94-2.06 2.06-.94-2.06-.94-.94-2.06-.94 2.06-2.06.94zm-11 1L8.5 8.5l.94-2.06 2.06-.94-2.06-.94L8.5 2.5l-.94 2.06-2.06.94zm10 10l.94 2.06.94-2.06 2.06-.94-2.06-.94-.94-2.06-.94 2.06-2.06.94z\"/><path d=\"M17.41 7.96l-1.37-1.37c-.4-.4-.92-.59-1.43-.59-.52 0-1.04.2-1.43.59L10.3 9.45l-7.72 7.72c-.78.78-.78 2.05 0 2.83L4 21.41c.39.39.9.59 1.41.59.51 0 1.02-.2 1.41-.59l7.78-7.78 2.81-2.81c.8-.78.8-2.07 0-2.86zM5.41 20L4 18.59l7.72-7.72 1.47 1.35L5.41 20z\"/>\n",
              "  </svg>\n",
              "      </button>\n",
              "      \n",
              "  <style>\n",
              "    .colab-df-container {\n",
              "      display:flex;\n",
              "      flex-wrap:wrap;\n",
              "      gap: 12px;\n",
              "    }\n",
              "\n",
              "    .colab-df-convert {\n",
              "      background-color: #E8F0FE;\n",
              "      border: none;\n",
              "      border-radius: 50%;\n",
              "      cursor: pointer;\n",
              "      display: none;\n",
              "      fill: #1967D2;\n",
              "      height: 32px;\n",
              "      padding: 0 0 0 0;\n",
              "      width: 32px;\n",
              "    }\n",
              "\n",
              "    .colab-df-convert:hover {\n",
              "      background-color: #E2EBFA;\n",
              "      box-shadow: 0px 1px 2px rgba(60, 64, 67, 0.3), 0px 1px 3px 1px rgba(60, 64, 67, 0.15);\n",
              "      fill: #174EA6;\n",
              "    }\n",
              "\n",
              "    [theme=dark] .colab-df-convert {\n",
              "      background-color: #3B4455;\n",
              "      fill: #D2E3FC;\n",
              "    }\n",
              "\n",
              "    [theme=dark] .colab-df-convert:hover {\n",
              "      background-color: #434B5C;\n",
              "      box-shadow: 0px 1px 3px 1px rgba(0, 0, 0, 0.15);\n",
              "      filter: drop-shadow(0px 1px 2px rgba(0, 0, 0, 0.3));\n",
              "      fill: #FFFFFF;\n",
              "    }\n",
              "  </style>\n",
              "\n",
              "      <script>\n",
              "        const buttonEl =\n",
              "          document.querySelector('#df-ff77ca73-ea1e-45f8-a11f-5e0c8ee0d737 button.colab-df-convert');\n",
              "        buttonEl.style.display =\n",
              "          google.colab.kernel.accessAllowed ? 'block' : 'none';\n",
              "\n",
              "        async function convertToInteractive(key) {\n",
              "          const element = document.querySelector('#df-ff77ca73-ea1e-45f8-a11f-5e0c8ee0d737');\n",
              "          const dataTable =\n",
              "            await google.colab.kernel.invokeFunction('convertToInteractive',\n",
              "                                                     [key], {});\n",
              "          if (!dataTable) return;\n",
              "\n",
              "          const docLinkHtml = 'Like what you see? Visit the ' +\n",
              "            '<a target=\"_blank\" href=https://colab.research.google.com/notebooks/data_table.ipynb>data table notebook</a>'\n",
              "            + ' to learn more about interactive tables.';\n",
              "          element.innerHTML = '';\n",
              "          dataTable['output_type'] = 'display_data';\n",
              "          await google.colab.output.renderOutput(dataTable, element);\n",
              "          const docLink = document.createElement('div');\n",
              "          docLink.innerHTML = docLinkHtml;\n",
              "          element.appendChild(docLink);\n",
              "        }\n",
              "      </script>\n",
              "    </div>\n",
              "  </div>\n",
              "  "
            ],
            "text/plain": [
              "    Actor_1  Actor_2  Actor_3  Actor_4  ...  Actor_7  Actor_8  Actor_9  Actor_10\n",
              "4       1.0      1.0      0.0      0.0  ...      1.0      1.0      0.0       0.0\n",
              "8       1.0      1.0      0.0      0.0  ...      0.0      0.0      0.0       0.0\n",
              "15      1.0      1.0      0.0      0.0  ...      1.0      0.0      0.0       0.0\n",
              "16      0.0      0.0      0.0      1.0  ...      0.0      0.0      0.0       1.0\n",
              "23      1.0      0.0      1.0      0.0  ...      0.0      0.0      0.0       0.0\n",
              "24      0.0      0.0      1.0      0.0  ...      0.0      0.0      0.0       0.0\n",
              "\n",
              "[6 rows x 10 columns]"
            ]
          },
          "metadata": {},
          "execution_count": 110
        }
      ]
    },
    {
      "cell_type": "markdown",
      "source": [
        "Una solución se modelaría así como un conjunto de sesiones. Por ejemplo como una lista de listas."
      ],
      "metadata": {
        "id": "rXspDJQxH6B_"
      }
    },
    {
      "cell_type": "code",
      "source": [
        "solucion_ejemplo_1 = [[1,2,3,4,5,6],[7,8,9,10,11,12],[13,14,15,16,17,18],[19,20,21,22,23,24],[25,26,27,28,29,30]]\n",
        "solucion_ejemplo_2 = [[1,2,3,4,5,6],[7,8,9,10,11,12],[13,14,15,16,17,18],[19,20,21,22,23],[24],[25,26,27,28,29,30]]"
      ],
      "metadata": {
        "id": "OWO59gt_NP9Z"
      },
      "execution_count": 111,
      "outputs": []
    },
    {
      "cell_type": "markdown",
      "source": [
        "El modelado mediante listas me ha dado buen resultado, pero tras revisar mi código y considerar posibles mejoras, pienso que es posible encontrar una forma mejor de codificar las soluciones mediante sets. Los sets tienen unas propiedades muy interesantes: no admiten valores repetidos (lo cual se adecúa a nuestro problema), y no son conjuntos ordenados. Esto podría aprovecharse para distinguir soluciones que en realidad son iguales pero que con el modelado mediante listas son procesadas como soluciones distintas, y con ello podría mejorarse el funcionamiento de mecanismos como la búsqueda tabú, por ejemplo.\n",
        "\n",
        "Existe la dificultad de que Python no admite la construcción de sets de sets, pero esto podría solventarse mediante un set de frozensets. En tal caso, el tratamiento debería ser muy cuidadoso, ya que los frozensets son inmutables y el manejo se complica.\n",
        "\n",
        "En definitiva, pienso que hay margen para la mejora.\n",
        "\n"
      ],
      "metadata": {
        "id": "-Opl-SaL-gOm"
      }
    },
    {
      "cell_type": "markdown",
      "metadata": {
        "id": "7Z9U2W7bi-XS"
      },
      "source": [
        "Según el modelo para el espacio de soluciones<br>\n",
        "(*)¿Cual es la función objetivo?\n",
        "\n",
        "(*)¿Es un problema de maximización o minimización?"
      ]
    },
    {
      "cell_type": "markdown",
      "metadata": {
        "id": "hBalWLM7j1_d"
      },
      "source": [
        "Respuesta"
      ]
    },
    {
      "cell_type": "markdown",
      "source": [
        "La **función objetivo será el coste de la solución**, siendo la solución una asignación de las tomas a un conjunto de días. Se calculará, de acuerdo con las especificaciones del enunciado, de la siguiente forma: el coste de la solución será la suma de los costes de las sesiones que la conforman, y a su vez el coste de una sesión será la suma de los salarios de los actores que deben acudir ese día, independientemente del número de tomas en los que participen en esa sesión concreta.\n",
        "El problema será, pues, de **minimización** de esa función objetivo."
      ],
      "metadata": {
        "id": "Us4bIa-62LNL"
      }
    },
    {
      "cell_type": "markdown",
      "source": [
        "Usaremos la siguiente función calcula_coste(solucion, df), que proporciona el coste conforme a lo anteriormente especificado. Para ilustrar fácilmente cómo funciona, se empleará una tercera solución de ejemplo (incompleta en este caso).\n",
        "\n"
      ],
      "metadata": {
        "id": "k5BcL8VxRxdO"
      }
    },
    {
      "cell_type": "code",
      "source": [
        "def calcula_coste(solucion, df):\n",
        "        coste = 0\n",
        "        for toma in solucion:\n",
        "            df_i = df.loc[toma]        \n",
        "            coste += df_i.any().sum()\n",
        "        return(coste)\n",
        "\n",
        "\n",
        "solucion_ejemplo_3 =[[1,2,3]]\n",
        "ver_solucion (solucion_ejemplo_3, df)\n",
        "\n",
        "print (\"Para esta solución se ha obtenido un coste de:\", \n",
        "       str(calcula_coste(solucion_ejemplo_3,df)))\n",
        "\n",
        "\n"
      ],
      "metadata": {
        "colab": {
          "base_uri": "https://localhost:8080/",
          "height": 180
        },
        "id": "F4QBv84cPM2X",
        "outputId": "d6480b3b-83e3-445c-c426-02865c58c70a"
      },
      "execution_count": 112,
      "outputs": [
        {
          "output_type": "stream",
          "name": "stdout",
          "text": [
            "* SESION 1:\n"
          ]
        },
        {
          "output_type": "display_data",
          "data": {
            "text/html": [
              "\n",
              "  <div id=\"df-42c84676-e4ce-47af-9dc0-74bcfa03287a\">\n",
              "    <div class=\"colab-df-container\">\n",
              "      <div>\n",
              "<style scoped>\n",
              "    .dataframe tbody tr th:only-of-type {\n",
              "        vertical-align: middle;\n",
              "    }\n",
              "\n",
              "    .dataframe tbody tr th {\n",
              "        vertical-align: top;\n",
              "    }\n",
              "\n",
              "    .dataframe thead th {\n",
              "        text-align: right;\n",
              "    }\n",
              "</style>\n",
              "<table border=\"1\" class=\"dataframe\">\n",
              "  <thead>\n",
              "    <tr style=\"text-align: right;\">\n",
              "      <th></th>\n",
              "      <th>Actor_1</th>\n",
              "      <th>Actor_2</th>\n",
              "      <th>Actor_3</th>\n",
              "      <th>Actor_4</th>\n",
              "      <th>Actor_5</th>\n",
              "      <th>Actor_6</th>\n",
              "      <th>Actor_7</th>\n",
              "      <th>Actor_8</th>\n",
              "      <th>Actor_9</th>\n",
              "      <th>Actor_10</th>\n",
              "    </tr>\n",
              "  </thead>\n",
              "  <tbody>\n",
              "    <tr>\n",
              "      <th>1</th>\n",
              "      <td>1.0</td>\n",
              "      <td>1.0</td>\n",
              "      <td>1.0</td>\n",
              "      <td>1.0</td>\n",
              "      <td>1.0</td>\n",
              "      <td>0.0</td>\n",
              "      <td>0.0</td>\n",
              "      <td>0.0</td>\n",
              "      <td>0.0</td>\n",
              "      <td>0.0</td>\n",
              "    </tr>\n",
              "    <tr>\n",
              "      <th>2</th>\n",
              "      <td>0.0</td>\n",
              "      <td>0.0</td>\n",
              "      <td>1.0</td>\n",
              "      <td>1.0</td>\n",
              "      <td>1.0</td>\n",
              "      <td>0.0</td>\n",
              "      <td>0.0</td>\n",
              "      <td>0.0</td>\n",
              "      <td>0.0</td>\n",
              "      <td>0.0</td>\n",
              "    </tr>\n",
              "    <tr>\n",
              "      <th>3</th>\n",
              "      <td>0.0</td>\n",
              "      <td>1.0</td>\n",
              "      <td>0.0</td>\n",
              "      <td>0.0</td>\n",
              "      <td>1.0</td>\n",
              "      <td>0.0</td>\n",
              "      <td>1.0</td>\n",
              "      <td>0.0</td>\n",
              "      <td>0.0</td>\n",
              "      <td>0.0</td>\n",
              "    </tr>\n",
              "  </tbody>\n",
              "</table>\n",
              "</div>\n",
              "      <button class=\"colab-df-convert\" onclick=\"convertToInteractive('df-42c84676-e4ce-47af-9dc0-74bcfa03287a')\"\n",
              "              title=\"Convert this dataframe to an interactive table.\"\n",
              "              style=\"display:none;\">\n",
              "        \n",
              "  <svg xmlns=\"http://www.w3.org/2000/svg\" height=\"24px\"viewBox=\"0 0 24 24\"\n",
              "       width=\"24px\">\n",
              "    <path d=\"M0 0h24v24H0V0z\" fill=\"none\"/>\n",
              "    <path d=\"M18.56 5.44l.94 2.06.94-2.06 2.06-.94-2.06-.94-.94-2.06-.94 2.06-2.06.94zm-11 1L8.5 8.5l.94-2.06 2.06-.94-2.06-.94L8.5 2.5l-.94 2.06-2.06.94zm10 10l.94 2.06.94-2.06 2.06-.94-2.06-.94-.94-2.06-.94 2.06-2.06.94z\"/><path d=\"M17.41 7.96l-1.37-1.37c-.4-.4-.92-.59-1.43-.59-.52 0-1.04.2-1.43.59L10.3 9.45l-7.72 7.72c-.78.78-.78 2.05 0 2.83L4 21.41c.39.39.9.59 1.41.59.51 0 1.02-.2 1.41-.59l7.78-7.78 2.81-2.81c.8-.78.8-2.07 0-2.86zM5.41 20L4 18.59l7.72-7.72 1.47 1.35L5.41 20z\"/>\n",
              "  </svg>\n",
              "      </button>\n",
              "      \n",
              "  <style>\n",
              "    .colab-df-container {\n",
              "      display:flex;\n",
              "      flex-wrap:wrap;\n",
              "      gap: 12px;\n",
              "    }\n",
              "\n",
              "    .colab-df-convert {\n",
              "      background-color: #E8F0FE;\n",
              "      border: none;\n",
              "      border-radius: 50%;\n",
              "      cursor: pointer;\n",
              "      display: none;\n",
              "      fill: #1967D2;\n",
              "      height: 32px;\n",
              "      padding: 0 0 0 0;\n",
              "      width: 32px;\n",
              "    }\n",
              "\n",
              "    .colab-df-convert:hover {\n",
              "      background-color: #E2EBFA;\n",
              "      box-shadow: 0px 1px 2px rgba(60, 64, 67, 0.3), 0px 1px 3px 1px rgba(60, 64, 67, 0.15);\n",
              "      fill: #174EA6;\n",
              "    }\n",
              "\n",
              "    [theme=dark] .colab-df-convert {\n",
              "      background-color: #3B4455;\n",
              "      fill: #D2E3FC;\n",
              "    }\n",
              "\n",
              "    [theme=dark] .colab-df-convert:hover {\n",
              "      background-color: #434B5C;\n",
              "      box-shadow: 0px 1px 3px 1px rgba(0, 0, 0, 0.15);\n",
              "      filter: drop-shadow(0px 1px 2px rgba(0, 0, 0, 0.3));\n",
              "      fill: #FFFFFF;\n",
              "    }\n",
              "  </style>\n",
              "\n",
              "      <script>\n",
              "        const buttonEl =\n",
              "          document.querySelector('#df-42c84676-e4ce-47af-9dc0-74bcfa03287a button.colab-df-convert');\n",
              "        buttonEl.style.display =\n",
              "          google.colab.kernel.accessAllowed ? 'block' : 'none';\n",
              "\n",
              "        async function convertToInteractive(key) {\n",
              "          const element = document.querySelector('#df-42c84676-e4ce-47af-9dc0-74bcfa03287a');\n",
              "          const dataTable =\n",
              "            await google.colab.kernel.invokeFunction('convertToInteractive',\n",
              "                                                     [key], {});\n",
              "          if (!dataTable) return;\n",
              "\n",
              "          const docLinkHtml = 'Like what you see? Visit the ' +\n",
              "            '<a target=\"_blank\" href=https://colab.research.google.com/notebooks/data_table.ipynb>data table notebook</a>'\n",
              "            + ' to learn more about interactive tables.';\n",
              "          element.innerHTML = '';\n",
              "          dataTable['output_type'] = 'display_data';\n",
              "          await google.colab.output.renderOutput(dataTable, element);\n",
              "          const docLink = document.createElement('div');\n",
              "          docLink.innerHTML = docLinkHtml;\n",
              "          element.appendChild(docLink);\n",
              "        }\n",
              "      </script>\n",
              "    </div>\n",
              "  </div>\n",
              "  "
            ],
            "text/plain": [
              "   Actor_1  Actor_2  Actor_3  Actor_4  ...  Actor_7  Actor_8  Actor_9  Actor_10\n",
              "1      1.0      1.0      1.0      1.0  ...      0.0      0.0      0.0       0.0\n",
              "2      0.0      0.0      1.0      1.0  ...      0.0      0.0      0.0       0.0\n",
              "3      0.0      1.0      0.0      0.0  ...      1.0      0.0      0.0       0.0\n",
              "\n",
              "[3 rows x 10 columns]"
            ]
          },
          "metadata": {}
        },
        {
          "output_type": "stream",
          "name": "stdout",
          "text": [
            "Para esta solución se ha obtenido un coste de: 6\n"
          ]
        }
      ]
    },
    {
      "cell_type": "markdown",
      "metadata": {
        "id": "rlnTYgY1j6I2"
      },
      "source": [
        "Diseña un algoritmo para resolver el problema por fuerza bruta"
      ]
    },
    {
      "cell_type": "markdown",
      "source": [
        "# SOLUCIÓN POR FUERZA BRUTA\n",
        "Como hemos avanzado se trata de un planteamiento inviable dada la ingente cantidad de posibilidades a considerar. No obstante, a efectos de ofrecer el algoritmo solicitado, se planteará dicha solución pero incorporando una limitación en el número de iteraciones para evitar tener que esperar un tiempo excesivo.\n",
        "\n",
        "Por ponernos en situación: mi modesto ASUS F555L tiene un procesador de 2'11GHz. Supongamos que consiguiéramos un código tan sumamente optimizado que en un único ciclo del procesador procesara una solución. De este modo, el tiempo de ejecución sería:\n",
        "$$ t_{exe} = \\frac {1.37 \\times 10^{18}}{2.11 \\times 10^9} s \\approx 20.5 años $$\n",
        "\n"
      ],
      "metadata": {
        "id": "qF5gYBR3-mt-"
      }
    },
    {
      "cell_type": "markdown",
      "source": [
        "La obtención sistemática y ordenada de las soluciones se llevará a cabo por medio del generador de soluciones que expongo a continuación."
      ],
      "metadata": {
        "id": "R5ex8xPSUlOb"
      }
    },
    {
      "cell_type": "code",
      "source": [
        "import itertools \n",
        "\n",
        "\n",
        "def genera_solucion_fb (tomas, n):\n",
        "    \n",
        "    \n",
        "    tomas_no_seleccionadas = tomas.copy()\n",
        "    \n",
        "    sesiones_1 = list(itertools.combinations(tomas_no_seleccionadas, n))\n",
        "    \n",
        "    for sesion_1 in sesiones_1:\n",
        "        \n",
        "        tomas_no_seleccionadas = [i for i in tomas if i not in sesion_1]\n",
        "        sesiones_2 = list(itertools.combinations(tomas_no_seleccionadas, n))\n",
        "        \n",
        "        for sesion_2 in sesiones_2:\n",
        "            tomas_no_seleccionadas = [i for i in tomas if i not in (sesion_1+sesion_2)]\n",
        "            sesiones_3 = list(itertools.combinations(tomas_no_seleccionadas, n))\n",
        "            \n",
        "            for sesion_3 in sesiones_3:\n",
        "                tomas_no_seleccionadas = [i for i in tomas if i not in (sesion_1+sesion_2+sesion_3)]\n",
        "                sesiones_4 = list(itertools.combinations(tomas_no_seleccionadas, n))\n",
        "                \n",
        "                for sesion_4 in sesiones_4:\n",
        "                    tomas_no_seleccionadas = [i for i in tomas if i not in (sesion_1+sesion_2+sesion_3+sesion_4)]\n",
        "                    sesion_5 = tomas_no_seleccionadas\n",
        "                    solucion = []\n",
        "                    solucion.append(list(sesion_1))\n",
        "                    solucion.append(list(sesion_2))\n",
        "                    solucion.append(list(sesion_3))\n",
        "                    solucion.append(list(sesion_4))\n",
        "                    solucion.append(sesion_5)\n",
        "                    yield (solucion) \n",
        "        \n",
        "        "
      ],
      "metadata": {
        "id": "ICdnw_KEU1Hv"
      },
      "execution_count": 113,
      "outputs": []
    },
    {
      "cell_type": "markdown",
      "source": [
        "A continuación probamos nuestro iterador."
      ],
      "metadata": {
        "id": "0kgW5IGvvG-X"
      }
    },
    {
      "cell_type": "code",
      "source": [
        "tomas = [i for i in range (1,len(df)+1)]\n",
        "print (f\"tomas ={tomas}\")\n",
        "i=0\n",
        "for solucion in genera_solucion_fb(tomas, 6):\n",
        "  \n",
        "  print (f\"{i} _: {solucion}\")\n",
        "  if (i>10):\n",
        "    break\n",
        "  i +=1"
      ],
      "metadata": {
        "colab": {
          "base_uri": "https://localhost:8080/"
        },
        "id": "oloF9Vg6UWp-",
        "outputId": "1c4481e6-6dee-414a-daf3-82e00ca5a2aa"
      },
      "execution_count": 114,
      "outputs": [
        {
          "output_type": "stream",
          "name": "stdout",
          "text": [
            "tomas =[1, 2, 3, 4, 5, 6, 7, 8, 9, 10, 11, 12, 13, 14, 15, 16, 17, 18, 19, 20, 21, 22, 23, 24, 25, 26, 27, 28, 29, 30]\n",
            "0 _: [[1, 2, 3, 4, 5, 6], [7, 8, 9, 10, 11, 12], [13, 14, 15, 16, 17, 18], [19, 20, 21, 22, 23, 24], [25, 26, 27, 28, 29, 30]]\n",
            "1 _: [[1, 2, 3, 4, 5, 6], [7, 8, 9, 10, 11, 12], [13, 14, 15, 16, 17, 18], [19, 20, 21, 22, 23, 25], [24, 26, 27, 28, 29, 30]]\n",
            "2 _: [[1, 2, 3, 4, 5, 6], [7, 8, 9, 10, 11, 12], [13, 14, 15, 16, 17, 18], [19, 20, 21, 22, 23, 26], [24, 25, 27, 28, 29, 30]]\n",
            "3 _: [[1, 2, 3, 4, 5, 6], [7, 8, 9, 10, 11, 12], [13, 14, 15, 16, 17, 18], [19, 20, 21, 22, 23, 27], [24, 25, 26, 28, 29, 30]]\n",
            "4 _: [[1, 2, 3, 4, 5, 6], [7, 8, 9, 10, 11, 12], [13, 14, 15, 16, 17, 18], [19, 20, 21, 22, 23, 28], [24, 25, 26, 27, 29, 30]]\n",
            "5 _: [[1, 2, 3, 4, 5, 6], [7, 8, 9, 10, 11, 12], [13, 14, 15, 16, 17, 18], [19, 20, 21, 22, 23, 29], [24, 25, 26, 27, 28, 30]]\n",
            "6 _: [[1, 2, 3, 4, 5, 6], [7, 8, 9, 10, 11, 12], [13, 14, 15, 16, 17, 18], [19, 20, 21, 22, 23, 30], [24, 25, 26, 27, 28, 29]]\n",
            "7 _: [[1, 2, 3, 4, 5, 6], [7, 8, 9, 10, 11, 12], [13, 14, 15, 16, 17, 18], [19, 20, 21, 22, 24, 25], [23, 26, 27, 28, 29, 30]]\n",
            "8 _: [[1, 2, 3, 4, 5, 6], [7, 8, 9, 10, 11, 12], [13, 14, 15, 16, 17, 18], [19, 20, 21, 22, 24, 26], [23, 25, 27, 28, 29, 30]]\n",
            "9 _: [[1, 2, 3, 4, 5, 6], [7, 8, 9, 10, 11, 12], [13, 14, 15, 16, 17, 18], [19, 20, 21, 22, 24, 27], [23, 25, 26, 28, 29, 30]]\n",
            "10 _: [[1, 2, 3, 4, 5, 6], [7, 8, 9, 10, 11, 12], [13, 14, 15, 16, 17, 18], [19, 20, 21, 22, 24, 28], [23, 25, 26, 27, 29, 30]]\n",
            "11 _: [[1, 2, 3, 4, 5, 6], [7, 8, 9, 10, 11, 12], [13, 14, 15, 16, 17, 18], [19, 20, 21, 22, 24, 29], [23, 25, 26, 27, 28, 30]]\n"
          ]
        }
      ]
    },
    {
      "cell_type": "markdown",
      "source": [
        "El algoritmo por fuerza bruta se implementa en la siguiente función:"
      ],
      "metadata": {
        "id": "xozOuMxevXLU"
      }
    },
    {
      "cell_type": "code",
      "source": [
        "# Función que implementa el algoritmo por fuerza bruta\n",
        "        \n",
        "def fuerza_bruta_(df, max_tomas_dia, max_n = np.inf):\n",
        "    tomas = [i for i in df.index]\n",
        "    \n",
        "    k=0\n",
        "    mejor_coste = np.inf \n",
        "    mejor_solucion = None\n",
        "    \n",
        "    for solucion in genera_solucion_fb (tomas, max_tomas_dia):\n",
        "        k+=1\n",
        "        if (k==max_n): # Esto evita que se analicen todos los casos.\n",
        "            break\n",
        "        \n",
        "        \n",
        "        coste = calcula_coste (solucion,df)\n",
        "        \n",
        "        if (coste < mejor_coste):\n",
        "            \n",
        "            mejor_coste = coste\n",
        "            mejor_solucion = solucion\n",
        "            print (f\"iter = {k} coste = {mejor_coste}\")\n",
        "            \n",
        "    \n",
        "    print (f\"mejor_coste = {mejor_coste}\\nmejor_solucion = {mejor_solucion}\")\n",
        "          \n",
        "fuerza_bruta_(df,6,2000)"
      ],
      "metadata": {
        "colab": {
          "base_uri": "https://localhost:8080/"
        },
        "id": "kqS3mimTvg67",
        "outputId": "11d7ed3c-aeb1-4b8b-b6bf-004ad20c9ee6"
      },
      "execution_count": 115,
      "outputs": [
        {
          "output_type": "stream",
          "name": "stdout",
          "text": [
            "iter = 1 coste = 38\n",
            "iter = 2 coste = 37\n",
            "iter = 33 coste = 36\n",
            "iter = 274 coste = 35\n",
            "mejor_coste = 35\n",
            "mejor_solucion = [[1, 2, 3, 4, 5, 6], [7, 8, 9, 10, 11, 12], [13, 14, 15, 16, 17, 18], [19, 21, 23, 24, 26, 29], [20, 22, 25, 27, 28, 30]]\n"
          ]
        }
      ]
    },
    {
      "cell_type": "markdown",
      "metadata": {
        "id": "tgrnsC2nkFa8"
      },
      "source": [
        "Calcula la complejidad del algoritmo por fuerza bruta"
      ]
    },
    {
      "cell_type": "markdown",
      "metadata": {
        "id": "9eUd3xwckP68"
      },
      "source": [
        "**Respuesta**"
      ]
    },
    {
      "cell_type": "markdown",
      "source": [
        " El número de operaciones para recorrer todo el espacio de soluciones mediante fuerza bruta es:\n",
        "\n",
        "$$ T(n) = 3+ 16 \\times \\frac{n_{tomas}!}{(maxTomasPorDia!)^\\frac{n_{tomas}}{maxTomasPorDia}}  $$\n",
        "\n",
        "Es decir el problema es de complejidad $ O(n!) $"
      ],
      "metadata": {
        "id": "MrcLY_d47z62"
      }
    },
    {
      "cell_type": "markdown",
      "metadata": {
        "id": "txbrmLmskReM"
      },
      "source": [
        "(*)Diseña un algoritmo que mejore la complejidad del algortimo por fuerza bruta. Argumenta porque crees que mejora el algoritmo por fuerza bruta"
      ]
    },
    {
      "cell_type": "markdown",
      "metadata": {
        "id": "hLrVwt5QkZPD"
      },
      "source": [
        "**Respuesta**"
      ]
    },
    {
      "cell_type": "markdown",
      "source": [
        "He implementado un algoritmo por recocido simulado. \n",
        "Adicionalmente he incorporado dentro de su bucle principal una búsqueda tabú que puede activarse por parametrización, aunque a decir verdad por las pruebas realizadas y el modelado y tipo de problema, no ha mejorado sustancialmente la calidad de las soluciones para el conjunto de datos del enunciado.\n",
        "\n",
        "He recurrido a la OOP para construir la solución. Haré uso del siguiente objeto *organizador* que contiene las variables más importantes del problema y algunos métodos adicionales."
      ],
      "metadata": {
        "id": "VAwvbaW9wsj6"
      }
    },
    {
      "cell_type": "code",
      "metadata": {
        "id": "m1eyM21Vkabg"
      },
      "source": [
        "\n",
        "import random\n",
        "import math  \n",
        "# Objeto organizador que almacena los datos del problema\n",
        "\n",
        "class organizador():\n",
        "    \n",
        "    def __init__(self, df):\n",
        "        self.df = df\n",
        "        self.temperatura = 0\n",
        "        self.temp_0 = 0\n",
        "        self.umbral_min_t = 0\n",
        "        \n",
        "        self.cooling_schedule = 0\n",
        "        self.k = 0\n",
        "        self.alpha = 2\n",
        "        \n",
        "        self.cooling_rate = 0.99\n",
        "        \n",
        "        self.mejor_solucion = []\n",
        "        self.mejor_coste = np.inf\n",
        "        \n",
        "        self.inc_t = 0\n",
        "        self.max_tomas_dia = np.inf\n",
        "\n",
        "        self.tabu_search = False\n",
        "        self.tabu_list = []\n",
        "        self.tabu_size = np.inf\n",
        "    \n",
        "    def set_tabu_size (self,n):\n",
        "        self.tabu_size = n\n",
        "    \n",
        "    def set_tabu_search (self,mode):\n",
        "        self.tabu_search = mode\n",
        "        \n",
        "    def es_tabu (self,sol):\n",
        "        repetido = False\n",
        "        # print (f\"___LISTA TABU___\\n:{self.tabu_list}\")\n",
        "        for sol_tabu in self.tabu_list:\n",
        "            if (np.array_equal(sol,sol_tabu)):\n",
        "                \n",
        "                print (f\"-- INFO -- Iteración {self.k} \\ttemperatura = {self.temperatura} \\tDetectado por búsqueda tabú : SOLUCION REPETIDA\")\n",
        "                repetido = True\n",
        "                \n",
        "        return repetido\n",
        "\n",
        "    def guarda_solucion (self,sol):\n",
        "        \n",
        "        self.tabu_list.append(sol)\n",
        "        \n",
        "        if (len(self.tabu_list) > self.tabu_size):\n",
        "            self.tabu_list.pop(0) #elimina primer elemento (más antiguo)\n",
        "    \n",
        "    def set_temperatura (self, t):\n",
        "        self.temperatura = t   \n",
        "    \n",
        "    def set_temperatura_0 (self, t):\n",
        "        self.temp_0 = t\n",
        "    \n",
        "    def set_umbral_min_t (self, t):\n",
        "        self.umbral_min_t = t\n",
        "    \n",
        "    def set_cooling_schedule (self, n):\n",
        "        self.cooling_schedule = n\n",
        "        \n",
        "    def set_alpha (self, a):\n",
        "        self.alpha = a\n",
        "    \n",
        "    def set_max_tomas_dia (self,n):\n",
        "        self.max_tomas_dia = n\n",
        "        \n",
        "    def set_cooling_rate (self, rate):\n",
        "        self.cooling_rate = rate\n",
        "    \n",
        "\n",
        "    #Funcion de probabilidad para aceptar peores soluciones\n",
        "    def probabilidad(self, d):\n",
        "        if random.random() <  math.exp( -1*d / self.temperatura)  :\n",
        "            return True\n",
        "        else:\n",
        "            return False\n",
        "\n",
        "    # Método para implementar el descenso de temperatura según el esquema de enfriamiento seleccionado\n",
        "    def bajar_temperatura(self):\n",
        "        \n",
        "        modo = self.cooling_schedule\n",
        "        \n",
        "        if (modo ==0):\n",
        "            # Criterio exponencial\n",
        "            self.temperatura = self.cooling_rate * self.temperatura\n",
        "        elif (modo ==1):\n",
        "            # Criterio logaritmico multiplicativo\n",
        "            self.temperatura = self.temp_0 / (1 + (self.alpha * math.log (1 + self.k)) )\n",
        "           \n",
        "        return self.temperatura\n",
        "\n"
      ],
      "execution_count": 116,
      "outputs": []
    },
    {
      "cell_type": "markdown",
      "source": [
        "También usaré esta función, necesaria para la obtención de grupos (sesiones) aleatorios y que se usa dentro de la función de generación de soluciones vecinas."
      ],
      "metadata": {
        "id": "WujfzZsC_gqG"
      }
    },
    {
      "cell_type": "code",
      "source": [
        "# Función auxiliar que devuelve aleatoriamente un grupo alternativo \n",
        "# cuando se le pasa una solución y un grupo dentro de esa solución\n",
        "def get_alternative_group (group, solucion): \n",
        "    random_group = group\n",
        "\n",
        "    while (random_group == group):\n",
        "        random_group = random.choice(solucion)\n",
        "\n",
        "    return (random_group)"
      ],
      "metadata": {
        "id": "aE81BgoQqVht"
      },
      "execution_count": 117,
      "outputs": []
    },
    {
      "cell_type": "markdown",
      "source": [
        "A continuación se aporta la función *genera_vecina* que genera una solución vecina a partir de otra aportada. El funcionamiento básico es el siguiente: de la solución de entrada se elegirá un grupo aleatorio, llamado grupo origen, del que se extraerá aleatoriamente uno de sus elementos (una toma). Se tomará un segundo grupo aleatoriamente, llamado grupo destino, y se le añadirá la toma extraída anteriormente.\n",
        "\n",
        "Peculiaridades:\n",
        "\n",
        "\n",
        "1.   Si el grupo origen es de 0 elementos, se eliminará de la solución, pasando ésta a tener una sesión menos. Esto se hace así porque el recocido simulado partirá de una solución trivial de tantas sesiones como tomas, y evidentemente conforme se vaya avanzando en la búsqueda de mejores soluciones, el número de sesiones irá disminuyendo.\n",
        "\n",
        "2.   Si el grupo destino, tras la inserción del nuevo elemento que trasegó de un grupo a otro, contiene más elementos de los permitidos, se repetirá la operación tantas veces como sea necesario hasta que se cumpla la condición de tamaño de las sesiones.\n",
        "\n",
        "\n",
        "\n"
      ],
      "metadata": {
        "id": "RzPmyhhV_zPr"
      }
    },
    {
      "cell_type": "code",
      "source": [
        "\n",
        "import copy\n",
        "# Funcion de generar vecinas\n",
        "def genera_vecina(solucion, org): \n",
        "    n_sesiones = len (solucion)\n",
        "    \n",
        "    vecina = copy.deepcopy(solucion)\n",
        "\n",
        "    random_group_origen = get_alternative_group (None, vecina) \n",
        "\n",
        "    random_group_destino = get_alternative_group (random_group_origen, vecina)\n",
        "\n",
        "    # Grupo desaparece al quedarse sin elementos\n",
        "    if (len(random_group_origen) ==0):\n",
        "        vecina.remove(random_group_origen)\n",
        "    else:\n",
        "\n",
        "        elem = random.choice(random_group_origen)\n",
        "        random_group_origen.remove(elem)\n",
        "        random_group_destino.append(elem)\n",
        "        \n",
        "        \n",
        "    while (len (random_group_destino) > org.max_tomas_dia):\n",
        "        \n",
        "        elem = random.choice(random_group_destino)\n",
        "        random_group_destino.remove(elem)\n",
        "        random_group_destino = get_alternative_group (random_group_destino, vecina)\n",
        "        random_group_destino.append(elem)\n",
        "\n",
        "    return (vecina)\n"
      ],
      "metadata": {
        "id": "SrUT2s_gzIeu"
      },
      "execution_count": 118,
      "outputs": []
    },
    {
      "cell_type": "markdown",
      "source": [
        "A continuación, la función principal del recocido simulado, de una forma muy similar a la estudiada en clase."
      ],
      "metadata": {
        "id": "QOCw-7jgB89L"
      }
    },
    {
      "cell_type": "code",
      "source": [
        "\n",
        "#Función principal de recocido\n",
        "def recocido_simulado(org):\n",
        "    \n",
        "    org.set_temperatura (org.temp_0)\n",
        "\n",
        "    df = org.df\n",
        "\n",
        "    # Solución trivial inicial\n",
        "    sol_0 = [[i] for i in range (1, len(df)+1)] #cada toma se graba un dia distinto (máximo coste)\n",
        "    print (sol_0)\n",
        "    \n",
        "    solucion_referencia = sol_0\n",
        "    coste_referencia = calcula_coste(solucion_referencia,df)\n",
        "  \n",
        "    mejor_solucion = sol_0\n",
        "    mejor_coste = coste_referencia\n",
        "    \n",
        "    # BUCLE PRINCIPAL\n",
        "    while org.temperatura > org.umbral_min_t:   \n",
        "        \n",
        "        org.k +=1\n",
        "        \n",
        "        vecina = genera_vecina (solucion_referencia, org)\n",
        "        \n",
        "        # La búsqueda tabú es configurable en la inicialización\n",
        "        if (org.tabu_search):\n",
        "          buscar_vecina = True\n",
        "          while (buscar_vecina):\n",
        "              vecina = genera_vecina (solucion_referencia,org)\n",
        "              buscar_vecina = org.es_tabu (vecina)\n",
        "          org.guarda_solucion(vecina)\n",
        "\n",
        "        coste_vecina = calcula_coste(vecina,df)\n",
        "\n",
        "        # Si es la mejor solución de todas, se guarda\n",
        "        if coste_vecina < mejor_coste:\n",
        "            mejor_solucion = vecina\n",
        "            mejor_coste = coste_vecina\n",
        "            print (f\"-- INFO -- Iteración {org.k} \\ttemperatura = {org.temperatura}\\t COSTE = {mejor_coste}\")\n",
        "\n",
        "        # Aquí se añade cierta aleatoriedad al algoritmo\n",
        "        if coste_vecina < coste_referencia or org.probabilidad(abs(coste_referencia - coste_vecina) ) :\n",
        "            solucion_referencia = vecina\n",
        "            coste_referencia = coste_vecina\n",
        "            \n",
        "        #Bajamos la temperatura\n",
        "        org.bajar_temperatura()\n",
        "        \n",
        "        \n",
        "    org.mejor_solucion = mejor_solucion\n",
        "    org.mejor_coste = mejor_coste\n",
        "\n",
        "    return (mejor_solucion, mejor_coste, org.k)    \n",
        "\n",
        "\n"
      ],
      "metadata": {
        "id": "AFiGyZJy0rtP"
      },
      "execution_count": 119,
      "outputs": []
    },
    {
      "cell_type": "markdown",
      "source": [
        "Y finalmente ya tenemos todas las herramientas necesarias para probar el algoritmo. Dado que he dejado gran parte de las variables como parámetros configurables, hay que ser cuidadoso antes de lanzar la rutina principal y configurar adecuadamente el objeto organizador."
      ],
      "metadata": {
        "id": "Mgy330FzCpr1"
      }
    },
    {
      "cell_type": "code",
      "source": [
        "# Creación del objeto\n",
        "org = organizador(df)\n",
        "\n",
        "##### PRUEBA DEL ALGORITMO #########\n",
        "\n",
        "# Configuración del objeto organizador\n",
        "temp = 100000 # Temperatura inicial\n",
        "org.set_max_tomas_dia(6)\n",
        "org.k = 0 # k es un contador de iteraciones\n",
        "\n",
        "org.set_temperatura_0 (temp) \n",
        "\n",
        "# Configuración del esquema de enfriamiento\n",
        "org.set_cooling_schedule(0) #0: exponencial\n",
        "org.set_umbral_min_t (0.01)\n",
        "org.set_cooling_rate (0.99)\n",
        "\n",
        "# Prueba de otro esquema de enfriamiento\n",
        "# org.set_cooling_schedule(1) #1: logaritmico multiplicativo\n",
        "# org.set_alpha (1.25) # alpha > 1\n",
        "# org.set_umbral_min_t (1)\n",
        "\n",
        "\n",
        "# Configuración de la búsqueda tabú\n",
        "org.set_tabu_search(True)\n",
        "org.set_tabu_size(20)\n",
        "\n",
        "# Simulated Annealing\n",
        "res = recocido_simulado (org)\n",
        "\n",
        "print (f\"** MEJOR COSTE = {res[1]}\\nMEJOR SOLUCION = {res[0]} en {res[2]} iteraciones\")"
      ],
      "metadata": {
        "colab": {
          "base_uri": "https://localhost:8080/"
        },
        "id": "rFUx44iL167W",
        "outputId": "dbd8cda1-e558-4e1f-f6b2-12f46c59db82"
      },
      "execution_count": 120,
      "outputs": [
        {
          "output_type": "stream",
          "name": "stdout",
          "text": [
            "[[1], [2], [3], [4], [5], [6], [7], [8], [9], [10], [11], [12], [13], [14], [15], [16], [17], [18], [19], [20], [21], [22], [23], [24], [25], [26], [27], [28], [29], [30]]\n",
            "-- INFO -- Iteración 1 \ttemperatura = 100000\t COSTE = 92\n",
            "-- INFO -- Iteración 2 \ttemperatura = 99000.0\t COSTE = 90\n",
            "-- INFO -- Iteración 4 \ttemperatura = 97029.9\t COSTE = 89\n",
            "-- INFO -- Iteración 5 \ttemperatura = 96059.601\t COSTE = 88\n"
          ]
        },
        {
          "output_type": "stream",
          "name": "stderr",
          "text": [
            "/usr/local/lib/python3.7/dist-packages/numpy/core/_asarray.py:83: VisibleDeprecationWarning: Creating an ndarray from ragged nested sequences (which is a list-or-tuple of lists-or-tuples-or ndarrays with different lengths or shapes) is deprecated. If you meant to do this, you must specify 'dtype=object' when creating the ndarray\n",
            "  return array(a, dtype, copy=False, order=order)\n"
          ]
        },
        {
          "output_type": "stream",
          "name": "stdout",
          "text": [
            "-- INFO -- Iteración 6 \ttemperatura = 95099.00499\t COSTE = 85\n",
            "-- INFO -- Iteración 7 \ttemperatura = 94148.0149401\t COSTE = 84\n",
            "-- INFO -- Iteración 11 \ttemperatura = 90438.20750088044\t COSTE = 82\n",
            "-- INFO -- Iteración 12 \ttemperatura = 89533.82542587163\t COSTE = 80\n",
            "-- INFO -- Iteración 26 \ttemperatura = 77782.13593991465\t COSTE = 78\n",
            "-- INFO -- Iteración 30 \ttemperatura = 74717.20943315959\t COSTE = 77\n",
            "-- INFO -- Iteración 33 \ttemperatura = 72498.03359578531\t COSTE = 73\n",
            "-- INFO -- Iteración 37 \ttemperatura = 69641.32180495732\t COSTE = 71\n",
            "-- INFO -- Iteración 38 \ttemperatura = 68944.90858690774\t COSTE = 70\n",
            "-- INFO -- Iteración 39 \ttemperatura = 68255.45950103865\t COSTE = 68\n",
            "-- INFO -- Iteración 42 \ttemperatura = 66228.2040983983\t COSTE = 66\n",
            "-- INFO -- Iteración 46 \ttemperatura = 63618.548606387056\t COSTE = 64\n",
            "-- INFO -- Iteración 68 \ttemperatura = 50998.57462495649\t COSTE = 63\n",
            "-- INFO -- Iteración 69 \ttemperatura = 50488.58887870693\t COSTE = 61\n",
            "-- INFO -- Iteración 70 \ttemperatura = 49983.70298991986\t COSTE = 59\n",
            "-- INFO -- Iteración 71 \ttemperatura = 49483.86596002066\t COSTE = 58\n",
            "-- INFO -- Iteración 73 \ttemperatura = 48499.13702741625\t COSTE = 57\n",
            "-- INFO -- Iteración 75 \ttemperatura = 47534.004200570664\t COSTE = 55\n",
            "-- INFO -- Iteración 101 \ttemperatura = 36603.23412732288\t COSTE = 54\n",
            "-- INFO -- Iteración 102 \ttemperatura = 36237.20178604965\t COSTE = 53\n",
            "-- INFO -- Iteración 103 \ttemperatura = 35874.82976818915\t COSTE = 51\n",
            "-- INFO -- Iteración 104 \ttemperatura = 35516.081470507255\t COSTE = 48\n",
            "-- INFO -- Iteración 107 \ttemperatura = 34461.21833475172\t COSTE = 45\n",
            "-- INFO -- Iteración 113 \ttemperatura = 32444.552986342533\t COSTE = 44\n",
            "-- INFO -- Iteración 114 \ttemperatura = 32120.10745647911\t COSTE = 42\n",
            "-- INFO -- Iteración 303 \ttemperatura = 4806.4980279267065\t COSTE = 41\n",
            "-- INFO -- Iteración 410 \ttemperatura = 1639.814001862766 \tDetectado por búsqueda tabú : SOLUCION REPETIDA\n",
            "-- INFO -- Iteración 429 \ttemperatura = 1354.7628772652874\t COSTE = 40\n",
            "-- INFO -- Iteración 463 \ttemperatura = 962.6311346295462\t COSTE = 38\n",
            "-- INFO -- Iteración 648 \ttemperatura = 149.9584368081736\t COSTE = 37\n",
            "-- INFO -- Iteración 825 \ttemperatura = 25.316306699425063 \tDetectado por búsqueda tabú : SOLUCION REPETIDA\n",
            "-- INFO -- Iteración 852 \ttemperatura = 19.29970196648346 \tDetectado por búsqueda tabú : SOLUCION REPETIDA\n",
            "-- INFO -- Iteración 861 \ttemperatura = 17.630610617676577 \tDetectado por búsqueda tabú : SOLUCION REPETIDA\n",
            "-- INFO -- Iteración 1017 \ttemperatura = 3.675849409566408\t COSTE = 36\n",
            "-- INFO -- Iteración 1189 \ttemperatura = 0.6525460751709375\t COSTE = 35\n",
            "-- INFO -- Iteración 1194 \ttemperatura = 0.620564824588859\t COSTE = 34\n",
            "-- INFO -- Iteración 1276 \ttemperatura = 0.27219059307227084\t COSTE = 33\n",
            "-- INFO -- Iteración 1308 \ttemperatura = 0.1973328276101023\t COSTE = 32\n",
            "-- INFO -- Iteración 1312 \ttemperatura = 0.18955712684428205\t COSTE = 31\n",
            "-- INFO -- Iteración 1464 \ttemperatura = 0.0411424070095115\t COSTE = 30\n",
            "** MEJOR COSTE = 30\n",
            "MEJOR SOLUCION = [[5, 18, 24, 12, 4, 19], [25, 17, 1, 22, 2, 16], [6, 7, 3, 13, 9, 15], [28, 20, 27, 30, 23, 29], [10, 26, 11, 21, 8, 14]] en 1604 iteraciones\n"
          ]
        }
      ]
    },
    {
      "cell_type": "markdown",
      "metadata": {
        "id": "eGDB4K6uk1iN"
      },
      "source": [
        "(*)Calcula la complejidad del algoritmo "
      ]
    },
    {
      "cell_type": "markdown",
      "metadata": {
        "id": "NhpTh_BPk1ms"
      },
      "source": [
        "Para calcular el número de iteraciones en el bucle principal del recocido simulado, y suponiendo un criterio de enfriamiento exponencial, hay que tener en cuenta las temperaturas final e inicial y la tasa de enfriamiento. De modo que:\n",
        "REVISAR ESTO\n",
        "$$ \\alpha^n \\times T_0 \\lt T_f $$\n",
        "$$ \\alpha^n \\lt \\frac{T_f}{T_0} $$\n",
        "$$ n \\times \\log \\alpha \\gt \\log \\frac{T_f}{T_0} $$\n",
        "$$ n   \\gt \\frac{\\log \\frac{T_f}{T_0}}{\\log \\alpha} $$\n",
        "\n",
        "Para los datos de nuestro ejemplo, \n",
        "\n",
        "$$ n   \\gt \\frac{\\log \\frac{0.01}{100000}}{\\log 0.99} = 1603.73  $$\n",
        "\n",
        "Sabiendo que hay $ \\frac{\\log \\frac{T_f}{T_0}}{\\log \\alpha}  $ iteraciones, el número de operaciones del algoritmo será:\n",
        "\n",
        "$$ T(n) = 10 +  \\frac{\\log \\frac{T_f}{T_0}}{\\log \\alpha} \\times (21 + \\frac {n_{tomas}}{maxTomasPorDia}) $$\n",
        "\n",
        "\n",
        "Es decir, el problema tiene una complejidad aproximadamente lineal $ O(n) $ con respecto al número de tomas, pero condicionada por los valores de $ T_0 $, $ T_f $ y $ \\alpha $. En cierto modo podemos decir que la complejidad aumenta, lógicamente, cuanto más intensa sea la búsqueda.\n",
        "\n",
        "A la vista de la complejidad del algoritmo, vemos que es mejor que el método de fuerza bruta, pues mediante una búsqueda inteligente podemos obtener unos resultados bastante buenos en cuestión de segundos, sin que merezca la pena analizar todas las posibles combinaciones, lo cual requiere un tiempo de ejecución muy elevado. Por contra, no tenemos garantía de que estemos alcanzando el óptimo global.\n"
      ]
    },
    {
      "cell_type": "code",
      "metadata": {
        "id": "nREzhkStlCq8"
      },
      "source": [
        ""
      ],
      "execution_count": 120,
      "outputs": []
    },
    {
      "cell_type": "markdown",
      "metadata": {
        "id": "3M6QjTsSkmYe"
      },
      "source": [
        "Según el problema (y tenga sentido), diseña un juego de datos de entrada aleatorios"
      ]
    },
    {
      "cell_type": "markdown",
      "metadata": {
        "id": "Jc3_OlyNkvjZ"
      },
      "source": [
        "Obtengo un juego de datos de entrada aleatorios a partir de las funciones random de numpy."
      ]
    },
    {
      "cell_type": "code",
      "metadata": {
        "id": "sJ-N2etjkyWc"
      },
      "source": [
        "n_tomas =100\n",
        "n_actores =50\n",
        "data = np.random.randint(2, size=n_tomas*n_actores).reshape(n_tomas,n_actores)\n",
        "df_random = pd.DataFrame(data=data)\n",
        "df_random.index = np.arange(1, len(df_random) + 1)\n",
        "# display  (df_random)"
      ],
      "execution_count": 121,
      "outputs": []
    },
    {
      "cell_type": "markdown",
      "metadata": {
        "id": "zy5ZROmjlGo1"
      },
      "source": [
        "Aplica el algoritmo al juego de datos generado"
      ]
    },
    {
      "cell_type": "markdown",
      "metadata": {
        "id": "_Cmj-PVylMsa"
      },
      "source": [
        "Respuesta"
      ]
    },
    {
      "cell_type": "code",
      "metadata": {
        "id": "Jkx8GeiYlUz1",
        "colab": {
          "base_uri": "https://localhost:8080/"
        },
        "outputId": "c6743977-b73c-4901-d19a-18c326cd8f12"
      },
      "source": [
        "org_2 = organizador(df_random)\n",
        "\n",
        "\n",
        "##### PRUEBA DEL ALGORITMO #########\n",
        "temp = 1000000\n",
        "org_2.k = 0\n",
        "\n",
        "org_2.set_temperatura_0 (temp)\n",
        "\n",
        "org_2.set_cooling_schedule(0) #0: exponencial\n",
        "org_2.set_umbral_min_t (0.01)\n",
        "org_2.set_cooling_rate (0.99)\n",
        "\n",
        "\n",
        "# org.set_cooling_schedule(1) #1: logaritmico multiplicativo\n",
        "# org.set_alpha (1.25) # alpha > 1\n",
        "# org.set_umbral_min_t (1)\n",
        "\n",
        "\n",
        "org_2.set_max_tomas_dia(5)\n",
        "\n",
        "org_2.set_tabu_search(False)\n",
        "org_2.set_tabu_size(20)\n",
        "\n",
        "res = recocido_simulado (org_2)\n",
        "\n",
        "print (f\"** MEJOR COSTE = {res[1]}\\nMEJOR SOLUCION = {res[0]} en {res[2]} iteraciones\")"
      ],
      "execution_count": 122,
      "outputs": [
        {
          "output_type": "stream",
          "name": "stdout",
          "text": [
            "[[1], [2], [3], [4], [5], [6], [7], [8], [9], [10], [11], [12], [13], [14], [15], [16], [17], [18], [19], [20], [21], [22], [23], [24], [25], [26], [27], [28], [29], [30], [31], [32], [33], [34], [35], [36], [37], [38], [39], [40], [41], [42], [43], [44], [45], [46], [47], [48], [49], [50], [51], [52], [53], [54], [55], [56], [57], [58], [59], [60], [61], [62], [63], [64], [65], [66], [67], [68], [69], [70], [71], [72], [73], [74], [75], [76], [77], [78], [79], [80], [81], [82], [83], [84], [85], [86], [87], [88], [89], [90], [91], [92], [93], [94], [95], [96], [97], [98], [99], [100]]\n",
            "-- INFO -- Iteración 1 \ttemperatura = 1000000\t COSTE = 2465\n",
            "-- INFO -- Iteración 2 \ttemperatura = 990000.0\t COSTE = 2457\n",
            "-- INFO -- Iteración 3 \ttemperatura = 980100.0\t COSTE = 2444\n",
            "-- INFO -- Iteración 4 \ttemperatura = 970299.0\t COSTE = 2423\n",
            "-- INFO -- Iteración 5 \ttemperatura = 960596.01\t COSTE = 2411\n",
            "-- INFO -- Iteración 6 \ttemperatura = 950990.0499\t COSTE = 2399\n",
            "-- INFO -- Iteración 7 \ttemperatura = 941480.149401\t COSTE = 2389\n",
            "-- INFO -- Iteración 8 \ttemperatura = 932065.34790699\t COSTE = 2376\n",
            "-- INFO -- Iteración 9 \ttemperatura = 922744.69442792\t COSTE = 2366\n",
            "-- INFO -- Iteración 10 \ttemperatura = 913517.2474836408\t COSTE = 2360\n",
            "-- INFO -- Iteración 11 \ttemperatura = 904382.0750088043\t COSTE = 2350\n",
            "-- INFO -- Iteración 12 \ttemperatura = 895338.2542587162\t COSTE = 2344\n",
            "-- INFO -- Iteración 14 \ttemperatura = 877521.0229989678\t COSTE = 2335\n",
            "-- INFO -- Iteración 15 \ttemperatura = 868745.8127689781\t COSTE = 2320\n",
            "-- INFO -- Iteración 18 \ttemperatura = 842943.1933839266\t COSTE = 2308\n",
            "-- INFO -- Iteración 20 \ttemperatura = 826168.6238355866\t COSTE = 2292\n",
            "-- INFO -- Iteración 21 \ttemperatura = 817906.9375972308\t COSTE = 2285\n",
            "-- INFO -- Iteración 23 \ttemperatura = 801630.5895390459\t COSTE = 2270\n",
            "-- INFO -- Iteración 24 \ttemperatura = 793614.2836436555\t COSTE = 2252\n",
            "-- INFO -- Iteración 25 \ttemperatura = 785678.140807219\t COSTE = 2239\n",
            "-- INFO -- Iteración 27 \ttemperatura = 770043.1458051553\t COSTE = 2237\n",
            "-- INFO -- Iteración 28 \ttemperatura = 762342.7143471037\t COSTE = 2223\n",
            "-- INFO -- Iteración 29 \ttemperatura = 754719.2872036326\t COSTE = 2203\n",
            "-- INFO -- Iteración 30 \ttemperatura = 747172.0943315963\t COSTE = 2183\n",
            "-- INFO -- Iteración 33 \ttemperatura = 724980.3359578535\t COSTE = 2165\n",
            "-- INFO -- Iteración 34 \ttemperatura = 717730.5325982749\t COSTE = 2153\n",
            "-- INFO -- Iteración 38 \ttemperatura = 689449.0858690777\t COSTE = 2139\n",
            "-- INFO -- Iteración 40 \ttemperatura = 675729.049060283\t COSTE = 2129\n",
            "-- INFO -- Iteración 43 \ttemperatura = 655659.2205741435\t COSTE = 2123\n",
            "-- INFO -- Iteración 47 \ttemperatura = 629823.631203232\t COSTE = 2102\n",
            "-- INFO -- Iteración 53 \ttemperatura = 592966.4464014991\t COSTE = 2101\n",
            "-- INFO -- Iteración 54 \ttemperatura = 587036.781937484\t COSTE = 2087\n",
            "-- INFO -- Iteración 55 \ttemperatura = 581166.4141181092\t COSTE = 2079\n",
            "-- INFO -- Iteración 56 \ttemperatura = 575354.7499769281\t COSTE = 2067\n",
            "-- INFO -- Iteración 61 \ttemperatura = 547156.642390761\t COSTE = 2050\n",
            "-- INFO -- Iteración 62 \ttemperatura = 541685.0759668533\t COSTE = 2048\n",
            "-- INFO -- Iteración 63 \ttemperatura = 536268.2252071848\t COSTE = 2041\n",
            "-- INFO -- Iteración 64 \ttemperatura = 530905.542955113\t COSTE = 2040\n",
            "-- INFO -- Iteración 65 \ttemperatura = 525596.4875255618\t COSTE = 2035\n",
            "-- INFO -- Iteración 66 \ttemperatura = 520340.52265030623\t COSTE = 2021\n",
            "-- INFO -- Iteración 67 \ttemperatura = 515137.11742380314\t COSTE = 2011\n",
            "-- INFO -- Iteración 68 \ttemperatura = 509985.7462495651\t COSTE = 2001\n",
            "-- INFO -- Iteración 69 \ttemperatura = 504885.8887870694\t COSTE = 1988\n",
            "-- INFO -- Iteración 70 \ttemperatura = 499837.02989919874\t COSTE = 1979\n",
            "-- INFO -- Iteración 71 \ttemperatura = 494838.65960020677\t COSTE = 1973\n",
            "-- INFO -- Iteración 72 \ttemperatura = 489890.2730042047\t COSTE = 1954\n",
            "-- INFO -- Iteración 75 \ttemperatura = 475340.0420057068\t COSTE = 1943\n",
            "-- INFO -- Iteración 77 \ttemperatura = 465880.7751697932\t COSTE = 1934\n",
            "-- INFO -- Iteración 78 \ttemperatura = 461221.9674180953\t COSTE = 1932\n",
            "-- INFO -- Iteración 82 \ttemperatura = 443047.9816261723\t COSTE = 1925\n",
            "-- INFO -- Iteración 86 \ttemperatura = 425590.1233886544\t COSTE = 1924\n",
            "-- INFO -- Iteración 87 \ttemperatura = 421334.22215476783\t COSTE = 1919\n",
            "-- INFO -- Iteración 88 \ttemperatura = 417120.87993322016\t COSTE = 1893\n",
            "-- INFO -- Iteración 94 \ttemperatura = 392711.02835780464\t COSTE = 1888\n",
            "-- INFO -- Iteración 95 \ttemperatura = 388783.9180742266\t COSTE = 1880\n",
            "-- INFO -- Iteración 96 \ttemperatura = 384896.0788934843\t COSTE = 1864\n",
            "-- INFO -- Iteración 98 \ttemperatura = 377236.64692350395\t COSTE = 1845\n",
            "-- INFO -- Iteración 102 \ttemperatura = 362372.0178604967\t COSTE = 1833\n",
            "-- INFO -- Iteración 103 \ttemperatura = 358748.2976818917\t COSTE = 1828\n",
            "-- INFO -- Iteración 120 \ttemperatura = 302404.4356690215\t COSTE = 1818\n",
            "-- INFO -- Iteración 121 \ttemperatura = 299380.3913123313\t COSTE = 1814\n",
            "-- INFO -- Iteración 122 \ttemperatura = 296386.587399208\t COSTE = 1812\n",
            "-- INFO -- Iteración 129 \ttemperatura = 276251.66769920825\t COSTE = 1809\n",
            "-- INFO -- Iteración 145 \ttemperatura = 235216.6292404101\t COSTE = 1795\n",
            "-- INFO -- Iteración 154 \ttemperatura = 214874.4477060795\t COSTE = 1790\n",
            "-- INFO -- Iteración 155 \ttemperatura = 212725.7032290187\t COSTE = 1785\n",
            "-- INFO -- Iteración 156 \ttemperatura = 210598.4461967285\t COSTE = 1784\n",
            "-- INFO -- Iteración 159 \ttemperatura = 204343.46174623945\t COSTE = 1773\n",
            "-- INFO -- Iteración 162 \ttemperatura = 198274.2565889144\t COSTE = 1751\n",
            "-- INFO -- Iteración 164 \ttemperatura = 194328.598882795\t COSTE = 1747\n",
            "-- INFO -- Iteración 168 \ttemperatura = 186671.2767157033\t COSTE = 1739\n",
            "-- INFO -- Iteración 170 \ttemperatura = 182956.5183090608\t COSTE = 1719\n",
            "-- INFO -- Iteración 171 \ttemperatura = 181126.9531259702\t COSTE = 1704\n",
            "-- INFO -- Iteración 172 \ttemperatura = 179315.6835947105\t COSTE = 1693\n",
            "-- INFO -- Iteración 173 \ttemperatura = 177522.52675876342\t COSTE = 1689\n",
            "-- INFO -- Iteración 174 \ttemperatura = 175747.30149117578\t COSTE = 1677\n",
            "-- INFO -- Iteración 178 \ttemperatura = 168822.1565806905\t COSTE = 1672\n",
            "-- INFO -- Iteración 185 \ttemperatura = 157353.2821077896\t COSTE = 1670\n",
            "-- INFO -- Iteración 193 \ttemperatura = 145196.90621578257\t COSTE = 1661\n",
            "-- INFO -- Iteración 197 \ttemperatura = 139475.56877522494\t COSTE = 1640\n",
            "-- INFO -- Iteración 199 \ttemperatura = 136700.00495659796\t COSTE = 1636\n",
            "-- INFO -- Iteración 202 \ttemperatura = 132639.87810938203\t COSTE = 1633\n",
            "-- INFO -- Iteración 203 \ttemperatura = 131313.4793282882\t COSTE = 1623\n",
            "-- INFO -- Iteración 204 \ttemperatura = 130000.34453500532\t COSTE = 1622\n",
            "-- INFO -- Iteración 206 \ttemperatura = 127413.33767875872\t COSTE = 1613\n",
            "-- INFO -- Iteración 207 \ttemperatura = 126139.20430197113\t COSTE = 1599\n",
            "-- INFO -- Iteración 208 \ttemperatura = 124877.81225895141\t COSTE = 1598\n",
            "-- INFO -- Iteración 209 \ttemperatura = 123629.0341363619\t COSTE = 1596\n",
            "-- INFO -- Iteración 210 \ttemperatura = 122392.74379499827\t COSTE = 1584\n",
            "-- INFO -- Iteración 230 \ttemperatura = 100105.8742614895\t COSTE = 1577\n",
            "-- INFO -- Iteración 231 \ttemperatura = 99104.8155188746\t COSTE = 1558\n",
            "-- INFO -- Iteración 233 \ttemperatura = 97132.629690049\t COSTE = 1546\n",
            "-- INFO -- Iteración 236 \ttemperatura = 94247.69345562486\t COSTE = 1542\n",
            "-- INFO -- Iteración 237 \ttemperatura = 93305.2165210686\t COSTE = 1538\n",
            "-- INFO -- Iteración 244 \ttemperatura = 86966.55909824683\t COSTE = 1530\n",
            "-- INFO -- Iteración 246 \ttemperatura = 85235.92457219173\t COSTE = 1518\n",
            "-- INFO -- Iteración 249 \ttemperatura = 82704.33237647304\t COSTE = 1515\n",
            "-- INFO -- Iteración 250 \ttemperatura = 81877.28905270831\t COSTE = 1511\n",
            "-- INFO -- Iteración 251 \ttemperatura = 81058.51616218123\t COSTE = 1488\n",
            "-- INFO -- Iteración 253 \ttemperatura = 79445.45169055382\t COSTE = 1482\n",
            "-- INFO -- Iteración 254 \ttemperatura = 78650.99717364828\t COSTE = 1471\n",
            "-- INFO -- Iteración 255 \ttemperatura = 77864.4872019118\t COSTE = 1459\n",
            "-- INFO -- Iteración 256 \ttemperatura = 77085.84232989268\t COSTE = 1456\n",
            "-- INFO -- Iteración 259 \ttemperatura = 74796.31572685254\t COSTE = 1445\n",
            "-- INFO -- Iteración 342 \ttemperatura = 32478.903417210444\t COSTE = 1441\n",
            "-- INFO -- Iteración 343 \ttemperatura = 32154.11438303834\t COSTE = 1440\n",
            "-- INFO -- Iteración 345 \ttemperatura = 31514.247506815875\t COSTE = 1438\n",
            "-- INFO -- Iteración 346 \ttemperatura = 31199.105031747717\t COSTE = 1428\n",
            "-- INFO -- Iteración 347 \ttemperatura = 30887.11398143024\t COSTE = 1418\n",
            "-- INFO -- Iteración 352 \ttemperatura = 29373.33806646733\t COSTE = 1408\n",
            "-- INFO -- Iteración 353 \ttemperatura = 29079.604685802657\t COSTE = 1405\n",
            "-- INFO -- Iteración 358 \ttemperatura = 27654.414711223737\t COSTE = 1387\n",
            "-- INFO -- Iteración 359 \ttemperatura = 27377.8705641115\t COSTE = 1382\n",
            "-- INFO -- Iteración 360 \ttemperatura = 27104.091858470387\t COSTE = 1362\n",
            "-- INFO -- Iteración 361 \ttemperatura = 26833.05093988568\t COSTE = 1361\n",
            "-- INFO -- Iteración 362 \ttemperatura = 26564.720430486825\t COSTE = 1353\n",
            "-- INFO -- Iteración 367 \ttemperatura = 25262.784807768214\t COSTE = 1350\n",
            "-- INFO -- Iteración 389 \ttemperatura = 20251.421078849282\t COSTE = 1345\n",
            "-- INFO -- Iteración 406 \ttemperatura = 17070.797554767778\t COSTE = 1340\n",
            "-- INFO -- Iteración 407 \ttemperatura = 16900.0895792201\t COSTE = 1317\n",
            "-- INFO -- Iteración 409 \ttemperatura = 16563.777796593622\t COSTE = 1304\n",
            "-- INFO -- Iteración 410 \ttemperatura = 16398.140018627684\t COSTE = 1293\n",
            "-- INFO -- Iteración 416 \ttemperatura = 15438.523314636106\t COSTE = 1279\n",
            "-- INFO -- Iteración 418 \ttemperatura = 15131.296700674848\t COSTE = 1275\n",
            "-- INFO -- Iteración 419 \ttemperatura = 14979.9837336681\t COSTE = 1271\n",
            "-- INFO -- Iteración 421 \ttemperatura = 14681.882057368104\t COSTE = 1253\n",
            "-- INFO -- Iteración 426 \ttemperatura = 13962.323750362408\t COSTE = 1234\n",
            "-- INFO -- Iteración 428 \ttemperatura = 13684.473507730196\t COSTE = 1214\n",
            "-- INFO -- Iteración 483 \ttemperatura = 7873.426833606009\t COSTE = 1213\n",
            "-- INFO -- Iteración 484 \ttemperatura = 7794.692565269948\t COSTE = 1211\n",
            "-- INFO -- Iteración 487 \ttemperatura = 7563.182401388865\t COSTE = 1207\n",
            "-- INFO -- Iteración 488 \ttemperatura = 7487.5505773749765\t COSTE = 1200\n",
            "-- INFO -- Iteración 489 \ttemperatura = 7412.675071601227\t COSTE = 1187\n",
            "-- INFO -- Iteración 491 \ttemperatura = 7265.162837676363\t COSTE = 1185\n",
            "-- INFO -- Iteración 494 \ttemperatura = 7049.380236234538\t COSTE = 1173\n",
            "-- INFO -- Iteración 525 \ttemperatura = 5162.284900969662\t COSTE = 1169\n",
            "-- INFO -- Iteración 526 \ttemperatura = 5110.6620519599655\t COSTE = 1162\n",
            "-- INFO -- Iteración 559 \ttemperatura = 3668.0781964830194\t COSTE = 1157\n",
            "-- INFO -- Iteración 560 \ttemperatura = 3631.397414518189\t COSTE = 1153\n",
            "-- INFO -- Iteración 561 \ttemperatura = 3595.0834403730073\t COSTE = 1151\n",
            "-- INFO -- Iteración 587 \ttemperatura = 2768.369361856851\t COSTE = 1148\n",
            "-- INFO -- Iteración 594 \ttemperatura = 2580.3011523941573\t COSTE = 1147\n",
            "-- INFO -- Iteración 595 \ttemperatura = 2554.4981408702156\t COSTE = 1139\n",
            "-- INFO -- Iteración 598 \ttemperatura = 2478.626991588229\t COSTE = 1127\n",
            "-- INFO -- Iteración 599 \ttemperatura = 2453.8407216723467\t COSTE = 1122\n",
            "-- INFO -- Iteración 604 \ttemperatura = 2333.5781103498366\t COSTE = 1120\n",
            "-- INFO -- Iteración 606 \ttemperatura = 2287.139905953875\t COSTE = 1109\n",
            "-- INFO -- Iteración 611 \ttemperatura = 2175.0472932913563\t COSTE = 1108\n",
            "-- INFO -- Iteración 613 \ttemperatura = 2131.7638521548583\t COSTE = 1088\n",
            "-- INFO -- Iteración 629 \ttemperatura = 1815.1068980564012\t COSTE = 1087\n",
            "-- INFO -- Iteración 630 \ttemperatura = 1796.955829075837\t COSTE = 1086\n",
            "-- INFO -- Iteración 631 \ttemperatura = 1778.9862707850787\t COSTE = 1079\n",
            "-- INFO -- Iteración 633 \ttemperatura = 1743.5844439964555\t COSTE = 1077\n",
            "-- INFO -- Iteración 697 \ttemperatura = 916.4218594687475\t COSTE = 1061\n",
            "-- INFO -- Iteración 698 \ttemperatura = 907.25764087406\t COSTE = 1059\n",
            "-- INFO -- Iteración 700 \ttemperatura = 889.2032138206663\t COSTE = 1048\n",
            "-- INFO -- Iteración 701 \ttemperatura = 880.3111816824596\t COSTE = 1046\n",
            "-- INFO -- Iteración 848 \ttemperatura = 200.91382605767328\t COSTE = 1045\n",
            "-- INFO -- Iteración 1019 \ttemperatura = 36.027000063160436\t COSTE = 1031\n",
            "-- INFO -- Iteración 1159 \ttemperatura = 8.821762143797214\t COSTE = 1029\n",
            "-- INFO -- Iteración 1161 \ttemperatura = 8.64620907713565\t COSTE = 1024\n",
            "-- INFO -- Iteración 1162 \ttemperatura = 8.559746986364294\t COSTE = 1023\n",
            "-- INFO -- Iteración 1164 \ttemperatura = 8.389408021335644\t COSTE = 1018\n",
            "-- INFO -- Iteración 1175 \ttemperatura = 7.511357932086725\t COSTE = 1003\n",
            "-- INFO -- Iteración 1178 \ttemperatura = 7.288263090145817\t COSTE = 996\n",
            "-- INFO -- Iteración 1184 \ttemperatura = 6.861755022984277\t COSTE = 994\n",
            "-- INFO -- Iteración 1230 \ttemperatura = 4.321695465002974\t COSTE = 992\n",
            "-- INFO -- Iteración 1231 \ttemperatura = 4.278478510352945\t COSTE = 989\n",
            "-- INFO -- Iteración 1232 \ttemperatura = 4.235693725249415\t COSTE = 988\n",
            "-- INFO -- Iteración 1282 \ttemperatura = 2.562620402312289\t COSTE = 985\n",
            "-- INFO -- Iteración 1289 \ttemperatura = 2.3885296768347546\t COSTE = 984\n",
            "-- INFO -- Iteración 1361 \ttemperatura = 1.1584162809085907\t COSTE = 972\n",
            "-- INFO -- Iteración 1364 \ttemperatura = 1.1240101589493245\t COSTE = 971\n",
            "-- INFO -- Iteración 1380 \ttemperatura = 0.957047184626989\t COSTE = 970\n",
            "-- INFO -- Iteración 1382 \ttemperatura = 0.938001945652912\t COSTE = 957\n",
            "-- INFO -- Iteración 1401 \ttemperatura = 0.7749477765951689\t COSTE = 956\n",
            "-- INFO -- Iteración 1411 \ttemperatura = 0.7008488782205982\t COSTE = 953\n",
            "-- INFO -- Iteración 1412 \ttemperatura = 0.6938403894383922\t COSTE = 952\n",
            "-- INFO -- Iteración 1440 \ttemperatura = 0.523654724150034\t COSTE = 951\n",
            "-- INFO -- Iteración 1449 \ttemperatura = 0.4783676222373443\t COSTE = 950\n",
            "-- INFO -- Iteración 1456 \ttemperatura = 0.4458698842480899\t COSTE = 948\n",
            "-- INFO -- Iteración 1461 \ttemperatura = 0.4240178234699982\t COSTE = 946\n",
            "-- INFO -- Iteración 1464 \ttemperatura = 0.41142407009511583\t COSTE = 945\n",
            "-- INFO -- Iteración 1517 \ttemperatura = 0.2415210621202588\t COSTE = 944\n",
            "-- INFO -- Iteración 1528 \ttemperatura = 0.2162430461254635\t COSTE = 943\n",
            "-- INFO -- Iteración 1559 \ttemperatura = 0.1583555113420082\t COSTE = 942\n",
            "-- INFO -- Iteración 1600 \ttemperatura = 0.10487601125264756\t COSTE = 941\n",
            "-- INFO -- Iteración 1604 \ttemperatura = 0.10074347795400836\t COSTE = 940\n",
            "-- INFO -- Iteración 1654 \ttemperatura = 0.06095041538671169\t COSTE = 939\n",
            "-- INFO -- Iteración 1705 \ttemperatura = 0.03650661739247849\t COSTE = 938\n",
            "-- INFO -- Iteración 1709 \ttemperatura = 0.03506811100581144\t COSTE = 936\n",
            "-- INFO -- Iteración 1720 \ttemperatura = 0.03139782128809408\t COSTE = 935\n",
            "-- INFO -- Iteración 1810 \ttemperatura = 0.012707702147731785\t COSTE = 933\n",
            "** MEJOR COSTE = 933\n",
            "MEJOR SOLUCION = [[51, 24, 35, 36, 62], [47, 77, 25, 88, 98], [30, 60, 56, 7, 23], [58, 70, 26, 29, 40], [92, 13, 8, 78, 90], [67, 80, 71, 52, 97], [15, 34, 12, 55, 59], [39, 33, 11, 91, 72], [75, 16, 94, 74, 4], [79, 82, 46, 73, 48], [28, 20, 21, 83, 5], [63, 85, 44, 64, 27], [57, 50, 84, 96, 6], [22, 41, 100, 17, 18], [53, 10, 87, 1, 14], [38, 19, 76, 31, 89], [99, 2, 68, 3, 9], [65, 54, 32, 49, 37], [42, 66, 93, 43, 86], [45, 61, 81, 69, 95]] en 1833 iteraciones\n"
          ]
        }
      ]
    },
    {
      "cell_type": "markdown",
      "metadata": {
        "id": "eTFWUJQrtGcv"
      },
      "source": [
        "Enumera las referencias que has utilizado(si ha sido necesario) para llevar a cabo el trabajo"
      ]
    },
    {
      "cell_type": "markdown",
      "metadata": {
        "id": "YKQ_mRBttWsP"
      },
      "source": [
        "# REFERENCIAS\n",
        "1. [Artículo: \"A Comparison of Cooling Schedules for Simulated Annealing (Artificial Intelligence)\" ](http://what-when-how.com/artificial-intelligence/a-comparison-of-cooling-schedules-for-simulated-annealing-artificial-intelligence/))\n",
        "\n",
        "        \n",
        "2. Proyecto Fin de Máster: [Aplicación de algoritmos heurísticos para optimizar el coste de doblaje de películas](http://eio.usc.es/pub/mte/descargas/ProyectosFinMaster/Proyecto_759.pdf)\n",
        "\n"
      ]
    },
    {
      "cell_type": "markdown",
      "metadata": {
        "id": "kAkDPUyRtYyH"
      },
      "source": [
        "Describe brevemente las lineas de como crees que es posible avanzar en el estudio del problema. Ten en cuenta incluso posibles variaciones del problema y/o variaciones al alza del tamaño\n"
      ]
    },
    {
      "cell_type": "markdown",
      "metadata": {
        "id": "IE0uZmo-tZu-"
      },
      "source": [
        "Como comenté antes, el modelo de datos podría depurarse haciendo uso de sets de Python en lugar de listas, permitiendo así una verificación de soluciones duplicadas más exhaustiva con la búsqueda tabú.\n",
        "\n",
        "Por las pruebas realizadas, se deduce que el esquema de enfriamiento utilizado inflye en la calidad de las soluciones encontradas. En mi código, sólo he implementado los criterios exponencial y logarítmico multiplicativo, pero el método bajar_temperatura puede adaptarse para otros esquema (ver apartado de referencias). La forma más o menos pronunciada de la curva, especialmente durante los primeros momentos del enfriamiento, determina que se diversifique más o menos la búsqueda por rutas de búsqueda subóptimas al aceptar peores soluciones de referencia con mayor probabilidad. Para los dos casos implementados, se observa que el criterio logarítmico-multiplicativo desciende muy rápidamente al principio, aunque luego tarda mucho más que la exponencial en converger asintóticamente al valor mínimo de temperatura establecido como condición de parada. Intuyo que probablemente algunos esquemas serán mejores o peores que otros en función del problema particular a que nos enfrentemos. En el caso que nos ocupa, el criterio exponencial resulta más sencillo, de convergencia más rápida y con mejores resultados, pero sería interesante experimentar con otros esquemas.\n",
        "\n",
        "En cuanto a modificaciones del problema, resultaría interesante añadir el coste por sesiones, es decir, el coste de tener ocupado un día el estudio de grabación. También podría considerarse, en un caso más realista, que los dobladores no cobran todos igual, por ejemplo. Esto obligaría a realizar modificaciones en el modelado de los datos para incluir esta información, y en la función calcula_coste."
      ]
    }
  ]
}