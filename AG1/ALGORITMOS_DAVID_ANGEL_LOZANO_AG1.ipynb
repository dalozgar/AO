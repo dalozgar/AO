{
  "nbformat": 4,
  "nbformat_minor": 0,
  "metadata": {
    "colab": {
      "name": "ALGORITMOS - DAVID ANGEL LOZANO - AG1.ipynb",
      "provenance": [],
      "collapsed_sections": [],
      "include_colab_link": true
    },
    "kernelspec": {
      "name": "python3",
      "display_name": "Python 3"
    },
    "language_info": {
      "name": "python"
    }
  },
  "cells": [
    {
      "cell_type": "markdown",
      "metadata": {
        "id": "view-in-github",
        "colab_type": "text"
      },
      "source": [
        "<a href=\"https://colab.research.google.com/github/dalozgar/AO/blob/main/ALGORITMOS_DAVID_ANGEL_LOZANO_AG1.ipynb\" target=\"_parent\"><img src=\"https://colab.research.google.com/assets/colab-badge.svg\" alt=\"Open In Colab\"/></a>"
      ]
    },
    {
      "cell_type": "markdown",
      "metadata": {
        "id": "GG2D6vLdYwwy"
      },
      "source": [
        "Actividad Guiada 1 de Algoritmos de Optimizacion\n",
        "\n",
        "Nombre: DAVID ANGEL LOZANO GARCIA\n",
        "\n",
        "https://colab.research.google.com/drive/1UZq1m_e2nVoQdSQPnAX8WROuVqwgR4sg\n",
        "\n",
        "https://github.com/dalozgar/AO"
      ]
    },
    {
      "cell_type": "code",
      "metadata": {
        "id": "rTiqLuX2ZKuL",
        "colab": {
          "base_uri": "https://localhost:8080/"
        },
        "outputId": "fec1049f-39e9-4692-f965-27bfa238a991"
      },
      "source": [
        "#Torres de Hanoi - Divide y venceras\n",
        "################################################################################\n",
        "\n",
        "################################################################\n",
        "def Torres_Hanoi(N, desde, hasta):\n",
        "  #N - Nº de fichas\n",
        "  #desde - torre inicial\n",
        "  #hasta - torre fina\n",
        "  if N==1 :\n",
        "    print(\"Lleva la ficha desde \" + str(desde) + \" hasta \" + str(hasta))\n",
        "\n",
        "  else:\n",
        "    Torres_Hanoi(N-1, desde, 6-desde-hasta)\n",
        "    print(\"Lleva la ficha desde \" + str(desde) + \" hasta \" + str(hasta))\n",
        "    Torres_Hanoi(N-1, 6-desde-hasta,  hasta)\n",
        "\n",
        "Torres_Hanoi(4, 1, 3)\n",
        "################################################################"
      ],
      "execution_count": 1,
      "outputs": [
        {
          "output_type": "stream",
          "name": "stdout",
          "text": [
            "Lleva la ficha desde 1 hasta 2\n",
            "Lleva la ficha desde 1 hasta 3\n",
            "Lleva la ficha desde 2 hasta 3\n",
            "Lleva la ficha desde 1 hasta 2\n",
            "Lleva la ficha desde 3 hasta 1\n",
            "Lleva la ficha desde 3 hasta 2\n",
            "Lleva la ficha desde 1 hasta 2\n",
            "Lleva la ficha desde 1 hasta 3\n",
            "Lleva la ficha desde 2 hasta 3\n",
            "Lleva la ficha desde 2 hasta 1\n",
            "Lleva la ficha desde 3 hasta 1\n",
            "Lleva la ficha desde 2 hasta 3\n",
            "Lleva la ficha desde 1 hasta 2\n",
            "Lleva la ficha desde 1 hasta 3\n",
            "Lleva la ficha desde 2 hasta 3\n"
          ]
        }
      ]
    },
    {
      "cell_type": "code",
      "metadata": {
        "id": "UTL6wiczQVDA"
      },
      "source": [
        ""
      ],
      "execution_count": null,
      "outputs": []
    },
    {
      "cell_type": "code",
      "metadata": {
        "id": "YwBudj2hYoMR",
        "colab": {
          "base_uri": "https://localhost:8080/"
        },
        "outputId": "d88a8cf2-93a9-464c-fa1d-f887bdded9e0"
      },
      "source": [
        "#Cambio de monedas - Técnica voraz\n",
        "################################################################################\n",
        "SISTEMA = [10, 5 ,2, 1  ]\n",
        "################################################################\n",
        "def cambio_monedas(CANTIDAD,SISTEMA):\n",
        "#....\n",
        "  SOLUCION = [0]*len(SISTEMA)\n",
        "  ValorAcumulado = 0\n",
        "\n",
        "  for i,valor in enumerate(SISTEMA):\n",
        "    monedas = (CANTIDAD-ValorAcumulado)//valor\n",
        "    SOLUCION[i] = monedas\n",
        "    ValorAcumulado = ValorAcumulado + monedas*valor\n",
        "\n",
        "    if CANTIDAD == ValorAcumulado:\n",
        "      return SOLUCION\n",
        "\n",
        "  print(\"No es posible encontrar solucion\") \n",
        "\n",
        "  \n",
        "cambio_monedas(15,SISTEMA)\n",
        "\n",
        "    \n",
        "################################################################"
      ],
      "execution_count": 2,
      "outputs": [
        {
          "output_type": "execute_result",
          "data": {
            "text/plain": [
              "[1, 1, 0, 0]"
            ]
          },
          "metadata": {},
          "execution_count": 2
        }
      ]
    },
    {
      "cell_type": "markdown",
      "source": [
        "# PROBLEMA DE LAS N REINAS\n",
        "A continuación aporto mi propuesta de solución a este problema, utilizando la técnica de backtracking o \"vuelta atrás\".\n",
        "En mi propuesta, no se utiliza recursividad, minimizando así la ocupación de espacio en memoria a costa de una mayor complejidad en el manejo de los índices que recorren la tabla."
      ],
      "metadata": {
        "id": "zsvSG58RbAsn"
      }
    },
    {
      "cell_type": "code",
      "metadata": {
        "id": "H4Iwt2XRZTFr"
      },
      "source": [
        "#N Reinas - Vuelta Atrás()\n",
        "################################################################################\n",
        "\n",
        "# Función auxiliar que evalúa si una solución es válida\n",
        "def evalua(solucion):\n",
        "    evaluacion = True\n",
        "    N = len(solucion)\n",
        "    for i in range (0, N):\n",
        "        \n",
        "        #Comprueba si hay elementos fuera de rango \n",
        "        if (solucion[i] >N):\n",
        "            evaluacion = False\n",
        "            break\n",
        "        \n",
        "        #Comprueba reinas en la misma columna\n",
        "        if solucion.count(solucion[i]) > 1:\n",
        "            if (solucion[i]!=0):\n",
        "                evaluacion = False\n",
        "                break\n",
        "        else:\n",
        "        #Comprueba las diagonales\n",
        "            for j in range(i+1, N):\n",
        "                # print(\"Comprobando diagonal de \" + str(i) + \" y \" + str(j))\n",
        "                if (solucion[i] !=0 and solucion[j] !=0):\n",
        "                    if abs(i-j) == abs(solucion[i]-solucion[j]) :\n",
        "                        evaluacion = False\n",
        "                        break\n",
        "        # Si ya se ha descartado la solucion, no comprueba hasta el final\n",
        "        if (evaluacion == False):\n",
        "            break\n",
        "    return evaluacion\n",
        "      \n",
        "      \n",
        "# Algoritmo para encontrar las soluciones para dimensión n.\n",
        "# Se recorre la matriz con dos posiciones (f1,c1) y (f2,c2) \n",
        "# que avanzan o retroceden según recorren el espacio de soluciones.\n",
        "# Minimizo así la ocupación de espacio en memoria a costa de una mayor \n",
        "# complejidad en el manejo de los índices c1,f1, c2, f2.\n",
        "\n",
        "def reinas (n):\n",
        "    sol_parcial = [0 for i in range(n)]\n",
        "    soluciones = []\n",
        "    c1 = 1\n",
        "    c2 = 1\n",
        "    f1 = 1\n",
        "    f2 = 1\n",
        "\n",
        "    fin = False\n",
        "    \n",
        "    while (not fin):\n",
        "        sol_parcial[f1-1] = c1\n",
        "        sol_parcial[f2-1] = c2\n",
        "        \n",
        "        \n",
        "        if (evalua (sol_parcial)):\n",
        "            # La solucion provisional es prometedora\n",
        "           \n",
        "            if (f2 == n): # Se trata de una solucion definitiva\n",
        "                # print (sol_parcial)\n",
        "                soluciones.append (sol_parcial.copy())\n",
        "                c2 +=1\n",
        "                \n",
        "            else:\n",
        "                f2 +=1\n",
        "                f1 =f2 -1\n",
        "                c1 = c2\n",
        "                c2 = 1\n",
        "           \n",
        "                \n",
        "        else:\n",
        "            # La solucion provisional no es válida\n",
        "            c2 +=1\n",
        "            while c2 > n:\n",
        "                sol_parcial[f2-1]=0\n",
        "                c2 = c1 +1\n",
        "                \n",
        "                f2 -=1\n",
        "                f1 = f2 -1\n",
        "                \n",
        "                if (f1>0):\n",
        "                    c1 = sol_parcial[f1-1]\n",
        "                else:\n",
        "                    if c1 == n: # Se ha llegado al final de las iteraciones\n",
        "                        fin = True\n",
        "                        break\n",
        "                    f1 = 1\n",
        "                    c1 = c2\n",
        "                    \n",
        "    \n",
        "    return soluciones\n",
        "        \n"
      ],
      "execution_count": 3,
      "outputs": []
    },
    {
      "cell_type": "code",
      "source": [
        "###################################################\n",
        "### Pruebas del algoritmo #########################\n",
        "n = 8\n",
        "soluciones = reinas (n)\n",
        "\n",
        "# print (soluciones)\n",
        "print (f\"Para N = {n} hay un total de {len(soluciones)} soluciones \")\n",
        "\n",
        "\n",
        "### Comprobación de las soluciones ################\n",
        "\n",
        "# cont =0\n",
        "# for sol in soluciones:\n",
        "#     # print (sol)\n",
        "#     if (evalua(sol)):\n",
        "#         # print (\"NOK\")\n",
        "#         cont +=1\n",
        "\n",
        "# print (f\"Comprobadas {cont} soluciones\")\n"
      ],
      "metadata": {
        "id": "siewc2aNi-LL",
        "outputId": "322fb42e-042d-4e82-e958-75f87e232574",
        "colab": {
          "base_uri": "https://localhost:8080/"
        }
      },
      "execution_count": 4,
      "outputs": [
        {
          "output_type": "stream",
          "name": "stdout",
          "text": [
            "Para N = 8 hay un total de 92 soluciones \n"
          ]
        }
      ]
    },
    {
      "cell_type": "markdown",
      "source": [
        "# Problema: Encontrar los dos puntos más cercanos\n",
        "\n",
        "* Dado un conjunto de puntos se trata de encontrar los dos puntos más cercanos\n",
        "* Guía para aprendizaje:\n",
        "0. Suponer en 1D, o sea, una lista de números: [3403, 4537, 9089, 9746, 7259, ….\n",
        "1. Primer intento: Fuerza bruta\n",
        "2. Calcular la complejidad. ¿Se puede mejorar?\n",
        "3. Segundo intento. Aplicar Divide y Vencerás\n",
        "4. Calcular la complejidad. ¿Se puede mejorar?\n",
        "5. Extender el algoritmo a 2D: [(1122, 6175), (135, 4076), (7296, 2741)…\n",
        "6. Extender el algoritmo a 3D."
      ],
      "metadata": {
        "id": "kOI5JkHPlNLq"
      }
    },
    {
      "cell_type": "markdown",
      "source": [
        "## 1. PRIMER INTENTO: FUERZA BRUTA EN UNA DIMENSION"
      ],
      "metadata": {
        "id": "iyuXREYSluq9"
      }
    },
    {
      "cell_type": "code",
      "source": [
        "\n",
        "import random\n",
        "import numpy as np\n",
        "\n",
        "### Parámetros configurables del problema\n",
        "max_length = 10  # Máxima longitud de lista de elementos\n",
        "max_value = 1000 # Máximo valor de los elementos de la lista\n",
        "\n",
        "### Creación de lista aleatoria\n",
        "lista_1D = np.array ([np.random.randint(1, max_value) for x in range (max_length)])\n",
        "\n",
        "\n"
      ],
      "metadata": {
        "id": "Uf2033yslc7q"
      },
      "execution_count": 5,
      "outputs": []
    },
    {
      "cell_type": "code",
      "source": [
        "# Búsqueda de los elementos más próximos por fuerza bruta\n",
        "\n",
        "def find_closest_brute_force(lista):\n",
        "    dmin = np.inf\n",
        "    elem_1 = None\n",
        "    elem_2 = None\n",
        "    \n",
        "    for i, elem in enumerate (lista):\n",
        "        for j in range (i+1,len(lista)):\n",
        "            # print (f\"Comparing: {elem} - {lista[j]}\")\n",
        "            dist = abs(elem - lista[j])\n",
        "            if dist < dmin:\n",
        "                dmin = dist\n",
        "                elem_1 = elem\n",
        "                elem_2 = lista[j]\n",
        "                \n",
        "    return dmin, elem_1, elem_2"
      ],
      "metadata": {
        "id": "ySfpc_ydmw1O"
      },
      "execution_count": 6,
      "outputs": []
    },
    {
      "cell_type": "code",
      "source": [
        "###################################################\n",
        "### Pruebas del algoritmo #########################\n",
        "\n",
        "res = find_closest_brute_force (lista_1D)\n",
        "print (\"**** Por fuerza bruta:\")\n",
        "print (f\"dist = {res[0]} \\na = {res[1]} \\nb = {res[2]}\")\n"
      ],
      "metadata": {
        "id": "qamwMKEal6NL",
        "outputId": "d570fd68-adf6-4b38-ae64-5089c8c378d6",
        "colab": {
          "base_uri": "https://localhost:8080/"
        }
      },
      "execution_count": 7,
      "outputs": [
        {
          "output_type": "stream",
          "name": "stdout",
          "text": [
            "**** Por fuerza bruta:\n",
            "dist = 8 \n",
            "a = 458 \n",
            "b = 466\n"
          ]
        }
      ]
    },
    {
      "cell_type": "markdown",
      "source": [
        "* COMPLEJIDAD:\n",
        "A la vista del doble bucle presente en la función find_closest_brute_force, se deduce que la complejidad de este método es O(n**2)\n",
        "Intentemos mejorarla mediante un algoritmo del tipo \"divide y vencerás\""
      ],
      "metadata": {
        "id": "Ajwz0RZzltH7"
      }
    },
    {
      "cell_type": "markdown",
      "source": [
        "# 2. SEGUNDO INTENTO: DIVIDE Y VENCERÁS"
      ],
      "metadata": {
        "id": "NV1DUgXonu_I"
      }
    },
    {
      "cell_type": "code",
      "source": [
        "         \n",
        "# Algoritmo de búsqueda de los elementos más cercanos mediante la técnica de \"divide y vencerás\"\n",
        "def find_closest_divide_y_venceras (lista):\n",
        "  n = len (lista)\n",
        "  dist = np.inf\n",
        "  a = None\n",
        "  b = None\n",
        "\n",
        "  if (n>2):\n",
        "    mit = n//2\n",
        "    pivote = lista [mit]\n",
        "    \n",
        "    lat_izq = lista[:mit]\n",
        "    lat_dch = lista[mit+1:]\n",
        "    dii, a_i, b_i = find_closest_divide_y_venceras(lat_izq) #distancia interna izq\n",
        "    did, a_d, b_d = find_closest_divide_y_venceras(lat_dch) #distancia interna dcha\n",
        "    \n",
        "    dli, _ , eli = find_closest_brute_force ([pivote, lat_izq[-1]]) #distancia lateral izq, una única comparación\n",
        "    # print (f\"pivote={pivote} eli={eli} aux={aux}\")\n",
        "    dld, _ , eld = find_closest_brute_force ([pivote, lat_dch[0]]) #distancia lateral dcha, una única comparación\n",
        "    # print (f\"pivote={pivote} eld={eld} aux={aux}\")\n",
        "    \n",
        "    # Compara Lateral Izquierdo con Interno Izquierdo\n",
        "    if (dli < dii):\n",
        "      d_izq = dli\n",
        "      a_i = pivote\n",
        "      b_i = eli\n",
        "    else:\n",
        "      d_izq = dii\n",
        "\n",
        "    # Compara Lateral Derecho con Interno Derecho\n",
        "    if (dld < did):\n",
        "      d_dch = dld\n",
        "      a_d = pivote\n",
        "      b_d = eld\n",
        "    else:\n",
        "      d_dch = did\n",
        "    \n",
        "    # Compara Izquierda y Derecha\n",
        "    if d_izq < d_dch:\n",
        "      dist = d_izq\n",
        "      a = a_i\n",
        "      b = b_i\n",
        "    else:\n",
        "      dist = d_dch\n",
        "      a = a_d\n",
        "      b = b_d   \n",
        "        \n",
        "  else: #casos base n=2, n=1\n",
        "    if n==2:\n",
        "      a = lista[0]\n",
        "      b = lista[1]\n",
        "      dist = abs(a - b)\n",
        "    else:\n",
        "      if n==1:\n",
        "        a = lista[0]\n",
        "        b = a\n",
        "        dist = np.inf\n",
        "\n",
        "  return dist, a, b\n",
        "    "
      ],
      "metadata": {
        "id": "p2MJHHSDoC8r"
      },
      "execution_count": 8,
      "outputs": []
    },
    {
      "cell_type": "code",
      "source": [
        "###################################################\n",
        "### Pruebas del algoritmo #########################\n",
        "\n",
        "# El algoritmo requiere que la lista esté preordenada\n",
        "lista_1D = np.sort(lista_1D, kind='heapsort')\n",
        "\n",
        "res = find_closest_divide_y_venceras(lista_1D)\n",
        "print (\"**** Por \\\"divide y vencerás\\\":\")\n",
        "print (f\"dist = {res[0]} \\na = {res[1]} \\nb = {res[2]}\")\n",
        "\n"
      ],
      "metadata": {
        "id": "uzbntmfHzG_L",
        "outputId": "ebd27b53-f183-483e-e39a-4f23e8cf10d2",
        "colab": {
          "base_uri": "https://localhost:8080/"
        }
      },
      "execution_count": 9,
      "outputs": [
        {
          "output_type": "stream",
          "name": "stdout",
          "text": [
            "**** Por \"divide y vencerás\":\n",
            "dist = 8 \n",
            "a = 458 \n",
            "b = 466\n"
          ]
        }
      ]
    },
    {
      "cell_type": "markdown",
      "source": [
        "# COMPLEJIDAD:\n",
        "Este algoritmo requiere una preordenación de la lista de elementos.\n",
        "La complejidad de la preordenación, al hacerla por heapsort, vendrá dada por O(n logn ) en el caso más desfavorable.\n",
        "En cuanto al algoritmo en sí, le es de aplicación la fórmula general de las ecuaciones en recurrencia:\n",
        "\n",
        "$$ T(n) = \\left\\{\n",
        "    \\begin{array}\\\\\n",
        "        c n^{k} & \\mbox{if } \\ 1 \\leq n \\lt k \\\\\n",
        "        a T(n/2) + c n^{k} & \\mbox{if } \\ n \\geq b \n",
        "    \\end{array}\n",
        "\\right. $$\n",
        "\n",
        "En nuestro caso, haciendo recuento del número de operaciones tanto en el propio algoritmo como en las subllamadas a funciones que hay dentro de la función principal, tenemos que:\n",
        "\n",
        "$$ T(n) = 2T(n/2) + 25 + 2 * 14 = 2T(n/2) + 53 $$\n",
        "\n",
        "Con lo cual $$ a=2, b=2, c=53, k=0 $$\n",
        "\n",
        "Y por tanto la solución es que:\n",
        "\n",
        "$$ T(n) = O(n) $$ ya que $$ a>b^{k} \\ \\  (2 \\gt 2^{0}) $$\n",
        "\n",
        "\n",
        "De modo que hemos conseguido una complejidad lineal a costa de una preordenación de los elementos de la lista de entrada, que al realizarse mediante heapsort es de complejidad cuasilineal O(n logn), siendo en este caso el término más costoso y por tanto el predominante."
      ],
      "metadata": {
        "id": "xPFl95i01ZV0"
      }
    },
    {
      "cell_type": "markdown",
      "source": [
        "# EXTENSIÓN DEL ALGORITMO A MÁS DIMENSIONES\n",
        "\n",
        "Me he basado en la implementación que he encontrado en el siguiente\n",
        "[enlace](https://www.geeksforgeeks.org/closest-pair-of-points-onlogn-implementation/)\n",
        "\n",
        "La cual tiene una complejidad de O(n logn ), al aplicar algunas optimizaciones de búsqueda, la más importante de las cuales se detalla en este [documento](http://people.csail.mit.edu/indyk/6.838-old/handouts/lec17.pdf) y consiste en limitar la búsqueda dentro de la franja fronteriza a aquellos puntos que se encuentren unos con otros a una distancia inferior a la dmin encontrada hasta el momento. Se demuestra que, de esa manera, para el caso de dos dimensiones, el número de comprobaciones pasa de k**2 (k elementos en la franja) a solamente 6, reduciendo considerablemente el proceso de búsqueda. \n",
        "\n",
        "Por otra parte, siendo cuidadoso con la implementación, he conseguido que la misma solución sea válida para cualquier número de dimensiones (1D, 2D, 3D, 4D...)"
      ],
      "metadata": {
        "id": "75WYEFdm1-a1"
      }
    },
    {
      "cell_type": "code",
      "source": [
        "\n",
        "import random\n",
        "import numpy as np\n",
        "\n",
        "\n",
        "# Clase Points, que implementa los algoritmos especificados\n",
        "class Points():\n",
        "  # Constructor de la clase\n",
        "  def __init__(self,lista):\n",
        "    # Para el correcto funcionamiento del algoritmo, los puntos \n",
        "    # deben preordenarse según su coordenada X.\n",
        "    self.points = lista[lista[:,0].argsort(kind = 'heapsort')]\n",
        "    self.ndim = len(lista[0])        \n",
        "    self.dmin = np.inf\n",
        "    self.a = None\n",
        "    self.b = None\n",
        "  \n",
        "  # Función auxiliar para limpiar el objeto de resultados anteriores\n",
        "  def clear(self):\n",
        "        self.dmin = np.inf\n",
        "        self.a = None\n",
        "        self.b = None\n",
        "\n",
        "  #Función auxiliar que calcula la distancia euclidea. \n",
        "  # La ventaja de centralizarla aquí es que en caso de necesitar \n",
        "  # otra métrica de distancias, puede modificarse el código de \n",
        "  # forma controlada\n",
        "  def eucl_dist (self, a, b):\n",
        "    return np.sqrt(np.sum((a - b)**2))\n",
        "\n",
        "  #Función que calcula la mínima distancia entre dos puntos de un conjunto\n",
        "  # por fuerza bruta\n",
        "  def brute_force(self, lista):\n",
        "    dmin = self.dmin\n",
        "    elem_1 = None\n",
        "    elem_2 = None\n",
        "        \n",
        "    for i, elem in enumerate (lista):\n",
        "      for j in range (i+1,len(lista)):\n",
        "        dist = self.eucl_dist(elem, lista[j])\n",
        "        if dist < dmin:\n",
        "          dmin = dist\n",
        "          elem_1 = elem\n",
        "          elem_2 = lista[j]\n",
        "        \n",
        "        \n",
        "    return elem_1, elem_2, dmin\n",
        "\n",
        "  # Función auxiliar que evalua la mínima distancia en la franja divisoria.\n",
        "  def evalua_franja(self, lista):\n",
        "    ndim = self.ndim\n",
        "    if (ndim >1): #ordena por componente eje Y (IMPORTANTE (*) )\n",
        "      lista = lista[lista[:,1].argsort(kind = 'heapsort')]\n",
        "    \n",
        "    dist = np.inf\n",
        "    a = None\n",
        "    b = None\n",
        "    evalua_punto = False\n",
        "      \n",
        "    for i in range (len(lista)):\n",
        "      \n",
        "      # Aparentemente este bucle anidado es O(n**2), pero realmente \n",
        "      # el cálculo de la distancia euclídea se realiza en muy pocas \n",
        "      # ocasiones, tras hacer la comprobación previa de la distancia.\n",
        "      # Puede demostrarse que para 2 dimensiones, se contemplan como \n",
        "      # mucho 6 puntos. Para ello es necesario hacer (*)\n",
        "      # Esta consideración acelera notablemente el proceso de búsqueda.\n",
        "      for j in range (i+1,len(lista)):\n",
        "              \n",
        "        # Este barrido por todas las dimensiones permite que \n",
        "        # el algoritmo sea el mismo para 1, 2, 3, ... n dimensiones\n",
        "        for dim in range(ndim):\n",
        "          if (abs( lista[i][dim] - lista[j][dim] )<self.dmin):\n",
        "            evalua_punto = True\n",
        "          else:\n",
        "            evalua_punto = False\n",
        "            break #no se evalua este punto\n",
        "              \n",
        "          if (evalua_punto):\n",
        "            evalua_punto = False\n",
        "                  \n",
        "            d = self.eucl_dist(lista[i], lista[j])\n",
        "            if d < dist:\n",
        "              dist = d\n",
        "              a = lista[i]\n",
        "              b = lista[j]\n",
        "\n",
        "    return a,b,dist\n",
        "\n",
        "\n",
        "  # Función que realiza la búsqueda de la mínima distancia entre dos puntos \n",
        "  # de un conjunto mediante la técnica de \"divide y vencerás\"\n",
        "  def divide_conquer(self,lista,dmin):\n",
        "    n = len(lista)\n",
        "    # Punto medio de la lista\n",
        "    mid = n//2;\n",
        "    mid_point = lista[mid]\n",
        "        \n",
        "    if n<=3:\n",
        "      a,b,d = self.brute_force(lista)\n",
        "           \n",
        "    else:        \n",
        "      # 1. Primera parte: dividir el conjunto en dos partes\n",
        "      # y evaluar recursivamente por separado\n",
        "            \n",
        "      #1.1 Izquierda\n",
        "      lista_i = lista[:mid]\n",
        "      a_i, b_i, d_i = self.divide_conquer(lista_i,self.dmin)\n",
        "      #1.2 Derecha\n",
        "      lista_d = lista[mid:]\n",
        "      a_d, b_d, d_d = self.divide_conquer(lista_d,self.dmin)\n",
        "\n",
        "      #1.3 Selección de los mejores resultados \n",
        "      if (d_i < d_d):\n",
        "        a = a_i\n",
        "        b = b_i \n",
        "        d = d_i\n",
        "      else: #(d_i >= d_d)\n",
        "        a = a_d\n",
        "        b = b_d \n",
        "        d = d_d\n",
        "                \n",
        "      # 2 Segunda parte: Análisis de la franja fronteriza entre ambas regiones\n",
        "            \n",
        "      #2.1 Construcción del conjunto de valores en dicha franja\n",
        "      franja = np.array([])\n",
        "      \n",
        "      for elem in lista:\n",
        "        if (abs(elem[0]-mid_point[0]) < d):\n",
        "          franja = np.append (franja, elem)\n",
        "      \n",
        "      franja = franja.reshape((int(len(franja)/len(elem)),len(elem) ))        \n",
        "          \n",
        "      #2.2 Evaluación de la franja fronteriza\n",
        "      a,b,d = self.evalua_franja (franja)\n",
        "        \n",
        "      # 3. Tercera Parte: Almacenamiento de los mejores resultados\n",
        "      if (self.dmin > d):\n",
        "        self.a = a\n",
        "        self.b = b\n",
        "        self.dmin = d\n",
        "\n",
        "            \n",
        "    # 4. Retornar resultados\n",
        "    return self.a, self.b, self.dmin"
      ],
      "metadata": {
        "id": "FqTJF7Gt3kvR"
      },
      "execution_count": 11,
      "outputs": []
    },
    {
      "cell_type": "code",
      "source": [
        "\n",
        "###################################################\n",
        "### Funciones auxiliares ##########################\n",
        "\n",
        "\n",
        "# Función que genera un array de puntos de ndim dimensiones, \n",
        "# con longitud max_length y un valor máximo de max_value en cada coordenada\n",
        "def genera_puntos (max_length, max_value, ndim):\n",
        "    array = np.array ([[np.random.randint(0, max_value)] \n",
        "                       for x in range (ndim*max_length)])\n",
        "    return array.reshape((max_length,ndim))\n",
        "\n"
      ],
      "metadata": {
        "id": "r03cuQD_6DXQ"
      },
      "execution_count": 13,
      "outputs": []
    },
    {
      "cell_type": "code",
      "source": [
        "\n",
        "###################################################\n",
        "### Parametrización de la prueba ##################\n",
        "\n",
        "\n",
        "# Parámetros generales de la prueba\n",
        "max_length = 10 # Número de puntos\n",
        "max_value = 100 # Máximo valor en cada coordenada\n",
        "ndim = 3 # Número de dimensiones\n"
      ],
      "metadata": {
        "id": "iTH-P5lO6dtE"
      },
      "execution_count": 14,
      "outputs": []
    },
    {
      "cell_type": "code",
      "source": [
        "\n",
        "# Generación del conjunto aleatorio de puntos\n",
        "array_puntos = genera_puntos (max_length, max_value, ndim)\n",
        "\n",
        "\n",
        "# Creación del objeto Points\n",
        "P = Points(array_puntos)\n",
        "\n",
        "# Divide y vencerás\n",
        "P.divide_conquer(P.points, P.dmin)\n",
        "print (\"**** Por \\\"divide y vencerás\\\":\")\n",
        "print (f\"dist = {P.dmin} \\na = {P.a} \\nb = {P.b}\")\n",
        "\n",
        "P.clear()\n",
        "\n",
        "# Fuerza bruta\n",
        "P.a, P.b, P.dmin = P.brute_force(P.points)\n",
        "print (\"**** Por fuerza bruta:\")\n",
        "print (f\"dist = {P.dmin} \\na = {P.a} \\nb = {P.b}\")\n"
      ],
      "metadata": {
        "id": "PmBtm5PT6nxS",
        "outputId": "9edc0e91-75ab-4ec2-fe20-e5c0be7c6d7d",
        "colab": {
          "base_uri": "https://localhost:8080/"
        }
      },
      "execution_count": 16,
      "outputs": [
        {
          "output_type": "stream",
          "name": "stdout",
          "text": [
            "**** Por \"divide y vencerás\":\n",
            "dist = 30.14962686336267 \n",
            "a = [ 7. 12. 36.] \n",
            "b = [ 4. 30. 60.]\n",
            "**** Por fuerza bruta:\n",
            "dist = 30.14962686336267 \n",
            "a = [ 4 30 60] \n",
            "b = [ 7 12 36]\n"
          ]
        }
      ]
    }
  ]
}
